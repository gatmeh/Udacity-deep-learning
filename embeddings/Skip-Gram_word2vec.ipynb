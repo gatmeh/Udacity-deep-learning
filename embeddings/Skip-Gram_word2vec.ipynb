{
 "cells": [
  {
   "cell_type": "markdown",
   "metadata": {},
   "source": [
    "\n",
    "# Skip-gram word2vec\n",
    "\n",
    "In this notebook, I'll lead you through using TensorFlow to implement the word2vec algorithm using the skip-gram architecture. By implementing this, you'll learn about embedding words for use in natural language processing. This will come in handy when dealing with things like machine translation.\n",
    "\n",
    "## Readings\n",
    "\n",
    "Here are the resources I used to build this notebook. I suggest reading these either beforehand or while you're working on this material.\n",
    "\n",
    "* A really good [conceptual overview](http://mccormickml.com/2016/04/19/word2vec-tutorial-the-skip-gram-model/) of word2vec from Chris McCormick \n",
    "* [First word2vec paper](https://arxiv.org/pdf/1301.3781.pdf) from Mikolov et al.\n",
    "* [NIPS paper](http://papers.nips.cc/paper/5021-distributed-representations-of-words-and-phrases-and-their-compositionality.pdf) with improvements for word2vec also from Mikolov et al.\n",
    "* An [implementation of word2vec](http://www.thushv.com/natural_language_processing/word2vec-part-1-nlp-with-deep-learning-with-tensorflow-skip-gram/) from Thushan Ganegedara\n",
    "* TensorFlow [word2vec tutorial](https://www.tensorflow.org/tutorials/word2vec)\n",
    "\n",
    "## Word embeddings\n",
    "\n",
    "When you're dealing with words in text, you end up with tens of thousands of classes to predict, one for each word. Trying to one-hot encode these words is massively inefficient, you'll have one element set to 1 and the other 50,000 set to 0. The matrix multiplication going into the first hidden layer will have almost all of the resulting values be zero. This a huge waste of computation. \n",
    "\n",
    "![one-hot encodings](assets/one_hot_encoding.png)\n",
    "\n",
    "To solve this problem and greatly increase the efficiency of our networks, we use what are called embeddings. Embeddings are just a fully connected layer like you've seen before. We call this layer the embedding layer and the weights are embedding weights. We skip the multiplication into the embedding layer by instead directly grabbing the hidden layer values from the weight matrix. We can do this because the multiplication of a one-hot encoded vector with a matrix returns the row of the matrix corresponding the index of the \"on\" input unit.\n",
    "\n",
    "![lookup](assets/lookup_matrix.png)\n",
    "\n",
    "Instead of doing the matrix multiplication, we use the weight matrix as a lookup table. We encode the words as integers, for example \"heart\" is encoded as 958, \"mind\" as 18094. Then to get hidden layer values for \"heart\", you just take the 958th row of the embedding matrix. This process is called an **embedding lookup** and the number of hidden units is the **embedding dimension**.\n",
    "\n",
    "<img src='assets/tokenize_lookup.png' width=500>\n",
    " \n",
    "There is nothing magical going on here. The embedding lookup table is just a weight matrix. The embedding layer is just a hidden layer. The lookup is just a shortcut for the matrix multiplication. The lookup table is trained just like any weight matrix as well.\n",
    "\n",
    "Embeddings aren't only used for words of course. You can use them for any model where you have a massive number of classes. A particular type of model called **Word2Vec** uses the embedding layer to find vector representations of words that contain semantic meaning.\n",
    "\n"
   ]
  },
  {
   "cell_type": "markdown",
   "metadata": {},
   "source": [
    "## Word2Vec\n",
    "\n",
    "The word2vec algorithm finds much more efficient representations by finding vectors that represent the words. These vectors also contain semantic information about the words. Words that show up in similar contexts, such as \"black\", \"white\", and \"red\" will have vectors near each other. There are two architectures for implementing word2vec, CBOW (Continuous Bag-Of-Words) and Skip-gram.\n",
    "\n",
    "<img src=\"assets/word2vec_architectures.png\" width=\"500\">\n",
    "\n",
    "In this implementation, we'll be using the skip-gram architecture because it performs better than CBOW. Here, we pass in a word and try to predict the words surrounding it in the text. In this way, we can train the network to learn representations for words that show up in similar contexts.\n",
    "\n",
    "First up, importing packages."
   ]
  },
  {
   "cell_type": "code",
   "execution_count": 1,
   "metadata": {
    "collapsed": true
   },
   "outputs": [],
   "source": [
    "import time\n",
    "\n",
    "import numpy as np\n",
    "import tensorflow as tf\n",
    "\n",
    "import utils"
   ]
  },
  {
   "cell_type": "markdown",
   "metadata": {},
   "source": [
    "Load the [text8 dataset](http://mattmahoney.net/dc/textdata.html), a file of cleaned up Wikipedia articles from Matt Mahoney. The next cell will download the data set to the `data` folder. Then you can extract it and delete the archive file to save storage space."
   ]
  },
  {
   "cell_type": "code",
   "execution_count": 2,
   "metadata": {
    "collapsed": true
   },
   "outputs": [],
   "source": [
    "from urllib.request import urlretrieve\n",
    "from os.path import isfile, isdir\n",
    "from tqdm import tqdm\n",
    "import zipfile\n",
    "\n",
    "dataset_folder_path = 'data'\n",
    "dataset_filename = 'text8.zip'\n",
    "dataset_name = 'Text8 Dataset'\n",
    "\n",
    "class DLProgress(tqdm):\n",
    "    last_block = 0\n",
    "\n",
    "    def hook(self, block_num=1, block_size=1, total_size=None):\n",
    "        self.total = total_size\n",
    "        self.update((block_num - self.last_block) * block_size)\n",
    "        self.last_block = block_num\n",
    "\n",
    "if not isfile(dataset_filename):\n",
    "    with DLProgress(unit='B', unit_scale=True, miniters=1, desc=dataset_name) as pbar:\n",
    "        urlretrieve(\n",
    "            'http://mattmahoney.net/dc/text8.zip',\n",
    "            dataset_filename,\n",
    "            pbar.hook)\n",
    "\n",
    "if not isdir(dataset_folder_path):\n",
    "    with zipfile.ZipFile(dataset_filename) as zip_ref:\n",
    "        zip_ref.extractall(dataset_folder_path)\n",
    "        \n",
    "with open('data/text8') as f:\n",
    "    text = f.read()"
   ]
  },
  {
   "cell_type": "markdown",
   "metadata": {},
   "source": [
    "## Preprocessing\n",
    "\n",
    "Here I'm fixing up the text to make training easier. This comes from the `utils` module I wrote. The `preprocess` function coverts any punctuation into tokens, so a period is changed to ` <PERIOD> `. In this data set, there aren't any periods, but it will help in other NLP problems. I'm also removing all words that show up five or fewer times in the dataset. This will greatly reduce issues due to noise in the data and improve the quality of the vector representations. If you want to write your own functions for this stuff, go for it."
   ]
  },
  {
   "cell_type": "code",
   "execution_count": 3,
   "metadata": {},
   "outputs": [
    {
     "name": "stdout",
     "output_type": "stream",
     "text": [
      "['anarchism', 'originated', 'as', 'a', 'term', 'of', 'abuse', 'first', 'used', 'against', 'early', 'working', 'class', 'radicals', 'including', 'the', 'diggers', 'of', 'the', 'english', 'revolution', 'and', 'the', 'sans', 'culottes', 'of', 'the', 'french', 'revolution', 'whilst']\n"
     ]
    }
   ],
   "source": [
    "words = utils.preprocess(text)\n",
    "print(words[:30])"
   ]
  },
  {
   "cell_type": "code",
   "execution_count": 4,
   "metadata": {},
   "outputs": [
    {
     "name": "stdout",
     "output_type": "stream",
     "text": [
      "Total words: 16680599\n",
      "Unique words: 63641\n"
     ]
    }
   ],
   "source": [
    "print(\"Total words: {}\".format(len(words)))\n",
    "print(\"Unique words: {}\".format(len(set(words))))"
   ]
  },
  {
   "cell_type": "markdown",
   "metadata": {},
   "source": [
    "And here I'm creating dictionaries to covert words to integers and backwards, integers to words. The integers are assigned in descending frequency order, so the most frequent word (\"the\") is given the integer 0 and the next most frequent is 1 and so on. The words are converted to integers and stored in the list `int_words`."
   ]
  },
  {
   "cell_type": "code",
   "execution_count": 5,
   "metadata": {
    "collapsed": true
   },
   "outputs": [],
   "source": [
    "vocab_to_int, int_to_vocab = utils.create_lookup_tables(words)\n",
    "int_words = [vocab_to_int[word] for word in words]"
   ]
  },
  {
   "cell_type": "markdown",
   "metadata": {},
   "source": [
    "## Subsampling\n",
    "\n",
    "Words that show up often such as \"the\", \"of\", and \"for\" don't provide much context to the nearby words. If we discard some of them, we can remove some of the noise from our data and in return get faster training and better representations. This process is called subsampling by Mikolov. For each word $w_i$ in the training set, we'll discard it with probability given by \n",
    "\n",
    "$$ P(w_i) = 1 - \\sqrt{\\frac{t}{f(w_i)}} $$\n",
    "\n",
    "where $t$ is a threshold parameter and $f(w_i)$ is the frequency of word $w_i$ in the total dataset.\n",
    "\n",
    "I'm going to leave this up to you as an exercise. This is more of a programming challenge, than about deep learning specifically. But, being able to prepare your data for your network is an important skill to have. Check out my solution to see how I did it.\n",
    "\n",
    "> **Exercise:** Implement subsampling for the words in `int_words`. That is, go through `int_words` and discard each word given the probablility $P(w_i)$ shown above. Note that $P(w_i)$ is the probability that a word is discarded. Assign the subsampled data to `train_words`."
   ]
  },
  {
   "cell_type": "code",
   "execution_count": 6,
   "metadata": {},
   "outputs": [
    {
     "name": "stdout",
     "output_type": "stream",
     "text": [
      "0\n",
      "to\n"
     ]
    }
   ],
   "source": [
    "## Your code here\n",
    "from collections import Counter\n",
    "import random\n",
    "print(vocab_to_int.get(\"the\"))\n",
    "print(int_to_vocab.get(6))\n",
    "word_counts = Counter(int_words)\n",
    "tota_count = len(int_words)"
   ]
  },
  {
   "cell_type": "code",
   "execution_count": 7,
   "metadata": {},
   "outputs": [
    {
     "name": "stdout",
     "output_type": "stream",
     "text": [
      "word: the, count: 1061396, drop prob 0.9874637657774047, \n",
      "word: of, count: 593677, drop prob 0.9832378119313352, \n",
      "word: and, count: 416629, drop prob 0.9799907379071721, \n",
      "word: one, count: 411764, drop prob 0.9798728800896066, \n",
      "word: in, count: 372201, drop prob 0.9788301854663046, \n",
      "word: a, count: 325873, drop prob 0.9773753623879587, \n",
      "word: to, count: 316376, drop prob 0.9770382990950545, \n",
      "word: zero, count: 264975, drop prob 0.9749098434772655, \n",
      "word: nine, count: 250430, drop prob 0.9741915071088051, \n",
      "word: two, count: 192644, drop prob 0.9705742136473304, \n",
      "word: is, count: 183153, drop prob 0.9698214198790636, \n",
      "word: as, count: 131815, drop prob 0.9644267615025448, \n",
      "word: eight, count: 125285, drop prob 0.9635114771475181, \n",
      "word: for, count: 118445, drop prob 0.96247268826339, \n",
      "word: s, count: 116710, drop prob 0.9621947785359933, \n",
      "word: five, count: 115789, drop prob 0.9620447226365045, \n",
      "word: three, count: 114775, drop prob 0.9618774300187746, \n",
      "word: was, count: 112807, drop prob 0.9615463298924405, \n",
      "word: by, count: 111831, drop prob 0.9613788930888291, \n",
      "word: that, count: 109510, drop prob 0.9609717631821799, \n",
      "word: four, count: 108182, drop prob 0.9607329461531353, \n",
      "word: six, count: 102145, drop prob 0.9595892170706367, \n",
      "word: seven, count: 99683, drop prob 0.9590932222565114, \n",
      "word: with, count: 95603, drop prob 0.9582294627884679, \n",
      "word: on, count: 91250, drop prob 0.9572447564699361, \n",
      "word: are, count: 76527, drop prob 0.9533127303087054, \n",
      "word: it, count: 73334, drop prob 0.9523071655474, \n",
      "word: from, count: 72871, drop prob 0.952155892625934, \n",
      "word: or, count: 68945, drop prob 0.9508125358605267, \n",
      "word: his, count: 62603, drop prob 0.9483811590967528, \n",
      "word: an, count: 61925, drop prob 0.9480993480329353, \n",
      "word: be, count: 61281, drop prob 0.9478273496542321, \n",
      "word: this, count: 58832, drop prob 0.946752525433321, \n",
      "word: which, count: 54788, drop prob 0.9448223630306357, \n",
      "word: at, count: 54576, drop prob 0.94471529837599, \n",
      "word: he, count: 53573, drop prob 0.9442001749064936, \n",
      "word: also, count: 44358, drop prob 0.938677501290233, \n",
      "word: not, count: 44033, drop prob 0.938451611928361, \n",
      "word: have, count: 39712, drop prob 0.9351895642928458, \n",
      "word: were, count: 39086, drop prob 0.9346726250628052, \n",
      "word: has, count: 37866, drop prob 0.9336285805499689, \n",
      "word: but, count: 35358, drop prob 0.9313149884988742, \n",
      "word: other, count: 32433, drop prob 0.9282846272581001, \n",
      "word: their, count: 31523, drop prob 0.9272568589357053, \n",
      "word: its, count: 29567, drop prob 0.9248892341145937, \n",
      "word: first, count: 28810, drop prob 0.9239088422795724, \n",
      "word: they, count: 28553, drop prob 0.9235671685358116, \n",
      "word: some, count: 28161, drop prob 0.9230370360288098, \n",
      "word: had, count: 28100, drop prob 0.9229535450020054, \n",
      "word: all, count: 26229, drop prob 0.9202528897951109, \n",
      "word: more, count: 26223, drop prob 0.9202437669774634, \n",
      "word: most, count: 25563, drop prob 0.9192207324390971, \n",
      "word: can, count: 25519, drop prob 0.9191511224032132, \n",
      "word: been, count: 25383, drop prob 0.9189348209710559, \n",
      "word: such, count: 24413, drop prob 0.9173400295897148, \n",
      "word: many, count: 24096, drop prob 0.9167980808758023, \n",
      "word: who, count: 23997, drop prob 0.9166266321110723, \n",
      "word: new, count: 23770, drop prob 0.9162294763592376, \n",
      "word: used, count: 22737, drop prob 0.9143476584471071, \n",
      "word: there, count: 22707, drop prob 0.9142910961074863, \n",
      "word: after, count: 21125, drop prob 0.9111397640197735, \n",
      "word: when, count: 20623, drop prob 0.9100647595426637, \n",
      "word: into, count: 20484, drop prob 0.9097601348891545, \n",
      "word: american, count: 20477, drop prob 0.9097447120957617, \n",
      "word: time, count: 20412, drop prob 0.9096011217876584, \n",
      "word: these, count: 19864, drop prob 0.9083626613630627, \n",
      "word: only, count: 19463, drop prob 0.9074234633036611, \n",
      "word: see, count: 19206, drop prob 0.9068061274220388, \n",
      "word: may, count: 19115, drop prob 0.9065845586802949, \n",
      "word: than, count: 18807, drop prob 0.9058227382935022, \n",
      "word: world, count: 17949, drop prob 0.9035980780914467, \n",
      "word: i, count: 17581, drop prob 0.9025943757290631, \n",
      "word: b, count: 17516, drop prob 0.9024138121672924, \n",
      "word: would, count: 17377, drop prob 0.9020242897462065, \n",
      "word: d, count: 17236, drop prob 0.9016243582828168, \n",
      "word: no, count: 16155, drop prob 0.8983862825676984, \n",
      "word: however, count: 15861, drop prob 0.8974488491479711, \n",
      "word: between, count: 15737, drop prob 0.8970456150104587, \n",
      "word: about, count: 15574, drop prob 0.8965082487782162, \n",
      "word: over, count: 15122, drop prob 0.8949729410546994, \n",
      "word: years, count: 14935, drop prob 0.8943174685407228, \n",
      "word: states, count: 14916, drop prob 0.8942501807602439, \n",
      "word: people, count: 14696, drop prob 0.8934615805814926, \n",
      "word: war, count: 14629, drop prob 0.89321788929129, \n",
      "word: during, count: 14578, drop prob 0.8930312679112721, \n",
      "word: united, count: 14494, drop prob 0.8927217469923512, \n",
      "word: known, count: 14437, drop prob 0.8925101782228217, \n",
      "word: if, count: 14420, drop prob 0.8924468360341878, \n",
      "word: called, count: 14151, drop prob 0.8914293955850445, \n",
      "word: use, count: 14011, drop prob 0.8908883170301986, \n",
      "word: th, count: 13380, drop prob 0.888345105812089, \n",
      "word: system, count: 13296, drop prob 0.88799296064433, \n",
      "word: often, count: 12987, drop prob 0.8866683006653739, \n",
      "word: state, count: 12904, drop prob 0.8863044036750649, \n",
      "word: so, count: 12722, drop prob 0.8854940312292074, \n",
      "word: history, count: 12623, drop prob 0.8850458829722607, \n",
      "word: will, count: 12560, drop prob 0.8847579430594105, \n",
      "word: up, count: 12445, drop prob 0.8842267112009115, \n",
      "word: while, count: 12363, drop prob 0.8838434013266906, \n",
      "word: where, count: 12347, drop prob 0.8837681642700296, \n",
      "word: city, count: 12275, drop prob 0.8834277790878503, \n",
      "word: being, count: 11931, drop prob 0.881759189447861, \n",
      "word: english, count: 11868, drop prob 0.8814457705299201, \n",
      "word: then, count: 11847, drop prob 0.8813407423999388, \n",
      "word: any, count: 11803, drop prob 0.8811197752484013, \n",
      "word: both, count: 11755, drop prob 0.8808773066193323, \n",
      "word: under, count: 11753, drop prob 0.8808671715367105, \n",
      "word: out, count: 11721, drop prob 0.8807046575848325, \n",
      "word: made, count: 11701, drop prob 0.8806027479964418, \n",
      "word: well, count: 11537, drop prob 0.8797571186123696, \n",
      "word: her, count: 11536, drop prob 0.8797519070886316, \n",
      "word: e, count: 11426, drop prob 0.8791744693494259, \n",
      "word: number, count: 11399, drop prob 0.8790314585667304, \n",
      "word: government, count: 11323, drop prob 0.8786261669556572, \n",
      "word: them, count: 11285, drop prob 0.8784219875357633, \n",
      "word: m, count: 10976, drop prob 0.8767225132513359, \n",
      "word: later, count: 10971, drop prob 0.876694424780797, \n",
      "word: since, count: 10691, drop prob 0.8750901587888653, \n",
      "word: him, count: 10629, drop prob 0.8747263828222936, \n",
      "word: part, count: 10627, drop prob 0.8747145951377531, \n",
      "word: name, count: 10572, drop prob 0.8743891241565639, \n",
      "word: c, count: 10561, drop prob 0.8743237250450793, \n",
      "word: century, count: 10550, drop prob 0.874258223677267, \n",
      "word: through, count: 10371, drop prob 0.8731777353942534, \n",
      "word: because, count: 10332, drop prob 0.8729386040716179, \n",
      "word: x, count: 10307, drop prob 0.8727846014020373, \n",
      "word: university, count: 10195, drop prob 0.8720877300708387, \n",
      "word: early, count: 10172, drop prob 0.8719431999366315, \n",
      "word: life, count: 10096, drop prob 0.8714621148610017, \n",
      "word: british, count: 10056, drop prob 0.8712067244142081, \n",
      "word: year, count: 9858, drop prob 0.8699197346592423, \n",
      "word: like, count: 9854, drop prob 0.8698933358227776, \n",
      "word: same, count: 9774, drop prob 0.869361960672173, \n",
      "word: including, count: 9633, drop prob 0.8684093473492618, \n",
      "word: became, count: 9591, drop prob 0.8681215374230149, \n",
      "word: example, count: 9539, drop prob 0.8677625710945559, \n",
      "word: day, count: 9534, drop prob 0.8677279004170231, \n",
      "word: each, count: 9500, drop prob 0.8674914143794528, \n",
      "word: even, count: 9412, drop prob 0.8668733934550807, \n",
      "word: work, count: 9388, drop prob 0.866703335979051, \n",
      "word: language, count: 9375, drop prob 0.8666109489750626, \n",
      "word: although, count: 9286, drop prob 0.8659732515984259, \n",
      "word: several, count: 9168, drop prob 0.865113489788644, \n",
      "word: form, count: 9133, drop prob 0.8648552770734446, \n",
      "word: john, count: 8956, drop prob 0.8635263589116017, \n",
      "word: u, count: 8928, drop prob 0.8633125220736596, \n",
      "word: national, count: 8904, drop prob 0.8631284311108742, \n",
      "word: very, count: 8861, drop prob 0.8627967329626443, \n",
      "word: much, count: 8822, drop prob 0.8624937956099825, \n",
      "word: g, count: 8773, drop prob 0.8621103223396003, \n",
      "word: french, count: 8736, drop prob 0.8618186254884372, \n",
      "word: before, count: 8700, drop prob 0.8615330281299884, \n",
      "word: general, count: 8659, drop prob 0.8612055976271445, \n",
      "word: what, count: 8581, drop prob 0.8605762145149576, \n",
      "word: t, count: 8491, drop prob 0.8598392539165522, \n",
      "word: against, count: 8432, drop prob 0.8593497455736082, \n",
      "word: n, count: 8372, drop prob 0.8588466430213741, \n",
      "word: high, count: 8337, drop prob 0.8585506616584566, \n",
      "word: links, count: 8312, drop prob 0.8583381027997188, \n",
      "word: could, count: 8304, drop prob 0.8582698813186631, \n",
      "word: based, count: 8244, drop prob 0.8577550589963036, \n",
      "word: those, count: 8209, drop prob 0.8574521428347324, \n",
      "word: now, count: 8206, drop prob 0.8574260884541879, \n",
      "word: second, count: 8110, drop prob 0.8565847303082252, \n",
      "word: de, count: 8002, drop prob 0.8556201628839449, \n",
      "word: music, count: 7987, drop prob 0.8554846500701614, \n",
      "word: another, count: 7933, drop prob 0.8549936256329249, \n",
      "word: large, count: 7898, drop prob 0.8546726828111916, \n",
      "word: she, count: 7896, drop prob 0.8546542787945043, \n",
      "word: f, count: 7878, drop prob 0.8544883273936882, \n",
      "word: external, count: 7862, drop prob 0.8543403368417277, \n",
      "word: german, count: 7858, drop prob 0.8543032685975449, \n",
      "word: different, count: 7797, drop prob 0.8537344481926634, \n",
      "word: modern, count: 7790, drop prob 0.853668746719035, \n",
      "word: great, count: 7770, drop prob 0.8534805392415316, \n",
      "word: do, count: 7763, drop prob 0.8534144948564969, \n",
      "word: common, count: 7698, drop prob 0.8527969299587603, \n",
      "word: set, count: 7682, drop prob 0.85264371308664, \n",
      "word: list, count: 7672, drop prob 0.8525477092410831, \n",
      "word: south, count: 7628, drop prob 0.8521230519412387, \n",
      "word: series, count: 7611, drop prob 0.8519579943988365, \n",
      "word: major, count: 7585, drop prob 0.8517044809321275, \n",
      "word: game, count: 7553, drop prob 0.8513906691402298, \n",
      "word: power, count: 7522, drop prob 0.8510847563189552, \n",
      "word: long, count: 7488, drop prob 0.8507470570734961, \n",
      "word: country, count: 7481, drop prob 0.850677245128849, \n",
      "word: king, count: 7456, drop prob 0.8504271147065035, \n",
      "word: law, count: 7435, drop prob 0.8502160309288087, \n",
      "word: group, count: 7417, drop prob 0.8500343889134532, \n",
      "word: film, count: 7400, drop prob 0.8498622299353025, \n",
      "word: still, count: 7378, drop prob 0.8496385533068163, \n",
      "word: until, count: 7368, drop prob 0.8495365510925932, \n",
      "word: north, count: 7328, drop prob 0.8491264564402088, \n",
      "word: international, count: 7262, drop prob 0.848442407190174, \n",
      "word: term, count: 7219, drop prob 0.8479917006734952, \n",
      "word: we, count: 7118, drop prob 0.846917047721936, \n",
      "word: end, count: 7113, drop prob 0.846863253240085, \n",
      "word: book, count: 7110, drop prob 0.8468309493167725, \n",
      "word: found, count: 7043, drop prob 0.8461041258436365, \n",
      "word: own, count: 7034, drop prob 0.846005702464067, \n",
      "word: political, count: 6970, drop prob 0.8453003140714279, \n",
      "word: party, count: 6943, drop prob 0.844999807185821, \n",
      "word: order, count: 6908, drop prob 0.8446076421213468, \n",
      "word: usually, count: 6872, drop prob 0.8442011507362858, \n",
      "word: president, count: 6865, drop prob 0.8441217396600371, \n",
      "word: church, count: 6786, drop prob 0.8432170277640401, \n",
      "word: you, count: 6690, drop prob 0.8420961343341233, \n",
      "word: death, count: 6684, drop prob 0.8420252777608171, \n",
      "word: theory, count: 6604, drop prob 0.841071315453586, \n",
      "word: area, count: 6591, drop prob 0.8409146582597645, \n",
      "word: around, count: 6576, drop prob 0.8407333230342031, \n",
      "word: include, count: 6531, drop prob 0.8401855740472339, \n",
      "word: god, count: 6518, drop prob 0.8400262803494654, \n",
      "word: ii, count: 6494, drop prob 0.8397309440002333, \n",
      "word: way, count: 6433, drop prob 0.8389728726654947, \n",
      "word: did, count: 6419, drop prob 0.8387973662075869, \n",
      "word: military, count: 6410, drop prob 0.83868423712788, \n",
      "word: population, count: 6400, drop prob 0.8385582583793769, \n",
      "word: using, count: 6384, drop prob 0.8383560770332512, \n",
      "word: though, count: 6362, drop prob 0.8380768332989615, \n",
      "word: small, count: 6361, drop prob 0.8380641059916751, \n",
      "word: following, count: 6300, drop prob 0.837282019217785, \n",
      "word: within, count: 6238, drop prob 0.8364753848022595, \n",
      "word: non, count: 6220, drop prob 0.8362389445571909, \n",
      "word: left, count: 6184, drop prob 0.835762970842619, \n",
      "word: human, count: 6184, drop prob 0.835762970842619, \n",
      "word: main, count: 6166, drop prob 0.8355234223379628, \n",
      "word: among, count: 6146, drop prob 0.8352560240510913, \n",
      "word: point, count: 6141, drop prob 0.8351889704539687, \n",
      "word: r, count: 6064, drop prob 0.8341458951279699, \n",
      "word: due, count: 6056, drop prob 0.8340363843171787, \n",
      "word: p, count: 6001, drop prob 0.833277579175048, \n",
      "word: considered, count: 5985, drop prob 0.8330548742224393, \n",
      "word: public, count: 5976, drop prob 0.8329292098269433, \n",
      "word: popular, count: 5967, drop prob 0.832803261229958, \n",
      "word: computer, count: 5874, drop prob 0.8314848893232791, \n",
      "word: west, count: 5862, drop prob 0.8313124953030799, \n",
      "word: family, count: 5857, drop prob 0.8312405081429317, \n",
      "word: east, count: 5854, drop prob 0.8311972715842504, \n",
      "word: information, count: 5844, drop prob 0.8310529093510617, \n",
      "word: important, count: 5843, drop prob 0.8310384527480618, \n",
      "word: european, count: 5806, drop prob 0.8305009356128805, \n",
      "word: man, count: 5778, drop prob 0.8300907384872678, \n",
      "word: sometimes, count: 5761, drop prob 0.8298402325235864, \n",
      "word: right, count: 5758, drop prob 0.8297959104648855, \n",
      "word: old, count: 5711, drop prob 0.8290969784948587, \n",
      "word: free, count: 5684, drop prob 0.8286915496792353, \n",
      "word: word, count: 5678, drop prob 0.8286010618921413, \n",
      "word: without, count: 5661, drop prob 0.828343899049687, \n",
      "word: last, count: 5654, drop prob 0.8282376715094264, \n",
      "word: us, count: 5652, drop prob 0.8282072845426268, \n",
      "word: members, count: 5634, drop prob 0.8279330741279552, \n",
      "word: given, count: 5605, drop prob 0.827488515424517, \n",
      "word: times, count: 5582, drop prob 0.8271334737402561, \n",
      "word: roman, count: 5468, drop prob 0.8253407591842307, \n",
      "word: make, count: 5450, drop prob 0.8250525688393089, \n",
      "word: h, count: 5404, drop prob 0.8243095517544075, \n",
      "word: age, count: 5350, drop prob 0.8234251158300644, \n",
      "word: place, count: 5345, drop prob 0.8233425463216144, \n",
      "word: l, count: 5343, drop prob 0.8233094860698645, \n",
      "word: thus, count: 5319, drop prob 0.8229113097588727, \n",
      "word: science, count: 5314, drop prob 0.822828017016277, \n",
      "word: case, count: 5289, drop prob 0.8224097831521665, \n",
      "word: become, count: 5268, drop prob 0.8220561683750636, \n",
      "word: systems, count: 5262, drop prob 0.8219547469751933, \n",
      "word: union, count: 5248, drop prob 0.8217174210065353, \n",
      "word: born, count: 5246, drop prob 0.8216834397655913, \n",
      "word: york, count: 5243, drop prob 0.8216324314517277, \n",
      "word: line, count: 5236, drop prob 0.8215132416164768, \n",
      "word: countries, count: 5231, drop prob 0.8214279595826632, \n",
      "word: does, count: 5221, drop prob 0.821257028136983, \n",
      "word: isbn, count: 5216, drop prob 0.8211713781383625, \n",
      "word: st, count: 5207, drop prob 0.8210168973688772, \n",
      "word: control, count: 5196, drop prob 0.8208275427471363, \n",
      "word: various, count: 5163, drop prob 0.8202558525257918, \n",
      "word: others, count: 5160, drop prob 0.8202036089125757, \n",
      "word: house, count: 5157, drop prob 0.820151319718192, \n",
      "word: article, count: 5143, drop prob 0.8199066988411224, \n",
      "word: island, count: 5124, drop prob 0.819573111158514, \n",
      "word: should, count: 5113, drop prob 0.8193791321377977, \n",
      "word: led, count: 5108, drop prob 0.8192907527872714, \n",
      "word: back, count: 5105, drop prob 0.8192376628638189, \n",
      "word: period, count: 5099, drop prob 0.8191313424916404, \n",
      "word: player, count: 5096, drop prob 0.8190781119050634, \n",
      "word: europe, count: 5094, drop prob 0.8190425987261769, \n",
      "word: languages, count: 5087, drop prob 0.8189181377132886, \n",
      "word: central, count: 5070, drop prob 0.8186148028542855, \n",
      "word: water, count: 5025, drop prob 0.8178044405301071, \n",
      "word: few, count: 5013, drop prob 0.8175865031801028, \n",
      "word: western, count: 5010, drop prob 0.8175318965341198, \n",
      "word: home, count: 5007, drop prob 0.817477240818212, \n",
      "word: began, count: 5004, drop prob 0.8174225359588445, \n",
      "word: generally, count: 4979, drop prob 0.816964741087347, \n",
      "word: less, count: 4974, drop prob 0.8168727681862548, \n",
      "word: k, count: 4970, drop prob 0.8167990899568349, \n",
      "word: similar, count: 4939, drop prob 0.8162250522422464, \n",
      "word: written, count: 4916, drop prob 0.8157956491274145, \n",
      "word: original, count: 4910, drop prob 0.8156831350066479, \n",
      "word: best, count: 4902, drop prob 0.8155327949612665, \n",
      "word: must, count: 4898, drop prob 0.8154574868523777, \n",
      "word: according, count: 4884, drop prob 0.8151931803042415, \n",
      "word: school, count: 4872, drop prob 0.8149657256708399, \n",
      "word: france, count: 4813, drop prob 0.8138350619265844, \n",
      "word: air, count: 4802, drop prob 0.8136219587485567, \n",
      "word: single, count: 4801, drop prob 0.8136025494237187, \n",
      "word: force, count: 4776, drop prob 0.8131153368968373, \n",
      "word: v, count: 4762, drop prob 0.812840823551573, \n",
      "word: land, count: 4755, drop prob 0.8127031124660212, \n",
      "word: groups, count: 4731, drop prob 0.8122286420730074, \n",
      "word: down, count: 4728, drop prob 0.8121690793885824, \n",
      "word: how, count: 4727, drop prob 0.8121492125610255, \n",
      "word: works, count: 4724, drop prob 0.8120895742334404, \n",
      "word: development, count: 4721, drop prob 0.8120298790683512, \n",
      "word: official, count: 4720, drop prob 0.8120099680338235, \n",
      "word: support, count: 4686, drop prob 0.8113292052259203, \n",
      "word: england, count: 4641, drop prob 0.8104167182257589, \n",
      "word: j, count: 4612, drop prob 0.8098216076890048, \n",
      "word: rather, count: 4605, drop prob 0.8096771187392884, \n",
      "word: data, count: 4586, drop prob 0.8092832682125413, \n",
      "word: space, count: 4586, drop prob 0.8092832682125413, \n",
      "word: greek, count: 4577, drop prob 0.8090958520417412, \n",
      "word: km, count: 4574, drop prob 0.8090332570956495, \n",
      "word: named, count: 4551, drop prob 0.8085513081109816, \n",
      "word: germany, count: 4539, drop prob 0.8082984035200227, \n",
      "word: just, count: 4528, drop prob 0.8080656916800768, \n",
      "word: games, count: 4527, drop prob 0.8080444940094262, \n",
      "word: said, count: 4483, drop prob 0.8071047863165925, \n",
      "word: version, count: 4472, drop prob 0.8068676950655268, \n",
      "word: late, count: 4471, drop prob 0.8068460979388242, \n",
      "word: earth, count: 4457, drop prob 0.8065429753861395, \n",
      "word: company, count: 4448, drop prob 0.8063473556269838, \n",
      "word: every, count: 4446, drop prob 0.8063038039241116, \n",
      "word: economic, count: 4435, drop prob 0.8060637431980097, \n",
      "word: short, count: 4433, drop prob 0.80601999982161, \n",
      "word: published, count: 4430, drop prob 0.8059543292221396, \n",
      "word: black, count: 4429, drop prob 0.8059324241963004, \n",
      "word: army, count: 4418, drop prob 0.8056909782697719, \n",
      "word: off, count: 4414, drop prob 0.8056029560583579, \n",
      "word: london, count: 4399, drop prob 0.8052718041904637, \n",
      "word: million, count: 4386, drop prob 0.8049834328363146, \n",
      "word: body, count: 4383, drop prob 0.8049167034700627, \n",
      "word: field, count: 4352, drop prob 0.8042231314454401, \n",
      "word: christian, count: 4347, drop prob 0.8041105707113926, \n",
      "word: either, count: 4330, drop prob 0.8037264069579529, \n",
      "word: social, count: 4307, drop prob 0.8032030401208085, \n",
      "word: empire, count: 4307, drop prob 0.8032030401208085, \n",
      "word: o, count: 4299, drop prob 0.8030200157056367, \n",
      "word: developed, count: 4270, drop prob 0.8023522460020819, \n",
      "word: standard, count: 4269, drop prob 0.8023290981711191, \n",
      "word: court, count: 4268, drop prob 0.8023059422052659, \n",
      "word: service, count: 4260, drop prob 0.8021204010496504, \n",
      "word: kingdom, count: 4257, drop prob 0.8020506883122578, \n",
      "word: along, count: 4241, drop prob 0.8016776386306897, \n",
      "word: college, count: 4236, drop prob 0.8015606273742006, \n",
      "word: republic, count: 4231, drop prob 0.8014434087612105, \n",
      "word: sea, count: 4212, drop prob 0.8009960760979948, \n",
      "word: america, count: 4202, drop prob 0.8007594201410223, \n",
      "word: today, count: 4198, drop prob 0.8006645210740271, \n",
      "word: result, count: 4193, drop prob 0.8005457063296594, \n",
      "word: held, count: 4178, drop prob 0.8001879832700765, \n",
      "word: team, count: 4176, drop prob 0.8001401412924412, \n",
      "word: light, count: 4172, drop prob 0.8000443541512086, \n"
     ]
    }
   ],
   "source": [
    "\n",
    "prob_to_drop = {}\n",
    "for word in word_counts:\n",
    "    count = word_counts.get(word)\n",
    "#     print(\"{}: {}, \".format(word, count))\n",
    "    freq = count / tota_count\n",
    "    proba = 1 - np.sqrt(1e-5/freq)\n",
    "    prob_to_drop[word] = 0 if proba < 0 else proba\n",
    "    if proba > 0.8:\n",
    "        print(\"word: {}, count: {}, drop prob {}, \".format(int_to_vocab[word], count, prob_to_drop[word] ))"
   ]
  },
  {
   "cell_type": "code",
   "execution_count": 24,
   "metadata": {},
   "outputs": [
    {
     "name": "stdout",
     "output_type": "stream",
     "text": [
      "63641\n",
      "63279\n"
     ]
    }
   ],
   "source": [
    "train_words = list(k for k, v in prob_to_drop.items() if v < 0.8)\n",
    "\n",
    "print(len(word_counts))\n",
    "print(len(train_words))"
   ]
  },
  {
   "cell_type": "markdown",
   "metadata": {},
   "source": [
    "## Making batches"
   ]
  },
  {
   "cell_type": "markdown",
   "metadata": {},
   "source": [
    "Now that our data is in good shape, we need to get it into the proper form to pass it into our network. With the skip-gram architecture, for each word in the text, we want to grab all the words in a window around that word, with size $C$. \n",
    "\n",
    "From [Mikolov et al.](https://arxiv.org/pdf/1301.3781.pdf): \n",
    "\n",
    "\"Since the more distant words are usually less related to the current word than those close to it, we give less weight to the distant words by sampling less from those words in our training examples... If we choose $C = 5$, for each training word we will select randomly a number $R$ in range $< 1; C >$, and then use $R$ words from history and $R$ words from the future of the current word as correct labels.\"\n",
    "\n",
    "> **Exercise:** Implement a function `get_target` that receives a list of words, an index, and a window size, then returns a list of words in the window around the index. Make sure to use the algorithm described above, where you choose a random number of words from the window."
   ]
  },
  {
   "cell_type": "code",
   "execution_count": 36,
   "metadata": {},
   "outputs": [],
   "source": [
    "def get_target(words, idx, window_size=5):\n",
    "    ''' Get a list of words in a window around an index. '''\n",
    "    result = list()\n",
    "    size = np.random.randint(1, window_size+1)\n",
    "#     print(\"size: {}\".format(size))\n",
    "    start = idx - size if (idx - size) > 0 else 0\n",
    "    for i, word in enumerate(words):\n",
    "        if (i >= start) and (i <= idx + size):\n",
    "#             print(\"i: {}, appending word: {}\".format(i,word))\n",
    "            result.append(word)\n",
    "            \n",
    "    return result "
   ]
  },
  {
   "cell_type": "code",
   "execution_count": 37,
   "metadata": {},
   "outputs": [
    {
     "name": "stdout",
     "output_type": "stream",
     "text": [
      "['hello', 'my', 'name', 'is', 'the', 'man', 'and', 'I', 'love', 'to', 'party', 'all', 'night', 'long!!!', 'Feell', 'it!@']\n",
      "['name', 'is', 'the', 'man', 'and', 'I', 'love', 'to', 'party', 'all', 'night']\n"
     ]
    }
   ],
   "source": [
    "test_words = 'hello my name is the man and I love to party all night long!!! Feell it!@ '\n",
    "print(test_words.split())\n",
    "test_result = get_target(test_words.split(), 7, 5)\n",
    "print(test_result)"
   ]
  },
  {
   "cell_type": "markdown",
   "metadata": {},
   "source": [
    "Here's a function that returns batches for our network. The idea is that it grabs `batch_size` words from a words list. Then for each of those words, it gets the target words in the window. I haven't found a way to pass in a random number of target words and get it to work with the architecture, so I make one row per input-target pair. This is a generator function by the way, helps save memory."
   ]
  },
  {
   "cell_type": "code",
   "execution_count": 38,
   "metadata": {
    "collapsed": true
   },
   "outputs": [],
   "source": [
    "def get_batches(words, batch_size, window_size=5):\n",
    "    ''' Create a generator of word batches as a tuple (inputs, targets) '''\n",
    "    \n",
    "    n_batches = len(words)//batch_size\n",
    "    \n",
    "    # only full batches\n",
    "    words = words[:n_batches*batch_size]\n",
    "    \n",
    "    for idx in range(0, len(words), batch_size):\n",
    "        x, y = [], []\n",
    "        batch = words[idx:idx+batch_size]\n",
    "        for ii in range(len(batch)):\n",
    "            batch_x = batch[ii]\n",
    "            batch_y = get_target(batch, ii, window_size)\n",
    "            y.extend(batch_y)\n",
    "            x.extend([batch_x]*len(batch_y))\n",
    "        yield x, y\n",
    "    "
   ]
  },
  {
   "cell_type": "markdown",
   "metadata": {},
   "source": [
    "## Building the graph\n",
    "\n",
    "From [Chris McCormick's blog](http://mccormickml.com/2016/04/19/word2vec-tutorial-the-skip-gram-model/), we can see the general structure of our network.\n",
    "![embedding_network](./assets/skip_gram_net_arch.png)\n",
    "\n",
    "The input words are passed in as integers. This will go into a hidden layer of linear units, then into a softmax layer. We'll use the softmax layer to make a prediction like normal.\n",
    "\n",
    "The idea here is to train the hidden layer weight matrix to find efficient representations for our words. We can discard the softmax layer becuase we don't really care about making predictions with this network. We just want the embedding matrix so we can use it in other networks we build from the dataset.\n",
    "\n",
    "I'm going to have you build the graph in stages now. First off, creating the `inputs` and `labels` placeholders like normal.\n",
    "\n",
    "> **Exercise:** Assign `inputs` and `labels` using `tf.placeholder`. We're going to be passing in integers, so set the data types to `tf.int32`. The batches we're passing in will have varying sizes, so set the batch sizes to [`None`]. To make things work later, you'll need to set the second dimension of `labels` to `None` or `1`."
   ]
  },
  {
   "cell_type": "code",
   "execution_count": 39,
   "metadata": {
    "collapsed": true
   },
   "outputs": [],
   "source": [
    "train_graph = tf.Graph()\n",
    "with train_graph.as_default():\n",
    "    inputs = tf.placeholder(tf.int32, shape=(None), name='inputs')\n",
    "    labels = tf.placeholder(tf.int32, shape=(None, None), name='labels')"
   ]
  },
  {
   "cell_type": "markdown",
   "metadata": {},
   "source": [
    "## Embedding\n",
    "\n"
   ]
  },
  {
   "cell_type": "markdown",
   "metadata": {
    "collapsed": true
   },
   "source": [
    "The embedding matrix has a size of the number of words by the number of units in the hidden layer. So, if you have 10,000 words and 300 hidden units, the matrix will have size $10,000 \\times 300$. Remember that we're using tokenized data for our inputs, usually as integers, where the number of tokens is the number of words in our vocabulary.\n",
    "\n",
    "\n",
    "> **Exercise:** Tensorflow provides a convenient function [`tf.nn.embedding_lookup`](https://www.tensorflow.org/api_docs/python/tf/nn/embedding_lookup) that does this lookup for us. You pass in the embedding matrix and a tensor of integers, then it returns rows in the matrix corresponding to those integers. Below, set the number of embedding features you'll use (200 is a good start), create the embedding matrix variable, and use `tf.nn.embedding_lookup` to get the embedding tensors. For the embedding matrix, I suggest you initialize it with a uniform random numbers between -1 and 1 using [tf.random_uniform](https://www.tensorflow.org/api_docs/python/tf/random_uniform)."
   ]
  },
  {
   "cell_type": "code",
   "execution_count": 40,
   "metadata": {},
   "outputs": [],
   "source": [
    "n_vocab = len(int_to_vocab)\n",
    "n_embedding =  200 \n",
    "with train_graph.as_default():\n",
    "    embedding = tf.Variable(tf.truncated_normal(shape=(n_vocab, n_embedding), stddev=0.1))\n",
    "    embed = tf.nn.embedding_lookup(params=embedding, ids=inputs)"
   ]
  },
  {
   "cell_type": "markdown",
   "metadata": {},
   "source": [
    "## Negative sampling\n",
    "\n"
   ]
  },
  {
   "cell_type": "markdown",
   "metadata": {},
   "source": [
    "For every example we give the network, we train it using the output from the softmax layer. That means for each input, we're making very small changes to millions of weights even though we only have one true example. This makes training the network very inefficient. We can approximate the loss from the softmax layer by only updating a small subset of all the weights at once. We'll update the weights for the correct label, but only a small number of incorrect labels. This is called [\"negative sampling\"](http://papers.nips.cc/paper/5021-distributed-representations-of-words-and-phrases-and-their-compositionality.pdf). Tensorflow has a convenient function to do this, [`tf.nn.sampled_softmax_loss`](https://www.tensorflow.org/api_docs/python/tf/nn/sampled_softmax_loss).\n",
    "\n",
    "> **Exercise:** Below, create weights and biases for the softmax layer. Then, use [`tf.nn.sampled_softmax_loss`](https://www.tensorflow.org/api_docs/python/tf/nn/sampled_softmax_loss) to calculate the loss. Be sure to read the documentation to figure out how it works."
   ]
  },
  {
   "cell_type": "code",
   "execution_count": 41,
   "metadata": {},
   "outputs": [],
   "source": [
    "# Number of negative labels to sample\n",
    "n_sampled = 100\n",
    "with train_graph.as_default():\n",
    "    softmax_w = tf.Variable(tf.truncated_normal(shape=(n_embedding, n_sampled), stddev=0.1))\n",
    "    softmax_b = tf.Variable(tf.zeros(shape=(n_sampled)))\n",
    "    \n",
    "    # Calculate the loss using negative sampling\n",
    "    loss = tf.nn.sampled_softmax_loss(softmax_w, softmax_b, labels, embed, n_sampled, n_vocab)\n",
    "    \n",
    "    cost = tf.reduce_mean(loss)\n",
    "    optimizer = tf.train.AdamOptimizer().minimize(cost)"
   ]
  },
  {
   "cell_type": "markdown",
   "metadata": {},
   "source": [
    "## Validation\n",
    "\n",
    "This code is from Thushan Ganegedara's implementation. Here we're going to choose a few common words and few uncommon words. Then, we'll print out the closest words to them. It's a nice way to check that our embedding table is grouping together words with similar semantic meanings."
   ]
  },
  {
   "cell_type": "code",
   "execution_count": 42,
   "metadata": {
    "collapsed": true
   },
   "outputs": [],
   "source": [
    "with train_graph.as_default():\n",
    "    ## From Thushan Ganegedara's implementation\n",
    "    valid_size = 16 # Random set of words to evaluate similarity on.\n",
    "    valid_window = 100\n",
    "    # pick 8 samples from (0,100) and (1000,1100) each ranges. lower id implies more frequent \n",
    "    valid_examples = np.array(random.sample(range(valid_window), valid_size//2))\n",
    "    valid_examples = np.append(valid_examples, \n",
    "                               random.sample(range(1000,1000+valid_window), valid_size//2))\n",
    "\n",
    "    valid_dataset = tf.constant(valid_examples, dtype=tf.int32)\n",
    "    \n",
    "    # We use the cosine distance:\n",
    "    norm = tf.sqrt(tf.reduce_sum(tf.square(embedding), 1, keep_dims=True))\n",
    "    normalized_embedding = embedding / norm\n",
    "    valid_embedding = tf.nn.embedding_lookup(normalized_embedding, valid_dataset)\n",
    "    similarity = tf.matmul(valid_embedding, tf.transpose(normalized_embedding))"
   ]
  },
  {
   "cell_type": "code",
   "execution_count": 43,
   "metadata": {},
   "outputs": [
    {
     "name": "stdout",
     "output_type": "stream",
     "text": [
      "mkdir: cannot create directory ‘checkpoints’: File exists\r\n"
     ]
    }
   ],
   "source": [
    "# If the checkpoints directory doesn't exist:\n",
    "!mkdir checkpoints"
   ]
  },
  {
   "cell_type": "markdown",
   "metadata": {},
   "source": [
    "## Training\n",
    "\n",
    "Below is the code to train the network. Every 100 batches it reports the training loss. Every 1000 batches, it'll print out the validation words."
   ]
  },
  {
   "cell_type": "code",
   "execution_count": 45,
   "metadata": {},
   "outputs": [
    {
     "ename": "InvalidArgumentError",
     "evalue": "indices[0] = 362 is not in [0, 100)\n\t [[Node: sampled_softmax_loss/embedding_lookup_1 = Gather[Tindices=DT_INT64, Tparams=DT_FLOAT, _class=[\"loc:@Variable_2\"], validate_indices=true, _device=\"/job:localhost/replica:0/task:0/cpu:0\"](Variable_2/read, sampled_softmax_loss/concat)]]\n\nCaused by op 'sampled_softmax_loss/embedding_lookup_1', defined at:\n  File \"/home/gus/anaconda3/envs/tensorflow/lib/python3.5/runpy.py\", line 193, in _run_module_as_main\n    \"__main__\", mod_spec)\n  File \"/home/gus/anaconda3/envs/tensorflow/lib/python3.5/runpy.py\", line 85, in _run_code\n    exec(code, run_globals)\n  File \"/home/gus/anaconda3/envs/tensorflow/lib/python3.5/site-packages/ipykernel_launcher.py\", line 16, in <module>\n    app.launch_new_instance()\n  File \"/home/gus/anaconda3/envs/tensorflow/lib/python3.5/site-packages/traitlets/config/application.py\", line 658, in launch_instance\n    app.start()\n  File \"/home/gus/anaconda3/envs/tensorflow/lib/python3.5/site-packages/ipykernel/kernelapp.py\", line 477, in start\n    ioloop.IOLoop.instance().start()\n  File \"/home/gus/anaconda3/envs/tensorflow/lib/python3.5/site-packages/zmq/eventloop/ioloop.py\", line 177, in start\n    super(ZMQIOLoop, self).start()\n  File \"/home/gus/anaconda3/envs/tensorflow/lib/python3.5/site-packages/tornado/ioloop.py\", line 888, in start\n    handler_func(fd_obj, events)\n  File \"/home/gus/anaconda3/envs/tensorflow/lib/python3.5/site-packages/tornado/stack_context.py\", line 277, in null_wrapper\n    return fn(*args, **kwargs)\n  File \"/home/gus/anaconda3/envs/tensorflow/lib/python3.5/site-packages/zmq/eventloop/zmqstream.py\", line 440, in _handle_events\n    self._handle_recv()\n  File \"/home/gus/anaconda3/envs/tensorflow/lib/python3.5/site-packages/zmq/eventloop/zmqstream.py\", line 472, in _handle_recv\n    self._run_callback(callback, msg)\n  File \"/home/gus/anaconda3/envs/tensorflow/lib/python3.5/site-packages/zmq/eventloop/zmqstream.py\", line 414, in _run_callback\n    callback(*args, **kwargs)\n  File \"/home/gus/anaconda3/envs/tensorflow/lib/python3.5/site-packages/tornado/stack_context.py\", line 277, in null_wrapper\n    return fn(*args, **kwargs)\n  File \"/home/gus/anaconda3/envs/tensorflow/lib/python3.5/site-packages/ipykernel/kernelbase.py\", line 283, in dispatcher\n    return self.dispatch_shell(stream, msg)\n  File \"/home/gus/anaconda3/envs/tensorflow/lib/python3.5/site-packages/ipykernel/kernelbase.py\", line 235, in dispatch_shell\n    handler(stream, idents, msg)\n  File \"/home/gus/anaconda3/envs/tensorflow/lib/python3.5/site-packages/ipykernel/kernelbase.py\", line 399, in execute_request\n    user_expressions, allow_stdin)\n  File \"/home/gus/anaconda3/envs/tensorflow/lib/python3.5/site-packages/ipykernel/ipkernel.py\", line 196, in do_execute\n    res = shell.run_cell(code, store_history=store_history, silent=silent)\n  File \"/home/gus/anaconda3/envs/tensorflow/lib/python3.5/site-packages/ipykernel/zmqshell.py\", line 533, in run_cell\n    return super(ZMQInteractiveShell, self).run_cell(*args, **kwargs)\n  File \"/home/gus/anaconda3/envs/tensorflow/lib/python3.5/site-packages/IPython/core/interactiveshell.py\", line 2683, in run_cell\n    interactivity=interactivity, compiler=compiler, result=result)\n  File \"/home/gus/anaconda3/envs/tensorflow/lib/python3.5/site-packages/IPython/core/interactiveshell.py\", line 2787, in run_ast_nodes\n    if self.run_code(code, result):\n  File \"/home/gus/anaconda3/envs/tensorflow/lib/python3.5/site-packages/IPython/core/interactiveshell.py\", line 2847, in run_code\n    exec(code_obj, self.user_global_ns, self.user_ns)\n  File \"<ipython-input-41-5bb7ca62f511>\", line 8, in <module>\n    loss = tf.nn.sampled_softmax_loss(softmax_w, softmax_b, labels, embed, n_sampled, n_vocab)\n  File \"/home/gus/anaconda3/envs/tensorflow/lib/python3.5/site-packages/tensorflow/python/ops/nn_impl.py\", line 1262, in sampled_softmax_loss\n    name=name)\n  File \"/home/gus/anaconda3/envs/tensorflow/lib/python3.5/site-packages/tensorflow/python/ops/nn_impl.py\", line 987, in _compute_sampled_logits\n    all_b = embedding_ops.embedding_lookup(biases, all_ids)\n  File \"/home/gus/anaconda3/envs/tensorflow/lib/python3.5/site-packages/tensorflow/python/ops/embedding_ops.py\", line 119, in embedding_lookup\n    params[0], ids, validate_indices=validate_indices, name=name))\n  File \"/home/gus/anaconda3/envs/tensorflow/lib/python3.5/site-packages/tensorflow/python/ops/embedding_ops.py\", line 41, in _do_gather\n    params, ids, name=name, validate_indices=validate_indices)\n  File \"/home/gus/anaconda3/envs/tensorflow/lib/python3.5/site-packages/tensorflow/python/ops/gen_array_ops.py\", line 1207, in gather\n    validate_indices=validate_indices, name=name)\n  File \"/home/gus/anaconda3/envs/tensorflow/lib/python3.5/site-packages/tensorflow/python/framework/op_def_library.py\", line 768, in apply_op\n    op_def=op_def)\n  File \"/home/gus/anaconda3/envs/tensorflow/lib/python3.5/site-packages/tensorflow/python/framework/ops.py\", line 2336, in create_op\n    original_op=self._default_original_op, op_def=op_def)\n  File \"/home/gus/anaconda3/envs/tensorflow/lib/python3.5/site-packages/tensorflow/python/framework/ops.py\", line 1228, in __init__\n    self._traceback = _extract_stack()\n\nInvalidArgumentError (see above for traceback): indices[0] = 362 is not in [0, 100)\n\t [[Node: sampled_softmax_loss/embedding_lookup_1 = Gather[Tindices=DT_INT64, Tparams=DT_FLOAT, _class=[\"loc:@Variable_2\"], validate_indices=true, _device=\"/job:localhost/replica:0/task:0/cpu:0\"](Variable_2/read, sampled_softmax_loss/concat)]]\n",
     "output_type": "error",
     "traceback": [
      "\u001b[0;31m---------------------------------------------------------------------------\u001b[0m",
      "\u001b[0;31mInvalidArgumentError\u001b[0m                      Traceback (most recent call last)",
      "\u001b[0;32m/home/gus/anaconda3/envs/tensorflow/lib/python3.5/site-packages/tensorflow/python/client/session.py\u001b[0m in \u001b[0;36m_do_call\u001b[0;34m(self, fn, *args)\u001b[0m\n\u001b[1;32m   1038\u001b[0m     \u001b[0;32mtry\u001b[0m\u001b[0;34m:\u001b[0m\u001b[0;34m\u001b[0m\u001b[0m\n\u001b[0;32m-> 1039\u001b[0;31m       \u001b[0;32mreturn\u001b[0m \u001b[0mfn\u001b[0m\u001b[0;34m(\u001b[0m\u001b[0;34m*\u001b[0m\u001b[0margs\u001b[0m\u001b[0;34m)\u001b[0m\u001b[0;34m\u001b[0m\u001b[0m\n\u001b[0m\u001b[1;32m   1040\u001b[0m     \u001b[0;32mexcept\u001b[0m \u001b[0merrors\u001b[0m\u001b[0;34m.\u001b[0m\u001b[0mOpError\u001b[0m \u001b[0;32mas\u001b[0m \u001b[0me\u001b[0m\u001b[0;34m:\u001b[0m\u001b[0;34m\u001b[0m\u001b[0m\n",
      "\u001b[0;32m/home/gus/anaconda3/envs/tensorflow/lib/python3.5/site-packages/tensorflow/python/client/session.py\u001b[0m in \u001b[0;36m_run_fn\u001b[0;34m(session, feed_dict, fetch_list, target_list, options, run_metadata)\u001b[0m\n\u001b[1;32m   1020\u001b[0m                                  \u001b[0mfeed_dict\u001b[0m\u001b[0;34m,\u001b[0m \u001b[0mfetch_list\u001b[0m\u001b[0;34m,\u001b[0m \u001b[0mtarget_list\u001b[0m\u001b[0;34m,\u001b[0m\u001b[0;34m\u001b[0m\u001b[0m\n\u001b[0;32m-> 1021\u001b[0;31m                                  status, run_metadata)\n\u001b[0m\u001b[1;32m   1022\u001b[0m \u001b[0;34m\u001b[0m\u001b[0m\n",
      "\u001b[0;32m/home/gus/anaconda3/envs/tensorflow/lib/python3.5/contextlib.py\u001b[0m in \u001b[0;36m__exit__\u001b[0;34m(self, type, value, traceback)\u001b[0m\n\u001b[1;32m     65\u001b[0m             \u001b[0;32mtry\u001b[0m\u001b[0;34m:\u001b[0m\u001b[0;34m\u001b[0m\u001b[0m\n\u001b[0;32m---> 66\u001b[0;31m                 \u001b[0mnext\u001b[0m\u001b[0;34m(\u001b[0m\u001b[0mself\u001b[0m\u001b[0;34m.\u001b[0m\u001b[0mgen\u001b[0m\u001b[0;34m)\u001b[0m\u001b[0;34m\u001b[0m\u001b[0m\n\u001b[0m\u001b[1;32m     67\u001b[0m             \u001b[0;32mexcept\u001b[0m \u001b[0mStopIteration\u001b[0m\u001b[0;34m:\u001b[0m\u001b[0;34m\u001b[0m\u001b[0m\n",
      "\u001b[0;32m/home/gus/anaconda3/envs/tensorflow/lib/python3.5/site-packages/tensorflow/python/framework/errors_impl.py\u001b[0m in \u001b[0;36mraise_exception_on_not_ok_status\u001b[0;34m()\u001b[0m\n\u001b[1;32m    465\u001b[0m           \u001b[0mcompat\u001b[0m\u001b[0;34m.\u001b[0m\u001b[0mas_text\u001b[0m\u001b[0;34m(\u001b[0m\u001b[0mpywrap_tensorflow\u001b[0m\u001b[0;34m.\u001b[0m\u001b[0mTF_Message\u001b[0m\u001b[0;34m(\u001b[0m\u001b[0mstatus\u001b[0m\u001b[0;34m)\u001b[0m\u001b[0;34m)\u001b[0m\u001b[0;34m,\u001b[0m\u001b[0;34m\u001b[0m\u001b[0m\n\u001b[0;32m--> 466\u001b[0;31m           pywrap_tensorflow.TF_GetCode(status))\n\u001b[0m\u001b[1;32m    467\u001b[0m   \u001b[0;32mfinally\u001b[0m\u001b[0;34m:\u001b[0m\u001b[0;34m\u001b[0m\u001b[0m\n",
      "\u001b[0;31mInvalidArgumentError\u001b[0m: indices[0] = 362 is not in [0, 100)\n\t [[Node: sampled_softmax_loss/embedding_lookup_1 = Gather[Tindices=DT_INT64, Tparams=DT_FLOAT, _class=[\"loc:@Variable_2\"], validate_indices=true, _device=\"/job:localhost/replica:0/task:0/cpu:0\"](Variable_2/read, sampled_softmax_loss/concat)]]",
      "\nDuring handling of the above exception, another exception occurred:\n",
      "\u001b[0;31mInvalidArgumentError\u001b[0m                      Traceback (most recent call last)",
      "\u001b[0;32m<ipython-input-45-b1d3869cd0d6>\u001b[0m in \u001b[0;36m<module>\u001b[0;34m()\u001b[0m\n\u001b[1;32m     18\u001b[0m             feed = {inputs: x,\n\u001b[1;32m     19\u001b[0m                     labels: np.array(y)[:, None]}\n\u001b[0;32m---> 20\u001b[0;31m             \u001b[0mtrain_loss\u001b[0m\u001b[0;34m,\u001b[0m \u001b[0m_\u001b[0m \u001b[0;34m=\u001b[0m \u001b[0msess\u001b[0m\u001b[0;34m.\u001b[0m\u001b[0mrun\u001b[0m\u001b[0;34m(\u001b[0m\u001b[0;34m[\u001b[0m\u001b[0mcost\u001b[0m\u001b[0;34m,\u001b[0m \u001b[0moptimizer\u001b[0m\u001b[0;34m]\u001b[0m\u001b[0;34m,\u001b[0m \u001b[0mfeed_dict\u001b[0m\u001b[0;34m=\u001b[0m\u001b[0mfeed\u001b[0m\u001b[0;34m)\u001b[0m\u001b[0;34m\u001b[0m\u001b[0m\n\u001b[0m\u001b[1;32m     21\u001b[0m \u001b[0;34m\u001b[0m\u001b[0m\n\u001b[1;32m     22\u001b[0m             \u001b[0mloss\u001b[0m \u001b[0;34m+=\u001b[0m \u001b[0mtrain_loss\u001b[0m\u001b[0;34m\u001b[0m\u001b[0m\n",
      "\u001b[0;32m/home/gus/anaconda3/envs/tensorflow/lib/python3.5/site-packages/tensorflow/python/client/session.py\u001b[0m in \u001b[0;36mrun\u001b[0;34m(self, fetches, feed_dict, options, run_metadata)\u001b[0m\n\u001b[1;32m    776\u001b[0m     \u001b[0;32mtry\u001b[0m\u001b[0;34m:\u001b[0m\u001b[0;34m\u001b[0m\u001b[0m\n\u001b[1;32m    777\u001b[0m       result = self._run(None, fetches, feed_dict, options_ptr,\n\u001b[0;32m--> 778\u001b[0;31m                          run_metadata_ptr)\n\u001b[0m\u001b[1;32m    779\u001b[0m       \u001b[0;32mif\u001b[0m \u001b[0mrun_metadata\u001b[0m\u001b[0;34m:\u001b[0m\u001b[0;34m\u001b[0m\u001b[0m\n\u001b[1;32m    780\u001b[0m         \u001b[0mproto_data\u001b[0m \u001b[0;34m=\u001b[0m \u001b[0mtf_session\u001b[0m\u001b[0;34m.\u001b[0m\u001b[0mTF_GetBuffer\u001b[0m\u001b[0;34m(\u001b[0m\u001b[0mrun_metadata_ptr\u001b[0m\u001b[0;34m)\u001b[0m\u001b[0;34m\u001b[0m\u001b[0m\n",
      "\u001b[0;32m/home/gus/anaconda3/envs/tensorflow/lib/python3.5/site-packages/tensorflow/python/client/session.py\u001b[0m in \u001b[0;36m_run\u001b[0;34m(self, handle, fetches, feed_dict, options, run_metadata)\u001b[0m\n\u001b[1;32m    980\u001b[0m     \u001b[0;32mif\u001b[0m \u001b[0mfinal_fetches\u001b[0m \u001b[0;32mor\u001b[0m \u001b[0mfinal_targets\u001b[0m\u001b[0;34m:\u001b[0m\u001b[0;34m\u001b[0m\u001b[0m\n\u001b[1;32m    981\u001b[0m       results = self._do_run(handle, final_targets, final_fetches,\n\u001b[0;32m--> 982\u001b[0;31m                              feed_dict_string, options, run_metadata)\n\u001b[0m\u001b[1;32m    983\u001b[0m     \u001b[0;32melse\u001b[0m\u001b[0;34m:\u001b[0m\u001b[0;34m\u001b[0m\u001b[0m\n\u001b[1;32m    984\u001b[0m       \u001b[0mresults\u001b[0m \u001b[0;34m=\u001b[0m \u001b[0;34m[\u001b[0m\u001b[0;34m]\u001b[0m\u001b[0;34m\u001b[0m\u001b[0m\n",
      "\u001b[0;32m/home/gus/anaconda3/envs/tensorflow/lib/python3.5/site-packages/tensorflow/python/client/session.py\u001b[0m in \u001b[0;36m_do_run\u001b[0;34m(self, handle, target_list, fetch_list, feed_dict, options, run_metadata)\u001b[0m\n\u001b[1;32m   1030\u001b[0m     \u001b[0;32mif\u001b[0m \u001b[0mhandle\u001b[0m \u001b[0;32mis\u001b[0m \u001b[0;32mNone\u001b[0m\u001b[0;34m:\u001b[0m\u001b[0;34m\u001b[0m\u001b[0m\n\u001b[1;32m   1031\u001b[0m       return self._do_call(_run_fn, self._session, feed_dict, fetch_list,\n\u001b[0;32m-> 1032\u001b[0;31m                            target_list, options, run_metadata)\n\u001b[0m\u001b[1;32m   1033\u001b[0m     \u001b[0;32melse\u001b[0m\u001b[0;34m:\u001b[0m\u001b[0;34m\u001b[0m\u001b[0m\n\u001b[1;32m   1034\u001b[0m       return self._do_call(_prun_fn, self._session, handle, feed_dict,\n",
      "\u001b[0;32m/home/gus/anaconda3/envs/tensorflow/lib/python3.5/site-packages/tensorflow/python/client/session.py\u001b[0m in \u001b[0;36m_do_call\u001b[0;34m(self, fn, *args)\u001b[0m\n\u001b[1;32m   1050\u001b[0m         \u001b[0;32mexcept\u001b[0m \u001b[0mKeyError\u001b[0m\u001b[0;34m:\u001b[0m\u001b[0;34m\u001b[0m\u001b[0m\n\u001b[1;32m   1051\u001b[0m           \u001b[0;32mpass\u001b[0m\u001b[0;34m\u001b[0m\u001b[0m\n\u001b[0;32m-> 1052\u001b[0;31m       \u001b[0;32mraise\u001b[0m \u001b[0mtype\u001b[0m\u001b[0;34m(\u001b[0m\u001b[0me\u001b[0m\u001b[0;34m)\u001b[0m\u001b[0;34m(\u001b[0m\u001b[0mnode_def\u001b[0m\u001b[0;34m,\u001b[0m \u001b[0mop\u001b[0m\u001b[0;34m,\u001b[0m \u001b[0mmessage\u001b[0m\u001b[0;34m)\u001b[0m\u001b[0;34m\u001b[0m\u001b[0m\n\u001b[0m\u001b[1;32m   1053\u001b[0m \u001b[0;34m\u001b[0m\u001b[0m\n\u001b[1;32m   1054\u001b[0m   \u001b[0;32mdef\u001b[0m \u001b[0m_extend_graph\u001b[0m\u001b[0;34m(\u001b[0m\u001b[0mself\u001b[0m\u001b[0;34m)\u001b[0m\u001b[0;34m:\u001b[0m\u001b[0;34m\u001b[0m\u001b[0m\n",
      "\u001b[0;31mInvalidArgumentError\u001b[0m: indices[0] = 362 is not in [0, 100)\n\t [[Node: sampled_softmax_loss/embedding_lookup_1 = Gather[Tindices=DT_INT64, Tparams=DT_FLOAT, _class=[\"loc:@Variable_2\"], validate_indices=true, _device=\"/job:localhost/replica:0/task:0/cpu:0\"](Variable_2/read, sampled_softmax_loss/concat)]]\n\nCaused by op 'sampled_softmax_loss/embedding_lookup_1', defined at:\n  File \"/home/gus/anaconda3/envs/tensorflow/lib/python3.5/runpy.py\", line 193, in _run_module_as_main\n    \"__main__\", mod_spec)\n  File \"/home/gus/anaconda3/envs/tensorflow/lib/python3.5/runpy.py\", line 85, in _run_code\n    exec(code, run_globals)\n  File \"/home/gus/anaconda3/envs/tensorflow/lib/python3.5/site-packages/ipykernel_launcher.py\", line 16, in <module>\n    app.launch_new_instance()\n  File \"/home/gus/anaconda3/envs/tensorflow/lib/python3.5/site-packages/traitlets/config/application.py\", line 658, in launch_instance\n    app.start()\n  File \"/home/gus/anaconda3/envs/tensorflow/lib/python3.5/site-packages/ipykernel/kernelapp.py\", line 477, in start\n    ioloop.IOLoop.instance().start()\n  File \"/home/gus/anaconda3/envs/tensorflow/lib/python3.5/site-packages/zmq/eventloop/ioloop.py\", line 177, in start\n    super(ZMQIOLoop, self).start()\n  File \"/home/gus/anaconda3/envs/tensorflow/lib/python3.5/site-packages/tornado/ioloop.py\", line 888, in start\n    handler_func(fd_obj, events)\n  File \"/home/gus/anaconda3/envs/tensorflow/lib/python3.5/site-packages/tornado/stack_context.py\", line 277, in null_wrapper\n    return fn(*args, **kwargs)\n  File \"/home/gus/anaconda3/envs/tensorflow/lib/python3.5/site-packages/zmq/eventloop/zmqstream.py\", line 440, in _handle_events\n    self._handle_recv()\n  File \"/home/gus/anaconda3/envs/tensorflow/lib/python3.5/site-packages/zmq/eventloop/zmqstream.py\", line 472, in _handle_recv\n    self._run_callback(callback, msg)\n  File \"/home/gus/anaconda3/envs/tensorflow/lib/python3.5/site-packages/zmq/eventloop/zmqstream.py\", line 414, in _run_callback\n    callback(*args, **kwargs)\n  File \"/home/gus/anaconda3/envs/tensorflow/lib/python3.5/site-packages/tornado/stack_context.py\", line 277, in null_wrapper\n    return fn(*args, **kwargs)\n  File \"/home/gus/anaconda3/envs/tensorflow/lib/python3.5/site-packages/ipykernel/kernelbase.py\", line 283, in dispatcher\n    return self.dispatch_shell(stream, msg)\n  File \"/home/gus/anaconda3/envs/tensorflow/lib/python3.5/site-packages/ipykernel/kernelbase.py\", line 235, in dispatch_shell\n    handler(stream, idents, msg)\n  File \"/home/gus/anaconda3/envs/tensorflow/lib/python3.5/site-packages/ipykernel/kernelbase.py\", line 399, in execute_request\n    user_expressions, allow_stdin)\n  File \"/home/gus/anaconda3/envs/tensorflow/lib/python3.5/site-packages/ipykernel/ipkernel.py\", line 196, in do_execute\n    res = shell.run_cell(code, store_history=store_history, silent=silent)\n  File \"/home/gus/anaconda3/envs/tensorflow/lib/python3.5/site-packages/ipykernel/zmqshell.py\", line 533, in run_cell\n    return super(ZMQInteractiveShell, self).run_cell(*args, **kwargs)\n  File \"/home/gus/anaconda3/envs/tensorflow/lib/python3.5/site-packages/IPython/core/interactiveshell.py\", line 2683, in run_cell\n    interactivity=interactivity, compiler=compiler, result=result)\n  File \"/home/gus/anaconda3/envs/tensorflow/lib/python3.5/site-packages/IPython/core/interactiveshell.py\", line 2787, in run_ast_nodes\n    if self.run_code(code, result):\n  File \"/home/gus/anaconda3/envs/tensorflow/lib/python3.5/site-packages/IPython/core/interactiveshell.py\", line 2847, in run_code\n    exec(code_obj, self.user_global_ns, self.user_ns)\n  File \"<ipython-input-41-5bb7ca62f511>\", line 8, in <module>\n    loss = tf.nn.sampled_softmax_loss(softmax_w, softmax_b, labels, embed, n_sampled, n_vocab)\n  File \"/home/gus/anaconda3/envs/tensorflow/lib/python3.5/site-packages/tensorflow/python/ops/nn_impl.py\", line 1262, in sampled_softmax_loss\n    name=name)\n  File \"/home/gus/anaconda3/envs/tensorflow/lib/python3.5/site-packages/tensorflow/python/ops/nn_impl.py\", line 987, in _compute_sampled_logits\n    all_b = embedding_ops.embedding_lookup(biases, all_ids)\n  File \"/home/gus/anaconda3/envs/tensorflow/lib/python3.5/site-packages/tensorflow/python/ops/embedding_ops.py\", line 119, in embedding_lookup\n    params[0], ids, validate_indices=validate_indices, name=name))\n  File \"/home/gus/anaconda3/envs/tensorflow/lib/python3.5/site-packages/tensorflow/python/ops/embedding_ops.py\", line 41, in _do_gather\n    params, ids, name=name, validate_indices=validate_indices)\n  File \"/home/gus/anaconda3/envs/tensorflow/lib/python3.5/site-packages/tensorflow/python/ops/gen_array_ops.py\", line 1207, in gather\n    validate_indices=validate_indices, name=name)\n  File \"/home/gus/anaconda3/envs/tensorflow/lib/python3.5/site-packages/tensorflow/python/framework/op_def_library.py\", line 768, in apply_op\n    op_def=op_def)\n  File \"/home/gus/anaconda3/envs/tensorflow/lib/python3.5/site-packages/tensorflow/python/framework/ops.py\", line 2336, in create_op\n    original_op=self._default_original_op, op_def=op_def)\n  File \"/home/gus/anaconda3/envs/tensorflow/lib/python3.5/site-packages/tensorflow/python/framework/ops.py\", line 1228, in __init__\n    self._traceback = _extract_stack()\n\nInvalidArgumentError (see above for traceback): indices[0] = 362 is not in [0, 100)\n\t [[Node: sampled_softmax_loss/embedding_lookup_1 = Gather[Tindices=DT_INT64, Tparams=DT_FLOAT, _class=[\"loc:@Variable_2\"], validate_indices=true, _device=\"/job:localhost/replica:0/task:0/cpu:0\"](Variable_2/read, sampled_softmax_loss/concat)]]\n"
     ]
    }
   ],
   "source": [
    "epochs = 10\n",
    "batch_size = 1000\n",
    "window_size = 10\n",
    "\n",
    "with train_graph.as_default():\n",
    "    saver = tf.train.Saver()\n",
    "\n",
    "with tf.Session(graph=train_graph) as sess:\n",
    "    iteration = 1\n",
    "    loss = 0\n",
    "    sess.run(tf.global_variables_initializer())\n",
    "\n",
    "    for e in range(1, epochs+1):\n",
    "        batches = get_batches(train_words, batch_size, window_size)\n",
    "        start = time.time()\n",
    "        for x, y in batches:\n",
    "            \n",
    "            feed = {inputs: x,\n",
    "                    labels: np.array(y)[:, None]}\n",
    "            train_loss, _ = sess.run([cost, optimizer], feed_dict=feed)\n",
    "            \n",
    "            loss += train_loss\n",
    "            \n",
    "            if iteration % 100 == 0: \n",
    "                end = time.time()\n",
    "                print(\"Epoch {}/{}\".format(e, epochs),\n",
    "                      \"Iteration: {}\".format(iteration),\n",
    "                      \"Avg. Training loss: {:.4f}\".format(loss/100),\n",
    "                      \"{:.4f} sec/batch\".format((end-start)/100))\n",
    "                loss = 0\n",
    "                start = time.time()\n",
    "            \n",
    "            if iteration % 1000 == 0:\n",
    "                ## From Thushan Ganegedara's implementation\n",
    "                # note that this is expensive (~20% slowdown if computed every 500 steps)\n",
    "                sim = similarity.eval()\n",
    "                for i in range(valid_size):\n",
    "                    valid_word = int_to_vocab[valid_examples[i]]\n",
    "                    top_k = 8 # number of nearest neighbors\n",
    "                    nearest = (-sim[i, :]).argsort()[1:top_k+1]\n",
    "                    log = 'Nearest to %s:' % valid_word\n",
    "                    for k in range(top_k):\n",
    "                        close_word = int_to_vocab[nearest[k]]\n",
    "                        log = '%s %s,' % (log, close_word)\n",
    "                    print(log)\n",
    "            \n",
    "            iteration += 1\n",
    "    save_path = saver.save(sess, \"checkpoints/text8.ckpt\")\n",
    "    embed_mat = sess.run(normalized_embedding)"
   ]
  },
  {
   "cell_type": "markdown",
   "metadata": {},
   "source": [
    "Restore the trained network if you need to:"
   ]
  },
  {
   "cell_type": "code",
   "execution_count": null,
   "metadata": {
    "collapsed": true
   },
   "outputs": [],
   "source": [
    "with train_graph.as_default():\n",
    "    saver = tf.train.Saver()\n",
    "\n",
    "with tf.Session(graph=train_graph) as sess:\n",
    "    saver.restore(sess, tf.train.latest_checkpoint('checkpoints'))\n",
    "    embed_mat = sess.run(embedding)"
   ]
  },
  {
   "cell_type": "markdown",
   "metadata": {},
   "source": [
    "## Visualizing the word vectors\n",
    "\n",
    "Below we'll use T-SNE to visualize how our high-dimensional word vectors cluster together. T-SNE is used to project these vectors into two dimensions while preserving local stucture. Check out [this post from Christopher Olah](http://colah.github.io/posts/2014-10-Visualizing-MNIST/) to learn more about T-SNE and other ways to visualize high-dimensional data."
   ]
  },
  {
   "cell_type": "code",
   "execution_count": null,
   "metadata": {
    "collapsed": true
   },
   "outputs": [],
   "source": [
    "%matplotlib inline\n",
    "%config InlineBackend.figure_format = 'retina'\n",
    "\n",
    "import matplotlib.pyplot as plt\n",
    "from sklearn.manifold import TSNE"
   ]
  },
  {
   "cell_type": "code",
   "execution_count": null,
   "metadata": {
    "collapsed": true
   },
   "outputs": [],
   "source": [
    "viz_words = 500\n",
    "tsne = TSNE()\n",
    "embed_tsne = tsne.fit_transform(embed_mat[:viz_words, :])"
   ]
  },
  {
   "cell_type": "code",
   "execution_count": null,
   "metadata": {
    "collapsed": true
   },
   "outputs": [],
   "source": [
    "fig, ax = plt.subplots(figsize=(14, 14))\n",
    "for idx in range(viz_words):\n",
    "    plt.scatter(*embed_tsne[idx, :], color='steelblue')\n",
    "    plt.annotate(int_to_vocab[idx], (embed_tsne[idx, 0], embed_tsne[idx, 1]), alpha=0.7)"
   ]
  }
 ],
 "metadata": {
  "kernelspec": {
   "display_name": "Python 3",
   "language": "python",
   "name": "python3"
  },
  "language_info": {
   "codemirror_mode": {
    "name": "ipython",
    "version": 3
   },
   "file_extension": ".py",
   "mimetype": "text/x-python",
   "name": "python",
   "nbconvert_exporter": "python",
   "pygments_lexer": "ipython3",
   "version": "3.5.3"
  }
 },
 "nbformat": 4,
 "nbformat_minor": 2
}
