{
 "cells": [
  {
   "cell_type": "markdown",
   "metadata": {},
   "source": [
    "\n",
    "# Skip-gram word2vec\n",
    "\n",
    "In this notebook, I'll lead you through using TensorFlow to implement the word2vec algorithm using the skip-gram architecture. By implementing this, you'll learn about embedding words for use in natural language processing. This will come in handy when dealing with things like machine translation.\n",
    "\n",
    "## Readings\n",
    "\n",
    "Here are the resources I used to build this notebook. I suggest reading these either beforehand or while you're working on this material.\n",
    "\n",
    "* A really good [conceptual overview](http://mccormickml.com/2016/04/19/word2vec-tutorial-the-skip-gram-model/) of word2vec from Chris McCormick \n",
    "* [First word2vec paper](https://arxiv.org/pdf/1301.3781.pdf) from Mikolov et al.\n",
    "* [NIPS paper](http://papers.nips.cc/paper/5021-distributed-representations-of-words-and-phrases-and-their-compositionality.pdf) with improvements for word2vec also from Mikolov et al.\n",
    "* An [implementation of word2vec](http://www.thushv.com/natural_language_processing/word2vec-part-1-nlp-with-deep-learning-with-tensorflow-skip-gram/) from Thushan Ganegedara\n",
    "* TensorFlow [word2vec tutorial](https://www.tensorflow.org/tutorials/word2vec)\n",
    "\n",
    "## Word embeddings\n",
    "\n",
    "When you're dealing with words in text, you end up with tens of thousands of classes to predict, one for each word. Trying to one-hot encode these words is massively inefficient, you'll have one element set to 1 and the other 50,000 set to 0. The matrix multiplication going into the first hidden layer will have almost all of the resulting values be zero. This a huge waste of computation. \n",
    "\n",
    "![one-hot encodings](assets/one_hot_encoding.png)\n",
    "\n",
    "To solve this problem and greatly increase the efficiency of our networks, we use what are called embeddings. Embeddings are just a fully connected layer like you've seen before. We call this layer the embedding layer and the weights are embedding weights. We skip the multiplication into the embedding layer by instead directly grabbing the hidden layer values from the weight matrix. We can do this because the multiplication of a one-hot encoded vector with a matrix returns the row of the matrix corresponding the index of the \"on\" input unit.\n",
    "\n",
    "![lookup](assets/lookup_matrix.png)\n",
    "\n",
    "Instead of doing the matrix multiplication, we use the weight matrix as a lookup table. We encode the words as integers, for example \"heart\" is encoded as 958, \"mind\" as 18094. Then to get hidden layer values for \"heart\", you just take the 958th row of the embedding matrix. This process is called an **embedding lookup** and the number of hidden units is the **embedding dimension**.\n",
    "\n",
    "<img src='assets/tokenize_lookup.png' width=500>\n",
    " \n",
    "There is nothing magical going on here. The embedding lookup table is just a weight matrix. The embedding layer is just a hidden layer. The lookup is just a shortcut for the matrix multiplication. The lookup table is trained just like any weight matrix as well.\n",
    "\n",
    "Embeddings aren't only used for words of course. You can use them for any model where you have a massive number of classes. A particular type of model called **Word2Vec** uses the embedding layer to find vector representations of words that contain semantic meaning.\n",
    "\n"
   ]
  },
  {
   "cell_type": "markdown",
   "metadata": {},
   "source": [
    "## Word2Vec\n",
    "\n",
    "The word2vec algorithm finds much more efficient representations by finding vectors that represent the words. These vectors also contain semantic information about the words. Words that show up in similar contexts, such as \"black\", \"white\", and \"red\" will have vectors near each other. There are two architectures for implementing word2vec, CBOW (Continuous Bag-Of-Words) and Skip-gram.\n",
    "\n",
    "<img src=\"assets/word2vec_architectures.png\" width=\"500\">\n",
    "\n",
    "In this implementation, we'll be using the skip-gram architecture because it performs better than CBOW. Here, we pass in a word and try to predict the words surrounding it in the text. In this way, we can train the network to learn representations for words that show up in similar contexts.\n",
    "\n",
    "First up, importing packages."
   ]
  },
  {
   "cell_type": "code",
   "execution_count": 1,
   "metadata": {
    "collapsed": true
   },
   "outputs": [],
   "source": [
    "import time\n",
    "\n",
    "import numpy as np\n",
    "import tensorflow as tf\n",
    "\n",
    "import utils"
   ]
  },
  {
   "cell_type": "markdown",
   "metadata": {},
   "source": [
    "Load the [text8 dataset](http://mattmahoney.net/dc/textdata.html), a file of cleaned up Wikipedia articles from Matt Mahoney. The next cell will download the data set to the `data` folder. Then you can extract it and delete the archive file to save storage space."
   ]
  },
  {
   "cell_type": "code",
   "execution_count": 2,
   "metadata": {},
   "outputs": [
    {
     "name": "stderr",
     "output_type": "stream",
     "text": [
      "Text8 Dataset: 31.4MB [00:08, 3.50MB/s]                            \n"
     ]
    }
   ],
   "source": [
    "from urllib.request import urlretrieve\n",
    "from os.path import isfile, isdir\n",
    "from tqdm import tqdm\n",
    "import zipfile\n",
    "\n",
    "dataset_folder_path = 'data'\n",
    "dataset_filename = 'text8.zip'\n",
    "dataset_name = 'Text8 Dataset'\n",
    "\n",
    "class DLProgress(tqdm):\n",
    "    last_block = 0\n",
    "\n",
    "    def hook(self, block_num=1, block_size=1, total_size=None):\n",
    "        self.total = total_size\n",
    "        self.update((block_num - self.last_block) * block_size)\n",
    "        self.last_block = block_num\n",
    "\n",
    "if not isfile(dataset_filename):\n",
    "    with DLProgress(unit='B', unit_scale=True, miniters=1, desc=dataset_name) as pbar:\n",
    "        urlretrieve(\n",
    "            'http://mattmahoney.net/dc/text8.zip',\n",
    "            dataset_filename,\n",
    "            pbar.hook)\n",
    "\n",
    "if not isdir(dataset_folder_path):\n",
    "    with zipfile.ZipFile(dataset_filename) as zip_ref:\n",
    "        zip_ref.extractall(dataset_folder_path)\n",
    "        \n",
    "with open('data/text8') as f:\n",
    "    text = f.read()"
   ]
  },
  {
   "cell_type": "markdown",
   "metadata": {},
   "source": [
    "## Preprocessing\n",
    "\n",
    "Here I'm fixing up the text to make training easier. This comes from the `utils` module I wrote. The `preprocess` function coverts any punctuation into tokens, so a period is changed to ` <PERIOD> `. In this data set, there aren't any periods, but it will help in other NLP problems. I'm also removing all words that show up five or fewer times in the dataset. This will greatly reduce issues due to noise in the data and improve the quality of the vector representations. If you want to write your own functions for this stuff, go for it."
   ]
  },
  {
   "cell_type": "code",
   "execution_count": 3,
   "metadata": {},
   "outputs": [
    {
     "name": "stdout",
     "output_type": "stream",
     "text": [
      "['anarchism', 'originated', 'as', 'a', 'term', 'of', 'abuse', 'first', 'used', 'against', 'early', 'working', 'class', 'radicals', 'including', 'the', 'diggers', 'of', 'the', 'english', 'revolution', 'and', 'the', 'sans', 'culottes', 'of', 'the', 'french', 'revolution', 'whilst']\n"
     ]
    }
   ],
   "source": [
    "words = utils.preprocess(text)\n",
    "print(words[:30])"
   ]
  },
  {
   "cell_type": "code",
   "execution_count": 4,
   "metadata": {},
   "outputs": [
    {
     "name": "stdout",
     "output_type": "stream",
     "text": [
      "Total words: 16680599\n",
      "Unique words: 63641\n"
     ]
    }
   ],
   "source": [
    "print(\"Total words: {}\".format(len(words)))\n",
    "print(\"Unique words: {}\".format(len(set(words))))"
   ]
  },
  {
   "cell_type": "markdown",
   "metadata": {},
   "source": [
    "And here I'm creating dictionaries to covert words to integers and backwards, integers to words. The integers are assigned in descending frequency order, so the most frequent word (\"the\") is given the integer 0 and the next most frequent is 1 and so on. The words are converted to integers and stored in the list `int_words`."
   ]
  },
  {
   "cell_type": "code",
   "execution_count": 5,
   "metadata": {
    "collapsed": true
   },
   "outputs": [],
   "source": [
    "vocab_to_int, int_to_vocab = utils.create_lookup_tables(words)\n",
    "int_words = [vocab_to_int[word] for word in words]"
   ]
  },
  {
   "cell_type": "markdown",
   "metadata": {},
   "source": [
    "## Subsampling\n",
    "\n",
    "Words that show up often such as \"the\", \"of\", and \"for\" don't provide much context to the nearby words. If we discard some of them, we can remove some of the noise from our data and in return get faster training and better representations. This process is called subsampling by Mikolov. For each word $w_i$ in the training set, we'll discard it with probability given by \n",
    "\n",
    "$$ P(w_i) = 1 - \\sqrt{\\frac{t}{f(w_i)}} $$\n",
    "\n",
    "where $t$ is a threshold parameter and $f(w_i)$ is the frequency of word $w_i$ in the total dataset.\n",
    "\n",
    "I'm going to leave this up to you as an exercise. This is more of a programming challenge, than about deep learning specifically. But, being able to prepare your data for your network is an important skill to have. Check out my solution to see how I did it.\n",
    "\n",
    "> **Exercise:** Implement subsampling for the words in `int_words`. That is, go through `int_words` and discard each word given the probablility $P(w_i)$ shown above. Note that $P(w_i)$ is the probability that a word is discarded. Assign the subsampled data to `train_words`."
   ]
  },
  {
   "cell_type": "code",
   "execution_count": 6,
   "metadata": {},
   "outputs": [
    {
     "name": "stdout",
     "output_type": "stream",
     "text": [
      "0\n",
      "to\n",
      "63641\n"
     ]
    }
   ],
   "source": [
    "## Your code here\n",
    "from collections import Counter\n",
    "import random\n",
    "print(vocab_to_int.get(\"the\"))\n",
    "print(int_to_vocab.get(6))\n",
    "word_counts = Counter(int_words)\n",
    "tota_count = len(int_words)\n",
    "print(len(word_counts))"
   ]
  },
  {
   "cell_type": "code",
   "execution_count": 7,
   "metadata": {
    "collapsed": true
   },
   "outputs": [],
   "source": [
    "\n",
    "prob_to_drop = {}\n",
    "for word in int_words:\n",
    "    count = word_counts.get(word)\n",
    "#     print(\"{}: {}, \".format(word, count))\n",
    "    freq = count / tota_count\n",
    "    proba = 1 - np.sqrt(1e-5/freq)\n",
    "    prob_to_drop[word] = 0 if proba < 0 else proba\n",
    "#     if proba > 0.9:\n",
    "#         print(\"word: {}, count: {}, drop prob {}, \".format(int_to_vocab[word], count, prob_to_drop[word] ))"
   ]
  },
  {
   "cell_type": "code",
   "execution_count": 8,
   "metadata": {},
   "outputs": [
    {
     "name": "stdout",
     "output_type": "stream",
     "text": [
      "16680599\n",
      "9032964\n",
      "63641\n"
     ]
    }
   ],
   "source": [
    "# train_words = list(k for k, v in prob_to_drop.items() if v < 0.8)\n",
    "\n",
    "train_words = [word for word in int_words if prob_to_drop[word] < 0.9]\n",
    "\n",
    "print(len(int_words))\n",
    "print(len(train_words))\n",
    "print(len(prob_to_drop))"
   ]
  },
  {
   "cell_type": "markdown",
   "metadata": {},
   "source": [
    "## Making batches"
   ]
  },
  {
   "cell_type": "markdown",
   "metadata": {},
   "source": [
    "Now that our data is in good shape, we need to get it into the proper form to pass it into our network. With the skip-gram architecture, for each word in the text, we want to grab all the words in a window around that word, with size $C$. \n",
    "\n",
    "From [Mikolov et al.](https://arxiv.org/pdf/1301.3781.pdf): \n",
    "\n",
    "\"Since the more distant words are usually less related to the current word than those close to it, we give less weight to the distant words by sampling less from those words in our training examples... If we choose $C = 5$, for each training word we will select randomly a number $R$ in range $< 1; C >$, and then use $R$ words from history and $R$ words from the future of the current word as correct labels.\"\n",
    "\n",
    "> **Exercise:** Implement a function `get_target` that receives a list of words, an index, and a window size, then returns a list of words in the window around the index. Make sure to use the algorithm described above, where you choose a random number of words from the window."
   ]
  },
  {
   "cell_type": "code",
   "execution_count": 9,
   "metadata": {
    "collapsed": true
   },
   "outputs": [],
   "source": [
    "def get_target(words, idx, window_size=5):\n",
    "    ''' Get a list of words in a window around an index. '''\n",
    "    result = list()\n",
    "    size = np.random.randint(1, window_size+1)\n",
    "#     print(\"size: {}\".format(size))\n",
    "    start = idx - size if (idx - size) > 0 else 0\n",
    "    for i, word in enumerate(words):\n",
    "        if (i >= start) and (i <= idx + size):\n",
    "#             print(\"i: {}, appending word: {}\".format(i,word))\n",
    "            result.append(word)\n",
    "            \n",
    "    return result "
   ]
  },
  {
   "cell_type": "code",
   "execution_count": 10,
   "metadata": {},
   "outputs": [
    {
     "name": "stdout",
     "output_type": "stream",
     "text": [
      "['hello', 'my', 'name', 'is', 'the', 'man', 'and', 'I', 'love', 'to', 'party', 'all', 'night', 'long!!!', 'Feell', 'it!@']\n",
      "['the', 'man', 'and', 'I', 'love', 'to', 'party']\n"
     ]
    }
   ],
   "source": [
    "test_words = 'hello my name is the man and I love to party all night long!!! Feell it!@ '\n",
    "print(test_words.split())\n",
    "test_result = get_target(test_words.split(), 7, 5)\n",
    "print(test_result)"
   ]
  },
  {
   "cell_type": "markdown",
   "metadata": {},
   "source": [
    "Here's a function that returns batches for our network. The idea is that it grabs `batch_size` words from a words list. Then for each of those words, it gets the target words in the window. I haven't found a way to pass in a random number of target words and get it to work with the architecture, so I make one row per input-target pair. This is a generator function by the way, helps save memory."
   ]
  },
  {
   "cell_type": "code",
   "execution_count": 11,
   "metadata": {
    "collapsed": true
   },
   "outputs": [],
   "source": [
    "def get_batches(words, batch_size, window_size=5):\n",
    "    ''' Create a generator of word batches as a tuple (inputs, targets) '''\n",
    "    \n",
    "    n_batches = len(words)//batch_size\n",
    "    \n",
    "    # only full batches\n",
    "    words = words[:n_batches*batch_size]\n",
    "    \n",
    "    for idx in range(0, len(words), batch_size):\n",
    "        x, y = [], []\n",
    "        batch = words[idx:idx+batch_size]\n",
    "        for ii in range(len(batch)):\n",
    "            batch_x = batch[ii]\n",
    "            batch_y = get_target(batch, ii, window_size)\n",
    "            y.extend(batch_y)\n",
    "            x.extend([batch_x]*len(batch_y))\n",
    "        yield x, y\n",
    "    "
   ]
  },
  {
   "cell_type": "markdown",
   "metadata": {},
   "source": [
    "## Building the graph\n",
    "\n",
    "From [Chris McCormick's blog](http://mccormickml.com/2016/04/19/word2vec-tutorial-the-skip-gram-model/), we can see the general structure of our network.\n",
    "![embedding_network](./assets/skip_gram_net_arch.png)\n",
    "\n",
    "The input words are passed in as integers. This will go into a hidden layer of linear units, then into a softmax layer. We'll use the softmax layer to make a prediction like normal.\n",
    "\n",
    "The idea here is to train the hidden layer weight matrix to find efficient representations for our words. We can discard the softmax layer becuase we don't really care about making predictions with this network. We just want the embedding matrix so we can use it in other networks we build from the dataset.\n",
    "\n",
    "I'm going to have you build the graph in stages now. First off, creating the `inputs` and `labels` placeholders like normal.\n",
    "\n",
    "> **Exercise:** Assign `inputs` and `labels` using `tf.placeholder`. We're going to be passing in integers, so set the data types to `tf.int32`. The batches we're passing in will have varying sizes, so set the batch sizes to [`None`]. To make things work later, you'll need to set the second dimension of `labels` to `None` or `1`."
   ]
  },
  {
   "cell_type": "code",
   "execution_count": 12,
   "metadata": {
    "collapsed": true
   },
   "outputs": [],
   "source": [
    "train_graph = tf.Graph()\n",
    "with train_graph.as_default():\n",
    "    inputs = tf.placeholder(tf.int32, shape=([None]), name='inputs')\n",
    "    labels = tf.placeholder(tf.int32, shape=([None, None]), name='labels')"
   ]
  },
  {
   "cell_type": "markdown",
   "metadata": {},
   "source": [
    "## Embedding\n",
    "\n"
   ]
  },
  {
   "cell_type": "markdown",
   "metadata": {
    "collapsed": true
   },
   "source": [
    "The embedding matrix has a size of the number of words by the number of units in the hidden layer. So, if you have 10,000 words and 300 hidden units, the matrix will have size $10,000 \\times 300$. Remember that we're using tokenized data for our inputs, usually as integers, where the number of tokens is the number of words in our vocabulary.\n",
    "\n",
    "\n",
    "> **Exercise:** Tensorflow provides a convenient function [`tf.nn.embedding_lookup`](https://www.tensorflow.org/api_docs/python/tf/nn/embedding_lookup) that does this lookup for us. You pass in the embedding matrix and a tensor of integers, then it returns rows in the matrix corresponding to those integers. Below, set the number of embedding features you'll use (200 is a good start), create the embedding matrix variable, and use `tf.nn.embedding_lookup` to get the embedding tensors. For the embedding matrix, I suggest you initialize it with a uniform random numbers between -1 and 1 using [tf.random_uniform](https://www.tensorflow.org/api_docs/python/tf/random_uniform)."
   ]
  },
  {
   "cell_type": "code",
   "execution_count": 13,
   "metadata": {
    "collapsed": true
   },
   "outputs": [],
   "source": [
    "n_vocab = len(int_to_vocab)\n",
    "n_embedding =  200 \n",
    "with train_graph.as_default():\n",
    "    embedding = tf.Variable(tf.truncated_normal(shape=(n_vocab, n_embedding), stddev=0.1))\n",
    "    embed = tf.nn.embedding_lookup(params=embedding, ids=inputs)"
   ]
  },
  {
   "cell_type": "markdown",
   "metadata": {},
   "source": [
    "## Negative sampling\n",
    "\n"
   ]
  },
  {
   "cell_type": "markdown",
   "metadata": {},
   "source": [
    "For every example we give the network, we train it using the output from the softmax layer. That means for each input, we're making very small changes to millions of weights even though we only have one true example. This makes training the network very inefficient. We can approximate the loss from the softmax layer by only updating a small subset of all the weights at once. We'll update the weights for the correct label, but only a small number of incorrect labels. This is called [\"negative sampling\"](http://papers.nips.cc/paper/5021-distributed-representations-of-words-and-phrases-and-their-compositionality.pdf). Tensorflow has a convenient function to do this, [`tf.nn.sampled_softmax_loss`](https://www.tensorflow.org/api_docs/python/tf/nn/sampled_softmax_loss).\n",
    "\n",
    "> **Exercise:** Below, create weights and biases for the softmax layer. Then, use [`tf.nn.sampled_softmax_loss`](https://www.tensorflow.org/api_docs/python/tf/nn/sampled_softmax_loss) to calculate the loss. Be sure to read the documentation to figure out how it works."
   ]
  },
  {
   "cell_type": "code",
   "execution_count": 14,
   "metadata": {
    "collapsed": true
   },
   "outputs": [],
   "source": [
    "# Number of negative labels to sample\n",
    "n_sampled = 100\n",
    "with train_graph.as_default():\n",
    "    softmax_w = tf.Variable(tf.truncated_normal(shape=(n_vocab, n_embedding), stddev=0.1))\n",
    "    softmax_b = tf.Variable(tf.zeros(shape=(n_vocab)))\n",
    "    \n",
    "    # Calculate the loss using negative sampling\n",
    "    loss = tf.nn.sampled_softmax_loss(softmax_w, softmax_b, labels, embed, n_sampled, n_vocab)\n",
    "    \n",
    "    cost = tf.reduce_mean(loss)\n",
    "    optimizer = tf.train.AdamOptimizer().minimize(cost)"
   ]
  },
  {
   "cell_type": "markdown",
   "metadata": {},
   "source": [
    "## Validation\n",
    "\n",
    "This code is from Thushan Ganegedara's implementation. Here we're going to choose a few common words and few uncommon words. Then, we'll print out the closest words to them. It's a nice way to check that our embedding table is grouping together words with similar semantic meanings."
   ]
  },
  {
   "cell_type": "code",
   "execution_count": 15,
   "metadata": {
    "collapsed": true
   },
   "outputs": [],
   "source": [
    "with train_graph.as_default():\n",
    "    ## From Thushan Ganegedara's implementation\n",
    "    valid_size = 16 # Random set of words to evaluate similarity on.\n",
    "    valid_window = 100\n",
    "    # pick 8 samples from (0,100) and (1000,1100) each ranges. lower id implies more frequent \n",
    "    valid_examples = np.array(random.sample(range(valid_window), valid_size//2))\n",
    "    valid_examples = np.append(valid_examples, \n",
    "                               random.sample(range(1000,1000+valid_window), valid_size//2))\n",
    "\n",
    "    valid_dataset = tf.constant(valid_examples, dtype=tf.int32)\n",
    "    \n",
    "    # We use the cosine distance:\n",
    "    norm = tf.sqrt(tf.reduce_sum(tf.square(embedding), 1, keep_dims=True))\n",
    "    normalized_embedding = embedding / norm\n",
    "    valid_embedding = tf.nn.embedding_lookup(normalized_embedding, valid_dataset)\n",
    "    similarity = tf.matmul(valid_embedding, tf.transpose(normalized_embedding))"
   ]
  },
  {
   "cell_type": "code",
   "execution_count": 16,
   "metadata": {},
   "outputs": [
    {
     "name": "stdout",
     "output_type": "stream",
     "text": [
      "mkdir: cannot create directory ‘checkpoints’: File exists\r\n"
     ]
    }
   ],
   "source": [
    "# If the checkpoints directory doesn't exist:\n",
    "!mkdir checkpoints"
   ]
  },
  {
   "cell_type": "markdown",
   "metadata": {},
   "source": [
    "## Training\n",
    "\n",
    "Below is the code to train the network. Every 100 batches it reports the training loss. Every 1000 batches, it'll print out the validation words."
   ]
  },
  {
   "cell_type": "code",
   "execution_count": 17,
   "metadata": {},
   "outputs": [
    {
     "name": "stdout",
     "output_type": "stream",
     "text": [
      "Epoch 1/10 Iteration: 100 Avg. Training loss: 6.1022 0.2730 sec/batch\n",
      "Epoch 1/10 Iteration: 200 Avg. Training loss: 6.0609 0.2741 sec/batch\n",
      "Epoch 1/10 Iteration: 300 Avg. Training loss: 5.8822 0.2745 sec/batch\n",
      "Epoch 1/10 Iteration: 400 Avg. Training loss: 5.8134 0.2787 sec/batch\n",
      "Epoch 1/10 Iteration: 500 Avg. Training loss: 5.3756 0.2753 sec/batch\n",
      "Epoch 1/10 Iteration: 600 Avg. Training loss: 4.9705 0.2888 sec/batch\n",
      "Epoch 1/10 Iteration: 700 Avg. Training loss: 4.8989 0.2834 sec/batch\n",
      "Epoch 1/10 Iteration: 800 Avg. Training loss: 4.7298 0.2797 sec/batch\n",
      "Epoch 1/10 Iteration: 900 Avg. Training loss: 4.6488 0.2859 sec/batch\n",
      "Epoch 1/10 Iteration: 1000 Avg. Training loss: 4.5466 0.2852 sec/batch\n",
      "Nearest to th: century, gregorian, centuries, nd, leap, calendar, rd, twentieth,\n",
      "Nearest to so: feel, similarly, bad, doing, instance, removed, called, quickly,\n",
      "Nearest to is: technicians, taiping, docetism, squeezing, banquet, stengel, fernandez, gions,\n",
      "Nearest to if: job, iraq, instituted, contrast, thinking, improvement, pain, you,\n",
      "Nearest to five: razor, needlework, vet, roslin, galtieri, batsford, goodness, luf,\n",
      "Nearest to by: denning, desu, bylaw, psychoactive, button, essen, cauliflower, cleartype,\n",
      "Nearest to their: lakeside, heliport, theos, javier, antipodes, moldovans, kissaki, sonoran,\n",
      "Nearest to were: galindo, recantation, harappan, barlaam, individuality, attrition, rond, tiled,\n",
      "Nearest to except: let, directions, ce, muslims, brief, got, paradise, entirely,\n",
      "Nearest to recorded: continuous, africa, tree, husband, twelve, section, mentions, reasons,\n",
      "Nearest to smith: declared, welsh, ferdinand, george, task, celebrated, legend, talk,\n",
      "Nearest to test: task, someone, immigrants, revenue, reflects, takes, titles, cousin,\n",
      "Nearest to brother: fell, hope, fought, younger, arrival, saxon, maria, xi,\n",
      "Nearest to powers: intercourse, cousin, repeated, mount, unfortunately, comparable, legal, fear,\n",
      "Nearest to accepted: records, belonged, lot, surviving, expected, proving, installed, defence,\n",
      "Nearest to lived: commonwealth, bronze, anything, filed, declared, compelled, addressed, camps,\n",
      "Epoch 1/10 Iteration: 1100 Avg. Training loss: 4.5359 0.2849 sec/batch\n",
      "Epoch 1/10 Iteration: 1200 Avg. Training loss: 4.5143 0.2818 sec/batch\n",
      "Epoch 1/10 Iteration: 1300 Avg. Training loss: 4.4438 0.2678 sec/batch\n",
      "Epoch 1/10 Iteration: 1400 Avg. Training loss: 4.4554 0.2745 sec/batch\n",
      "Epoch 1/10 Iteration: 1500 Avg. Training loss: 4.4288 0.2841 sec/batch\n",
      "Epoch 1/10 Iteration: 1600 Avg. Training loss: 4.3752 0.2812 sec/batch\n",
      "Epoch 1/10 Iteration: 1700 Avg. Training loss: 4.3246 0.2792 sec/batch\n",
      "Epoch 1/10 Iteration: 1800 Avg. Training loss: 4.3556 0.2860 sec/batch\n",
      "Epoch 1/10 Iteration: 1900 Avg. Training loss: 4.3272 0.2767 sec/batch\n",
      "Epoch 1/10 Iteration: 2000 Avg. Training loss: 4.2942 0.2610 sec/batch\n",
      "Nearest to th: century, centuries, twentieth, nineteenth, anniversary, gregorian, nd, rd,\n",
      "Nearest to so: doing, asking, could, feel, called, odd, inferred, no,\n",
      "Nearest to is: technicians, docetism, taiping, stengel, fernandez, gions, bottlenose, isaak,\n",
      "Nearest to if: we, then, you, ball, fails, answer, stored, continuous,\n",
      "Nearest to five: needlework, galtieri, batsford, luf, occultations, gurus, turners, roslin,\n",
      "Nearest to by: denning, desu, bylaw, cauliflower, rebounds, listerine, cleartype, huis,\n",
      "Nearest to their: theos, lakeside, antipodes, moldovans, kissaki, sonoran, empowerment, heliport,\n",
      "Nearest to were: galindo, harappan, individuality, recantation, barlaam, smale, giedi, operettas,\n",
      "Nearest to except: charm, editors, proportions, peculiarities, remarkable, bowls, residential, let,\n",
      "Nearest to recorded: dio, dispose, copied, lix, sarajevo, tours, sacred, prayed,\n",
      "Nearest to smith: larry, joseph, hugh, lloyd, raymond, george, ferdinand, novelist,\n",
      "Nearest to test: bat, spectacular, drag, ye, renounce, debut, obsession, accomplishments,\n",
      "Nearest to brother: nephew, younger, maria, elder, gangster, publisher, hebrews, hope,\n",
      "Nearest to powers: democracy, legislative, struggles, engagement, intervention, govern, ceded, conservatives,\n",
      "Nearest to accepted: breathe, belonged, proving, observers, tanakh, securities, replied, sanctioned,\n",
      "Nearest to lived: oracles, filed, thence, lively, conquests, commonwealth, retreating, constantine,\n",
      "Epoch 1/10 Iteration: 2100 Avg. Training loss: 4.2644 0.2626 sec/batch\n",
      "Epoch 1/10 Iteration: 2200 Avg. Training loss: 4.1789 0.2612 sec/batch\n",
      "Epoch 1/10 Iteration: 2300 Avg. Training loss: 4.2328 0.2607 sec/batch\n",
      "Epoch 1/10 Iteration: 2400 Avg. Training loss: 4.2345 0.2624 sec/batch\n",
      "Epoch 1/10 Iteration: 2500 Avg. Training loss: 4.2166 0.2610 sec/batch\n",
      "Epoch 1/10 Iteration: 2600 Avg. Training loss: 4.2222 0.2611 sec/batch\n",
      "Epoch 1/10 Iteration: 2700 Avg. Training loss: 4.1405 0.2609 sec/batch\n",
      "Epoch 1/10 Iteration: 2800 Avg. Training loss: 4.2445 0.2604 sec/batch\n",
      "Epoch 1/10 Iteration: 2900 Avg. Training loss: 4.1898 0.2617 sec/batch\n",
      "Epoch 1/10 Iteration: 3000 Avg. Training loss: 4.1871 0.2599 sec/batch\n",
      "Nearest to th: century, nineteenth, centuries, twentieth, anniversary, early, late, rd,\n",
      "Nearest to so: doing, could, called, asking, do, no, if, far,\n",
      "Nearest to is: docetism, stengel, gions, fernandez, technicians, chief, les, alex,\n",
      "Nearest to if: then, we, fails, converse, continuous, perceive, infinitely, finite,\n",
      "Nearest to five: galtieri, luf, occultations, turners, needlework, samarium, manon, pawl,\n",
      "Nearest to by: bylaw, denning, desu, cauliflower, rebounds, kitsch, listerine, cleartype,\n",
      "Nearest to their: theos, lakeside, antipodes, moldovans, kissaki, heliport, monoamine, new,\n",
      "Nearest to were: galindo, recantation, barlaam, harappan, operettas, giedi, brumaire, barbra,\n",
      "Nearest to except: digestion, capacitance, elf, extinguished, peculiarities, proportions, funerals, bowls,\n",
      "Nearest to recorded: lix, chevalier, outcry, dispose, retroactively, dio, sarajevo, prayed,\n",
      "Nearest to smith: joseph, larry, jr, stuart, george, lloyd, industrialist, novelist,\n",
      "Nearest to test: bat, plug, drag, reconnaissance, pinch, spectacular, steadily, doppler,\n",
      "Nearest to brother: younger, nephew, elder, son, father, maria, eldest, publisher,\n",
      "Nearest to powers: democracy, legislative, unicameral, legislature, intervention, negotiations, constitution, government,\n",
      "Nearest to accepted: belonged, revelations, securities, sanctioned, widely, observers, reject, fathers,\n",
      "Nearest to lived: married, short, reign, constantine, death, enjoyed, conquests, thence,\n",
      "Epoch 1/10 Iteration: 3100 Avg. Training loss: 4.1236 0.2626 sec/batch\n",
      "Epoch 1/10 Iteration: 3200 Avg. Training loss: 4.1880 0.2594 sec/batch\n",
      "Epoch 1/10 Iteration: 3300 Avg. Training loss: 4.1703 0.2599 sec/batch\n",
      "Epoch 1/10 Iteration: 3400 Avg. Training loss: 4.1337 0.2601 sec/batch\n",
      "Epoch 1/10 Iteration: 3500 Avg. Training loss: 4.1021 0.2605 sec/batch\n",
      "Epoch 1/10 Iteration: 3600 Avg. Training loss: 4.1191 0.2601 sec/batch\n",
      "Epoch 1/10 Iteration: 3700 Avg. Training loss: 4.1613 0.2600 sec/batch\n",
      "Epoch 1/10 Iteration: 3800 Avg. Training loss: 4.1304 0.2598 sec/batch\n",
      "Epoch 1/10 Iteration: 3900 Avg. Training loss: 4.0737 0.2599 sec/batch\n",
      "Epoch 1/10 Iteration: 4000 Avg. Training loss: 4.0262 0.2602 sec/batch\n",
      "Nearest to th: century, centuries, rd, twentieth, anniversary, nineteenth, late, nd,\n",
      "Nearest to so: called, doing, far, do, could, much, too, if,\n",
      "Nearest to is: alex, technicians, stengel, gions, les, by, astronomer, chief,\n",
      "Nearest to if: then, we, fails, converse, infinitely, perceive, you, proceed,\n",
      "Nearest to five: galtieri, luf, razor, needlework, manon, turners, kopp, nouakchott,\n",
      "Nearest to by: denning, bylaw, desu, cauliflower, dharmic, hmos, rebounds, seanad,\n",
      "Nearest to their: antipodes, moldovans, kissaki, heliport, new, lakeside, preferred, maneaba,\n",
      "Nearest to were: galindo, recantation, barlaam, operettas, entice, cueball, zukor, barbra,\n",
      "Nearest to except: proportions, veterinarians, condenser, adulterated, straining, bowls, gloomy, capacitance,\n",
      "Nearest to recorded: song, stooges, prints, superheroes, devi, gravestone, nail, broncos,\n",
      "Nearest to smith: joseph, hugh, lloyd, boyle, larry, beckett, davies, dickson,\n",
      "Nearest to test: subsystems, solutes, migrates, bat, categorised, lilly, hauling, pinch,\n",
      "Nearest to brother: son, younger, nephew, elder, father, eldest, widow, divorced,\n",
      "Nearest to powers: legislative, constitution, ratify, democracy, unicameral, legislature, judiciary, govern,\n",
      "Nearest to accepted: widely, revelations, belonged, statement, sanctioned, accept, generally, latinized,\n",
      "Nearest to lived: short, disappeared, married, reign, conquests, constantine, thence, colonists,\n"
     ]
    },
    {
     "name": "stdout",
     "output_type": "stream",
     "text": [
      "Epoch 1/10 Iteration: 4100 Avg. Training loss: 4.0051 0.2631 sec/batch\n",
      "Epoch 1/10 Iteration: 4200 Avg. Training loss: 4.0636 0.2631 sec/batch\n",
      "Epoch 1/10 Iteration: 4300 Avg. Training loss: 4.0355 0.2704 sec/batch\n",
      "Epoch 1/10 Iteration: 4400 Avg. Training loss: 4.0993 0.2741 sec/batch\n",
      "Epoch 1/10 Iteration: 4500 Avg. Training loss: 4.0147 0.2676 sec/batch\n",
      "Epoch 1/10 Iteration: 4600 Avg. Training loss: 4.0574 0.2626 sec/batch\n",
      "Epoch 1/10 Iteration: 4700 Avg. Training loss: 4.0044 0.2642 sec/batch\n",
      "Epoch 1/10 Iteration: 4800 Avg. Training loss: 4.0778 0.2605 sec/batch\n",
      "Epoch 1/10 Iteration: 4900 Avg. Training loss: 3.9849 0.2607 sec/batch\n",
      "Epoch 1/10 Iteration: 5000 Avg. Training loss: 4.0446 0.2599 sec/batch\n",
      "Nearest to th: century, rd, twentieth, centuries, eighteenth, anniversary, nd, late,\n",
      "Nearest to so: doing, called, far, do, if, much, too, we,\n",
      "Nearest to is: alex, technicians, isaak, astronomer, stengel, lise, frederic, les,\n",
      "Nearest to if: then, we, fails, converse, does, you, perceive, answer,\n",
      "Nearest to five: razor, galtieri, needlework, luf, turners, frontline, nouakchott, thy,\n",
      "Nearest to by: denning, bylaw, desu, cauliflower, dharmic, hmos, rebounds, bluerhinos,\n",
      "Nearest to their: moldovans, kissaki, heliport, new, prevented, preferred, maneaba, sonoran,\n",
      "Nearest to were: recantation, galindo, barbra, operettas, aim, hesychast, barlaam, souness,\n",
      "Nearest to except: proportions, veterinarians, condenser, adulterated, funerals, finlandization, runoff, numeration,\n",
      "Nearest to recorded: song, stooges, album, horn, albums, released, recording, prints,\n",
      "Nearest to smith: dickson, joseph, gerard, margaret, lloyd, hugh, janet, maynard,\n",
      "Nearest to test: subsystems, categorised, solutes, customized, migrates, lilly, warbird, emulate,\n",
      "Nearest to brother: younger, elder, son, eldest, father, nephew, grandson, mother,\n",
      "Nearest to powers: legislative, constitution, ratify, ratification, ratifying, constitutional, offences, statutory,\n",
      "Nearest to accepted: widely, revelations, sociological, scholars, universally, belief, monotheistic, question,\n",
      "Nearest to lived: short, reign, westphalia, constantine, she, death, married, thence,\n",
      "Epoch 1/10 Iteration: 5100 Avg. Training loss: 4.0211 0.2624 sec/batch\n",
      "Epoch 1/10 Iteration: 5200 Avg. Training loss: 3.8906 0.2610 sec/batch\n",
      "Epoch 1/10 Iteration: 5300 Avg. Training loss: 4.0238 0.2635 sec/batch\n",
      "Epoch 1/10 Iteration: 5400 Avg. Training loss: 4.0381 0.2628 sec/batch\n",
      "Epoch 1/10 Iteration: 5500 Avg. Training loss: 4.0455 0.2654 sec/batch\n",
      "Epoch 1/10 Iteration: 5600 Avg. Training loss: 4.0000 0.2637 sec/batch\n",
      "Epoch 1/10 Iteration: 5700 Avg. Training loss: 3.9685 0.2617 sec/batch\n",
      "Epoch 1/10 Iteration: 5800 Avg. Training loss: 4.0563 0.2634 sec/batch\n",
      "Epoch 1/10 Iteration: 5900 Avg. Training loss: 3.9887 0.2638 sec/batch\n",
      "Epoch 1/10 Iteration: 6000 Avg. Training loss: 4.0115 0.2606 sec/batch\n",
      "Nearest to th: century, rd, eighteenth, late, centuries, twentieth, nineteenth, nd,\n",
      "Nearest to so: doing, called, far, do, too, could, much, if,\n",
      "Nearest to is: alex, technicians, stengel, isaak, astronomer, dorothy, les, frederic,\n",
      "Nearest to if: then, we, you, converse, fails, infinitely, will, answer,\n",
      "Nearest to five: galtieri, needlework, razor, frontline, vet, luf, staged, turners,\n",
      "Nearest to by: dharmic, denning, bylaw, desu, cauliflower, hmos, rebounds, bluerhinos,\n",
      "Nearest to their: moldovans, kissaki, prevented, new, preferred, maneaba, monoamine, merozoites,\n",
      "Nearest to were: galindo, barbra, take, hesychast, aim, coaches, souness, mamah,\n",
      "Nearest to except: proportions, veterinarians, straining, appreciable, finlandization, adulterated, condenser, periodization,\n",
      "Nearest to recorded: song, stooges, coldest, amon, albums, horn, album, overture,\n",
      "Nearest to smith: dickson, maynard, davies, joseph, kate, janet, gerard, lloyd,\n",
      "Nearest to test: subsystems, customized, solutes, analyzer, transonic, assists, doppler, knockout,\n",
      "Nearest to brother: younger, son, eldest, elder, granddaughter, widowed, father, nephew,\n",
      "Nearest to powers: constitution, ratifying, legislative, parliamentary, constitutional, ratification, constitutionality, repealed,\n",
      "Nearest to accepted: widely, universally, scholars, question, revelations, heresies, sociological, debatable,\n",
      "Nearest to lived: short, thence, died, married, convent, death, born, westphalia,\n",
      "Epoch 1/10 Iteration: 6100 Avg. Training loss: 3.9810 0.2630 sec/batch\n",
      "Epoch 1/10 Iteration: 6200 Avg. Training loss: 3.9892 0.2609 sec/batch\n",
      "Epoch 1/10 Iteration: 6300 Avg. Training loss: 3.9421 0.2608 sec/batch\n",
      "Epoch 1/10 Iteration: 6400 Avg. Training loss: 3.8581 0.2607 sec/batch\n",
      "Epoch 1/10 Iteration: 6500 Avg. Training loss: 3.9260 0.2626 sec/batch\n",
      "Epoch 1/10 Iteration: 6600 Avg. Training loss: 3.9090 0.2610 sec/batch\n",
      "Epoch 1/10 Iteration: 6700 Avg. Training loss: 3.9063 0.2611 sec/batch\n",
      "Epoch 1/10 Iteration: 6800 Avg. Training loss: 3.9831 0.2614 sec/batch\n",
      "Epoch 1/10 Iteration: 6900 Avg. Training loss: 3.8587 0.2612 sec/batch\n",
      "Epoch 1/10 Iteration: 7000 Avg. Training loss: 3.8439 0.2605 sec/batch\n",
      "Nearest to th: century, rd, anniversary, nd, late, twelfth, centuries, gregorian,\n",
      "Nearest to so: doing, called, far, do, if, too, could, we,\n",
      "Nearest to is: alex, astronomer, duffy, isaak, twayne, izzard, technicians, stengel,\n",
      "Nearest to if: you, converse, we, then, fails, answer, fail, infinitely,\n",
      "Nearest to five: galtieri, needlework, frontline, luf, vet, razor, manon, nouakchott,\n",
      "Nearest to by: denning, bylaw, dharmic, hmos, rebounds, bluerhinos, listerine, sihanouk,\n",
      "Nearest to their: moldovans, kissaki, prevented, new, preferred, upanishad, maneaba, regained,\n",
      "Nearest to were: galindo, aim, take, souness, mamah, ewangelicko, coaches, rond,\n",
      "Nearest to except: proportions, veterinarians, straining, unrecognised, enclosing, labial, exceptions, periodization,\n",
      "Nearest to recorded: song, albums, album, recording, coldest, stooges, amon, horn,\n",
      "Nearest to smith: dickson, maynard, davies, abbott, gerard, janet, samantha, robertson,\n",
      "Nearest to test: assists, lilly, knockout, customized, solutes, subsystems, transonic, warbird,\n",
      "Nearest to brother: younger, elder, son, granddaughter, widow, widowed, eldest, sister,\n",
      "Nearest to powers: ratifying, constitution, autocratic, ratification, repealed, reunification, parliamentary, ratify,\n",
      "Nearest to accepted: widely, universally, scholars, debatable, revelations, xylem, reject, nicea,\n",
      "Nearest to lived: short, married, emigrated, convent, thence, died, niece, she,\n",
      "Epoch 1/10 Iteration: 7100 Avg. Training loss: 3.9463 0.2627 sec/batch\n",
      "Epoch 1/10 Iteration: 7200 Avg. Training loss: 3.9855 0.2611 sec/batch\n",
      "Epoch 1/10 Iteration: 7300 Avg. Training loss: 3.9323 0.2669 sec/batch\n",
      "Epoch 1/10 Iteration: 7400 Avg. Training loss: 4.0309 0.2622 sec/batch\n",
      "Epoch 1/10 Iteration: 7500 Avg. Training loss: 4.0275 0.2671 sec/batch\n",
      "Epoch 1/10 Iteration: 7600 Avg. Training loss: 3.9017 0.2606 sec/batch\n",
      "Epoch 1/10 Iteration: 7700 Avg. Training loss: 3.8095 0.2617 sec/batch\n",
      "Epoch 1/10 Iteration: 7800 Avg. Training loss: 3.9342 0.2601 sec/batch\n",
      "Epoch 1/10 Iteration: 7900 Avg. Training loss: 3.9445 0.2606 sec/batch\n",
      "Epoch 1/10 Iteration: 8000 Avg. Training loss: 3.8931 0.2608 sec/batch\n",
      "Nearest to th: century, rd, eighteenth, centuries, twelfth, late, nd, sixteenth,\n",
      "Nearest to so: doing, far, called, do, if, could, too, ourselves,\n",
      "Nearest to is: alex, isaak, corriere, lise, occultist, bd, technicians, twayne,\n",
      "Nearest to if: then, we, converse, nonzero, invertible, equivalently, suppose, you,\n",
      "Nearest to five: needlework, galtieri, vet, frontline, manon, nouakchott, northland, pawl,\n",
      "Nearest to by: bylaw, dharmic, hmos, sihanouk, bluerhinos, listerine, denning, pohjola,\n",
      "Nearest to their: prevented, moldovans, preferred, thorns, new, kissaki, upanishad, caused,\n",
      "Nearest to were: take, galindo, engendered, rond, cutting, fuselage, coaches, mamah,\n",
      "Nearest to except: unrecognised, straining, proportions, illyria, landform, exceptions, riverine, essequibo,\n",
      "Nearest to recorded: song, album, recording, albums, coldest, rock, band, songs,\n",
      "Nearest to smith: maynard, dickson, joseph, adam, davies, ehrlich, robertson, riley,\n",
      "Nearest to test: solutes, assists, transonic, glitch, warbird, doppler, migrates, customized,\n",
      "Nearest to brother: younger, son, elder, granddaughter, eldest, sister, widowed, father,\n",
      "Nearest to powers: ratifying, constitution, offences, negotiations, unconditional, alarmed, autocratic, ratification,\n",
      "Nearest to accepted: widely, universally, scholars, xylem, lenin, reject, opinions, generally,\n",
      "Nearest to lived: short, emigrated, village, convent, monks, married, born, marin,\n"
     ]
    },
    {
     "name": "stdout",
     "output_type": "stream",
     "text": [
      "Epoch 1/10 Iteration: 8100 Avg. Training loss: 3.9531 0.2623 sec/batch\n",
      "Epoch 1/10 Iteration: 8200 Avg. Training loss: 3.8629 0.2602 sec/batch\n",
      "Epoch 1/10 Iteration: 8300 Avg. Training loss: 3.6554 0.2594 sec/batch\n",
      "Epoch 1/10 Iteration: 8400 Avg. Training loss: 3.9320 0.2601 sec/batch\n",
      "Epoch 1/10 Iteration: 8500 Avg. Training loss: 3.8409 0.2598 sec/batch\n",
      "Epoch 1/10 Iteration: 8600 Avg. Training loss: 3.9370 0.2597 sec/batch\n",
      "Epoch 1/10 Iteration: 8700 Avg. Training loss: 3.9007 0.2661 sec/batch\n",
      "Epoch 1/10 Iteration: 8800 Avg. Training loss: 3.8641 0.2836 sec/batch\n",
      "Epoch 1/10 Iteration: 8900 Avg. Training loss: 3.9144 0.2785 sec/batch\n",
      "Epoch 1/10 Iteration: 9000 Avg. Training loss: 3.9749 0.2742 sec/batch\n",
      "Nearest to th: century, rd, centuries, eighteenth, nd, anniversary, late, twelfth,\n",
      "Nearest to so: doing, far, called, do, if, could, we, too,\n",
      "Nearest to is: alex, corriere, isaak, technicians, twayne, gretchen, lise, teilhard,\n",
      "Nearest to if: then, you, we, converse, nonzero, fails, injective, satisfies,\n",
      "Nearest to five: galtieri, vet, needlework, fingertips, manon, evolving, northland, compensate,\n",
      "Nearest to by: bylaw, dharmic, bluerhinos, evidences, definitive, conferencing, annoy, is,\n",
      "Nearest to their: prevented, monoamine, preferred, thorns, new, kissaki, upanishad, regained,\n",
      "Nearest to were: take, engendered, coaches, galindo, cutting, barbra, mamah, ewangelicko,\n",
      "Nearest to except: rebounds, unrecognised, condenser, syllable, landform, exceptions, periodization, straining,\n",
      "Nearest to recorded: song, album, albums, recording, songs, headlining, coldest, band,\n",
      "Nearest to smith: maynard, dickson, ehrlich, davies, adam, joseph, sportscaster, riley,\n",
      "Nearest to test: transonic, lilly, solutes, booster, tests, nuclear, glitch, gunman,\n",
      "Nearest to brother: younger, son, elder, granddaughter, sister, childless, widowed, eldest,\n",
      "Nearest to powers: ratifying, alarmed, constitution, negotiations, delegated, constitutional, govern, vested,\n",
      "Nearest to accepted: widely, universally, scholars, opinions, generally, xylem, statement, postmodernism,\n",
      "Nearest to lived: short, convent, interred, emigrated, she, journeying, village, married,\n",
      "Epoch 2/10 Iteration: 9100 Avg. Training loss: 3.9019 0.1867 sec/batch\n",
      "Epoch 2/10 Iteration: 9200 Avg. Training loss: 3.8273 0.2886 sec/batch\n",
      "Epoch 2/10 Iteration: 9300 Avg. Training loss: 3.8481 0.2909 sec/batch\n",
      "Epoch 2/10 Iteration: 9400 Avg. Training loss: 3.8021 0.2880 sec/batch\n",
      "Epoch 2/10 Iteration: 9500 Avg. Training loss: 3.8373 0.2669 sec/batch\n",
      "Epoch 2/10 Iteration: 9600 Avg. Training loss: 3.8090 0.2640 sec/batch\n",
      "Epoch 2/10 Iteration: 9700 Avg. Training loss: 3.8584 0.2623 sec/batch\n",
      "Epoch 2/10 Iteration: 9800 Avg. Training loss: 3.8496 0.2611 sec/batch\n",
      "Epoch 2/10 Iteration: 9900 Avg. Training loss: 3.8259 0.2596 sec/batch\n",
      "Epoch 2/10 Iteration: 10000 Avg. Training loss: 3.8698 0.2599 sec/batch\n",
      "Nearest to th: century, rd, nd, centuries, eighteenth, gregorian, late, twelfth,\n",
      "Nearest to so: far, doing, called, do, could, infidel, sow, too,\n",
      "Nearest to is: alex, alexandrovna, corriere, isaak, avila, technicians, camillo, ellery,\n",
      "Nearest to if: you, then, converse, fails, satisfies, nonzero, we, injective,\n",
      "Nearest to five: galtieri, manon, needlework, vet, fingertips, liable, frontline, pawl,\n",
      "Nearest to by: dharmic, bylaw, bluerhinos, definitive, biological, communication, pneumocystis, is,\n",
      "Nearest to their: prevented, thorns, monoamine, regained, legs, new, sharp, kissaki,\n",
      "Nearest to were: take, engendered, tiled, cutting, coaches, ceiling, cx, fuselage,\n",
      "Nearest to except: rebounds, unrecognised, landform, condenser, straining, enclosing, glacially, periodization,\n",
      "Nearest to recorded: song, coldest, album, albums, recording, hottest, lydians, songs,\n",
      "Nearest to smith: maynard, dickson, adam, huston, ehrlich, nielsen, kimball, paulist,\n",
      "Nearest to test: booster, transonic, tests, gabba, icbm, unmanned, batted, solutes,\n",
      "Nearest to brother: younger, elder, son, granddaughter, sister, heir, childless, widowed,\n",
      "Nearest to powers: ratifying, constitution, exercised, negotiations, vested, statutory, annul, constitutional,\n",
      "Nearest to accepted: widely, universally, generally, scholars, individuality, survives, unequivocally, statement,\n",
      "Nearest to lived: short, convent, emigrated, journeying, interred, she, ago, died,\n",
      "Epoch 2/10 Iteration: 10100 Avg. Training loss: 3.8278 0.2652 sec/batch\n",
      "Epoch 2/10 Iteration: 10200 Avg. Training loss: 3.8171 0.2805 sec/batch\n",
      "Epoch 2/10 Iteration: 10300 Avg. Training loss: 3.8164 0.2610 sec/batch\n",
      "Epoch 2/10 Iteration: 10400 Avg. Training loss: 3.7031 0.2597 sec/batch\n",
      "Epoch 2/10 Iteration: 10500 Avg. Training loss: 3.8182 0.2592 sec/batch\n",
      "Epoch 2/10 Iteration: 10600 Avg. Training loss: 3.8508 0.2601 sec/batch\n",
      "Epoch 2/10 Iteration: 10700 Avg. Training loss: 3.8187 0.2606 sec/batch\n",
      "Epoch 2/10 Iteration: 10800 Avg. Training loss: 3.8230 0.2597 sec/batch\n",
      "Epoch 2/10 Iteration: 10900 Avg. Training loss: 3.8466 0.2598 sec/batch\n",
      "Epoch 2/10 Iteration: 11000 Avg. Training loss: 3.8268 0.2594 sec/batch\n",
      "Nearest to th: century, rd, centuries, late, eighteenth, nd, sixteenth, mid,\n",
      "Nearest to so: doing, far, called, do, could, anticipate, sow, reassembled,\n",
      "Nearest to is: alex, isaak, alexandrovna, corriere, beano, technicians, seedy, ellery,\n",
      "Nearest to if: you, then, converse, nonzero, we, injective, surjective, subseteq,\n",
      "Nearest to five: galtieri, manon, needlework, evolving, frontline, compensate, scooters, pawl,\n",
      "Nearest to by: dharmic, bylaw, bluerhinos, biological, definitive, conferencing, communication, pneumocystis,\n",
      "Nearest to their: thorns, prevented, monoamine, sharp, new, legs, kissaki, regained,\n",
      "Nearest to were: take, cueball, ceiling, aim, coaches, engendered, passacaglia, tiled,\n",
      "Nearest to except: rebounds, unrecognised, exceptions, cotopaxi, every, landform, straining, glacially,\n",
      "Nearest to recorded: album, song, albums, songs, recording, headlining, tracks, coldest,\n",
      "Nearest to smith: maynard, dickson, wein, ehrlich, adam, joseph, cowdery, huston,\n",
      "Nearest to test: tests, cricket, wickets, intercontinental, gabba, batted, icbm, transonic,\n",
      "Nearest to brother: younger, elder, granddaughter, son, rumpus, widow, sister, wife,\n",
      "Nearest to powers: ratifying, statutory, negotiations, constitution, mahuad, vested, ratify, schengen,\n",
      "Nearest to accepted: widely, universally, generally, scholars, undermines, individuality, debatable, statement,\n",
      "Nearest to lived: short, convent, emigrated, journeying, ago, neanderthal, gur, died,\n",
      "Epoch 2/10 Iteration: 11100 Avg. Training loss: 3.7919 0.2625 sec/batch\n",
      "Epoch 2/10 Iteration: 11200 Avg. Training loss: 3.6972 0.2592 sec/batch\n",
      "Epoch 2/10 Iteration: 11300 Avg. Training loss: 3.6550 0.2595 sec/batch\n",
      "Epoch 2/10 Iteration: 11400 Avg. Training loss: 3.8112 0.2597 sec/batch\n",
      "Epoch 2/10 Iteration: 11500 Avg. Training loss: 3.7450 0.2599 sec/batch\n",
      "Epoch 2/10 Iteration: 11600 Avg. Training loss: 3.7551 0.2596 sec/batch\n",
      "Epoch 2/10 Iteration: 11700 Avg. Training loss: 3.7383 0.2598 sec/batch\n",
      "Epoch 2/10 Iteration: 11800 Avg. Training loss: 3.7462 0.2597 sec/batch\n",
      "Epoch 2/10 Iteration: 11900 Avg. Training loss: 3.8239 0.2690 sec/batch\n",
      "Epoch 2/10 Iteration: 12000 Avg. Training loss: 3.8054 0.2933 sec/batch\n",
      "Nearest to th: century, rd, late, centuries, eighteenth, nd, mid, sixteenth,\n",
      "Nearest to so: doing, far, called, do, bartenders, reassembled, resonating, could,\n",
      "Nearest to is: alex, isaak, alexandrovna, corriere, gretchen, beano, seedy, twayne,\n",
      "Nearest to if: then, nonzero, converse, subseteq, disjoint, injective, you, equivalently,\n",
      "Nearest to five: galtieri, evolving, manon, scooters, compensate, frontline, pawl, luf,\n",
      "Nearest to by: dharmic, biological, bylaw, annoy, communication, conferencing, definitive, pneumocystis,\n",
      "Nearest to their: prevented, thorns, regained, monoamine, inexperience, new, kissaki, prevents,\n",
      "Nearest to were: take, coaches, saya, saguinus, cueball, aim, ceiling, galindo,\n",
      "Nearest to except: rebounds, exceptions, cotopaxi, nonexistent, labial, straining, trnc, dmz,\n",
      "Nearest to recorded: song, coldest, album, albums, songs, hottest, gramophone, recording,\n",
      "Nearest to smith: joseph, maynard, cowdery, dickson, adam, wein, paulist, ehrlich,\n",
      "Nearest to test: tests, gabba, transonic, icbm, booster, unmanned, cricket, intercontinental,\n",
      "Nearest to brother: younger, granddaughter, son, elder, wife, sister, rumpus, heir,\n",
      "Nearest to powers: constitution, vested, ratifying, statutory, constitutional, executive, delegated, exercised,\n",
      "Nearest to accepted: widely, universally, generally, scholars, erred, undermines, statement, survives,\n",
      "Nearest to lived: short, emigrated, convent, journeying, votadini, cared, placentia, interred,\n"
     ]
    },
    {
     "name": "stdout",
     "output_type": "stream",
     "text": [
      "Epoch 2/10 Iteration: 12100 Avg. Training loss: 3.7923 0.2789 sec/batch\n",
      "Epoch 2/10 Iteration: 12200 Avg. Training loss: 3.7778 0.2610 sec/batch\n",
      "Epoch 2/10 Iteration: 12300 Avg. Training loss: 3.8331 0.2614 sec/batch\n",
      "Epoch 2/10 Iteration: 12400 Avg. Training loss: 3.7218 0.2607 sec/batch\n",
      "Epoch 2/10 Iteration: 12500 Avg. Training loss: 3.7596 0.2608 sec/batch\n",
      "Epoch 2/10 Iteration: 12600 Avg. Training loss: 3.7877 0.2614 sec/batch\n",
      "Epoch 2/10 Iteration: 12700 Avg. Training loss: 3.8138 0.2606 sec/batch\n",
      "Epoch 2/10 Iteration: 12800 Avg. Training loss: 3.8142 0.2605 sec/batch\n",
      "Epoch 2/10 Iteration: 12900 Avg. Training loss: 3.7976 0.2605 sec/batch\n",
      "Epoch 2/10 Iteration: 13000 Avg. Training loss: 3.6973 0.2701 sec/batch\n",
      "Nearest to th: century, rd, centuries, nd, eighteenth, late, anniversary, mid,\n",
      "Nearest to so: doing, far, called, do, infidel, parseval, yoda, unachievable,\n",
      "Nearest to is: alex, alexandrovna, seedy, corriere, ellery, beano, izzard, rajiv,\n",
      "Nearest to if: then, nonzero, converse, injective, satisfies, invertible, subseteq, disjoint,\n",
      "Nearest to five: galtieri, samarium, manon, frontline, evolving, vet, scooters, compensate,\n",
      "Nearest to by: dharmic, bylaw, biological, communication, pneumocystis, annoy, definitive, vets,\n",
      "Nearest to their: thorns, prevented, inexperience, new, kissaki, prevents, androgynous, regained,\n",
      "Nearest to were: take, coaches, ceiling, aim, saya, saguinus, cueball, fuselage,\n",
      "Nearest to except: exceptions, rebounds, unrecognised, trnc, supersedes, labial, equivalents, glacially,\n",
      "Nearest to recorded: song, album, albums, coldest, recording, songs, gramophone, recordings,\n",
      "Nearest to smith: joseph, maynard, adam, cowdery, wein, dickson, riley, jacobs,\n",
      "Nearest to test: tests, ban, ozone, gabba, electromyography, booster, transonic, icbm,\n",
      "Nearest to brother: younger, elder, granddaughter, son, sister, fergus, father, wife,\n",
      "Nearest to powers: vested, exercised, ratifying, constitutional, executive, constitution, judiciary, delegated,\n",
      "Nearest to accepted: widely, universally, generally, scholars, nicea, erred, statement, survives,\n",
      "Nearest to lived: short, worked, votadini, convent, interred, placentia, nomine, neanderthal,\n",
      "Epoch 2/10 Iteration: 13100 Avg. Training loss: 3.7138 0.2763 sec/batch\n",
      "Epoch 2/10 Iteration: 13200 Avg. Training loss: 3.7558 0.2712 sec/batch\n",
      "Epoch 2/10 Iteration: 13300 Avg. Training loss: 3.7753 0.2708 sec/batch\n",
      "Epoch 2/10 Iteration: 13400 Avg. Training loss: 3.7610 0.2707 sec/batch\n",
      "Epoch 2/10 Iteration: 13500 Avg. Training loss: 3.7557 0.2713 sec/batch\n",
      "Epoch 2/10 Iteration: 13600 Avg. Training loss: 3.7560 0.2712 sec/batch\n",
      "Epoch 2/10 Iteration: 13700 Avg. Training loss: 3.7570 0.2721 sec/batch\n",
      "Epoch 2/10 Iteration: 13800 Avg. Training loss: 3.7923 0.2711 sec/batch\n",
      "Epoch 2/10 Iteration: 13900 Avg. Training loss: 3.6828 0.2713 sec/batch\n",
      "Epoch 2/10 Iteration: 14000 Avg. Training loss: 3.7796 0.2712 sec/batch\n",
      "Nearest to th: century, rd, eighteenth, late, centuries, nd, sixteenth, twentieth,\n",
      "Nearest to so: doing, far, called, do, infidel, rearranges, gracefully, too,\n",
      "Nearest to is: alex, isaak, alexandrovna, corriere, seedy, ellery, beano, lisbon,\n",
      "Nearest to if: then, you, nonzero, converse, subseteq, we, injective, satisfies,\n",
      "Nearest to five: fingertips, vet, scooters, frontline, evolving, manon, staged, unrecorded,\n",
      "Nearest to by: dharmic, bylaw, radiochemistry, biological, definitive, annoy, pneumocystis, communication,\n",
      "Nearest to their: inexperience, thorns, prevented, jit, prevents, antagonism, new, kissaki,\n",
      "Nearest to were: take, aim, engendered, ceiling, saya, idempotent, saguinus, plait,\n",
      "Nearest to except: exceptions, rebounds, unrecognised, trnc, every, supersedes, nonexistent, inte,\n",
      "Nearest to recorded: album, song, albums, coldest, recording, songs, gramophone, compilations,\n",
      "Nearest to smith: maynard, joseph, dickson, adam, cowdery, woodruff, snyder, nowell,\n",
      "Nearest to test: tests, ban, gabba, cricket, spaceflight, automatic, booster, testing,\n",
      "Nearest to brother: younger, elder, granddaughter, son, rumpus, sister, fergus, uncle,\n",
      "Nearest to powers: vested, judiciary, ratifying, executive, exercised, constitution, constitutional, veto,\n",
      "Nearest to accepted: widely, universally, nicea, scholars, generally, erred, undermines, rabbinical,\n",
      "Nearest to lived: short, worked, convent, journeying, died, placentia, emigrated, cared,\n",
      "Epoch 2/10 Iteration: 14100 Avg. Training loss: 3.7324 0.2734 sec/batch\n",
      "Epoch 2/10 Iteration: 14200 Avg. Training loss: 3.6381 0.2703 sec/batch\n",
      "Epoch 2/10 Iteration: 14300 Avg. Training loss: 3.7753 0.2708 sec/batch\n",
      "Epoch 2/10 Iteration: 14400 Avg. Training loss: 3.7792 0.2740 sec/batch\n",
      "Epoch 2/10 Iteration: 14500 Avg. Training loss: 3.7711 0.2708 sec/batch\n",
      "Epoch 2/10 Iteration: 14600 Avg. Training loss: 3.8261 0.2710 sec/batch\n",
      "Epoch 2/10 Iteration: 14700 Avg. Training loss: 3.7038 0.2716 sec/batch\n",
      "Epoch 2/10 Iteration: 14800 Avg. Training loss: 3.8186 0.2714 sec/batch\n",
      "Epoch 2/10 Iteration: 14900 Avg. Training loss: 3.7693 0.2711 sec/batch\n",
      "Epoch 2/10 Iteration: 15000 Avg. Training loss: 3.7528 0.2705 sec/batch\n",
      "Nearest to th: century, rd, eighteenth, centuries, late, nd, sixteenth, early,\n",
      "Nearest to so: doing, far, called, do, practicable, dreadful, too, taint,\n",
      "Nearest to is: alex, isaak, alexandrovna, teilhard, corriere, seedy, ellery, lisbon,\n",
      "Nearest to if: you, then, converse, nonzero, invertible, subtract, subseteq, nonempty,\n",
      "Nearest to five: unrecorded, fingertips, evolving, routinely, manon, staged, vet, frontline,\n",
      "Nearest to by: dharmic, bylaw, radiochemistry, biological, pneumocystis, definitive, communication, annoy,\n",
      "Nearest to their: prevents, prevented, thorns, jit, inexperience, new, kissaki, legs,\n",
      "Nearest to were: aim, take, ceiling, coaches, fuselage, engendered, saya, saguinus,\n",
      "Nearest to except: exceptions, rebounds, trnc, unrecognised, nonexistent, labial, every, supersedes,\n",
      "Nearest to recorded: coldest, album, hottest, song, albums, recording, songs, gramophone,\n",
      "Nearest to smith: maynard, dickson, cowdery, woodruff, riley, joseph, snyder, adam,\n",
      "Nearest to test: tests, ban, ozone, gabba, booster, testing, fairway, spaceflight,\n",
      "Nearest to brother: younger, elder, rumpus, son, granddaughter, uncle, sister, father,\n",
      "Nearest to powers: vested, exercised, ratifying, executive, constitution, bundesrat, constitutional, delegated,\n",
      "Nearest to accepted: widely, universally, scholars, generally, nicea, debatable, accept, erred,\n",
      "Nearest to lived: short, convent, worked, journeying, ago, amorites, pliocene, parentage,\n",
      "Epoch 2/10 Iteration: 15100 Avg. Training loss: 3.7623 0.2732 sec/batch\n",
      "Epoch 2/10 Iteration: 15200 Avg. Training loss: 3.7372 0.2703 sec/batch\n",
      "Epoch 2/10 Iteration: 15300 Avg. Training loss: 3.7651 0.2705 sec/batch\n",
      "Epoch 2/10 Iteration: 15400 Avg. Training loss: 3.6285 0.2752 sec/batch\n",
      "Epoch 2/10 Iteration: 15500 Avg. Training loss: 3.6989 0.2695 sec/batch\n",
      "Epoch 2/10 Iteration: 15600 Avg. Training loss: 3.7156 0.2739 sec/batch\n",
      "Epoch 2/10 Iteration: 15700 Avg. Training loss: 3.7130 0.2670 sec/batch\n",
      "Epoch 2/10 Iteration: 15800 Avg. Training loss: 3.7803 0.2705 sec/batch\n",
      "Epoch 2/10 Iteration: 15900 Avg. Training loss: 3.6064 0.2701 sec/batch\n",
      "Epoch 2/10 Iteration: 16000 Avg. Training loss: 3.6926 0.2748 sec/batch\n",
      "Nearest to th: century, rd, nd, late, eighteenth, centuries, anniversary, eleventh,\n",
      "Nearest to so: doing, far, called, do, practicable, valpara, mafune, masuria,\n",
      "Nearest to is: alex, alexandrovna, teilhard, isaak, lisbon, seedy, corriere, ellery,\n",
      "Nearest to if: then, you, nonzero, equivalently, subtract, subseteq, converse, coprime,\n",
      "Nearest to five: fingertips, routinely, evolving, frontline, delved, compensate, vet, equestrian,\n",
      "Nearest to by: bylaw, dharmic, radiochemistry, annoy, pneumocystis, vets, definitive, pertain,\n",
      "Nearest to their: inexperience, prevents, thorns, prevented, bands, new, legs, kissaki,\n",
      "Nearest to were: aim, take, shaven, ceiling, coaches, engendered, cx, fuselage,\n",
      "Nearest to except: exceptions, unrecognised, trnc, rebounds, labial, few, every, proprietors,\n",
      "Nearest to recorded: coldest, recording, hottest, song, album, albums, songs, recordings,\n",
      "Nearest to smith: maynard, adam, dickson, nowell, joseph, samantha, cowdery, riley,\n",
      "Nearest to test: tests, ban, ozone, dumping, gabba, hazardous, wastes, cricket,\n",
      "Nearest to brother: younger, rumpus, elder, mcfowl, sister, father, son, uncle,\n",
      "Nearest to powers: exercised, vested, bundesrat, wielded, mahuad, prerogatives, enumerated, autocratic,\n",
      "Nearest to accepted: widely, universally, generally, accept, scholars, debatable, nicea, undermines,\n",
      "Nearest to lived: short, journeying, worked, emigrated, convent, ago, entombed, marija,\n"
     ]
    },
    {
     "name": "stdout",
     "output_type": "stream",
     "text": [
      "Epoch 2/10 Iteration: 16100 Avg. Training loss: 3.7286 0.2786 sec/batch\n",
      "Epoch 2/10 Iteration: 16200 Avg. Training loss: 3.7797 0.2757 sec/batch\n",
      "Epoch 2/10 Iteration: 16300 Avg. Training loss: 3.7330 0.2694 sec/batch\n",
      "Epoch 2/10 Iteration: 16400 Avg. Training loss: 3.8563 0.2632 sec/batch\n",
      "Epoch 2/10 Iteration: 16500 Avg. Training loss: 3.8317 0.2648 sec/batch\n",
      "Epoch 2/10 Iteration: 16600 Avg. Training loss: 3.7653 0.2774 sec/batch\n",
      "Epoch 2/10 Iteration: 16700 Avg. Training loss: 3.5956 0.2751 sec/batch\n",
      "Epoch 2/10 Iteration: 16800 Avg. Training loss: 3.7588 0.2716 sec/batch\n",
      "Epoch 2/10 Iteration: 16900 Avg. Training loss: 3.6957 0.2737 sec/batch\n",
      "Epoch 2/10 Iteration: 17000 Avg. Training loss: 3.7284 0.2733 sec/batch\n",
      "Nearest to th: century, eighteenth, rd, late, centuries, nd, madhava, fifteenth,\n",
      "Nearest to so: doing, far, called, do, gracefully, practicable, fick, reassembled,\n",
      "Nearest to is: alex, alexandrovna, isaak, teilhard, corriere, lisbon, ellery, nicola,\n",
      "Nearest to if: then, nonzero, equivalently, subseteq, nonempty, trivially, satisfies, determinant,\n",
      "Nearest to five: routinely, evolving, bodied, galtieri, vocalizations, delved, equestrian, monitor,\n",
      "Nearest to by: bylaw, dharmic, annoy, radiochemistry, pneumocystis, kelly, hereafter, vets,\n",
      "Nearest to their: inexperience, prevented, legs, thorns, new, bands, prevents, barefoot,\n",
      "Nearest to were: galindo, aim, engendered, take, shaven, ceiling, cx, saguinus,\n",
      "Nearest to except: exceptions, unrecognised, trnc, syllable, rebounds, labial, glacially, few,\n",
      "Nearest to recorded: coldest, recording, album, albums, song, songs, hottest, recordings,\n",
      "Nearest to smith: adam, maynard, joseph, cowdery, rigdon, wein, woodruff, nowell,\n",
      "Nearest to test: tests, ozone, ban, smirnov, dumping, hazardous, testing, wastes,\n",
      "Nearest to brother: younger, rumpus, elder, mcfowl, sister, siblings, granddaughter, fergus,\n",
      "Nearest to powers: wielded, exercised, executive, enumerated, delegated, vested, constitutional, veto,\n",
      "Nearest to accepted: widely, universally, generally, accept, debatable, hadiths, scholars, statement,\n",
      "Nearest to lived: short, worked, marija, emigrated, journeying, medians, nablus, abbadie,\n",
      "Epoch 2/10 Iteration: 17100 Avg. Training loss: 3.8008 0.2762 sec/batch\n",
      "Epoch 2/10 Iteration: 17200 Avg. Training loss: 3.7341 0.2731 sec/batch\n",
      "Epoch 2/10 Iteration: 17300 Avg. Training loss: 3.4564 0.2736 sec/batch\n",
      "Epoch 2/10 Iteration: 17400 Avg. Training loss: 3.7195 0.2729 sec/batch\n",
      "Epoch 2/10 Iteration: 17500 Avg. Training loss: 3.7104 0.2733 sec/batch\n",
      "Epoch 2/10 Iteration: 17600 Avg. Training loss: 3.7081 0.2788 sec/batch\n",
      "Epoch 2/10 Iteration: 17700 Avg. Training loss: 3.7230 0.2728 sec/batch\n",
      "Epoch 2/10 Iteration: 17800 Avg. Training loss: 3.6872 0.2726 sec/batch\n",
      "Epoch 2/10 Iteration: 17900 Avg. Training loss: 3.7853 0.2733 sec/batch\n",
      "Epoch 2/10 Iteration: 18000 Avg. Training loss: 3.7553 0.2734 sec/batch\n",
      "Nearest to th: century, rd, centuries, nd, late, eighteenth, anniversary, hdi,\n",
      "Nearest to so: doing, far, called, do, gracefully, mafune, yoda, taint,\n",
      "Nearest to is: alex, teilhard, alexandrovna, corriere, isaak, frink, rajiv, schaffner,\n",
      "Nearest to if: then, you, nonzero, subseteq, trivially, determinant, invertible, finitely,\n",
      "Nearest to five: routinely, fingertips, evolving, samarium, galtieri, vocalizations, delved, compensate,\n",
      "Nearest to by: bylaw, dharmic, annoy, radiochemistry, hereafter, kelly, pneumocystis, definitive,\n",
      "Nearest to their: inexperience, legs, merozoites, thorns, prevents, prevented, new, barefoot,\n",
      "Nearest to were: engendered, take, galindo, aim, fuselage, matthews, shaven, ceiling,\n",
      "Nearest to except: exceptions, rebounds, nonexistent, syllable, almost, trnc, few, vowel,\n",
      "Nearest to recorded: coldest, hottest, recording, albums, album, recordings, sessions, live,\n",
      "Nearest to smith: adam, maynard, joseph, emmitt, cowdery, nowell, riley, rigdon,\n",
      "Nearest to test: tests, ban, testing, ozone, dumping, cricket, hazardous, booster,\n",
      "Nearest to brother: younger, rumpus, elder, sister, mcfowl, granddaughter, siblings, matilda,\n",
      "Nearest to powers: wielded, delegated, executive, enumerated, exercised, vested, possessing, entities,\n",
      "Nearest to accepted: widely, universally, generally, accept, hadiths, scholars, contradicts, debatable,\n",
      "Nearest to lived: short, worked, convent, abbadie, marija, stayed, emigrated, seamstress,\n",
      "Epoch 3/10 Iteration: 18100 Avg. Training loss: 3.7904 0.0990 sec/batch\n",
      "Epoch 3/10 Iteration: 18200 Avg. Training loss: 3.6803 0.2732 sec/batch\n",
      "Epoch 3/10 Iteration: 18300 Avg. Training loss: 3.6844 0.2724 sec/batch\n",
      "Epoch 3/10 Iteration: 18400 Avg. Training loss: 3.6654 0.2734 sec/batch\n",
      "Epoch 3/10 Iteration: 18500 Avg. Training loss: 3.7044 0.2758 sec/batch\n",
      "Epoch 3/10 Iteration: 18600 Avg. Training loss: 3.6728 0.2737 sec/batch\n",
      "Epoch 3/10 Iteration: 18700 Avg. Training loss: 3.6804 0.2738 sec/batch\n",
      "Epoch 3/10 Iteration: 18800 Avg. Training loss: 3.6992 0.2726 sec/batch\n",
      "Epoch 3/10 Iteration: 18900 Avg. Training loss: 3.6705 0.2738 sec/batch\n",
      "Epoch 3/10 Iteration: 19000 Avg. Training loss: 3.6991 0.2731 sec/batch\n",
      "Nearest to th: century, rd, nd, late, eighteenth, centuries, gregorian, nfc,\n",
      "Nearest to so: doing, far, called, do, practicable, gracefully, fick, reordered,\n",
      "Nearest to is: alexandrovna, alex, teilhard, corriere, isaak, lobo, rajiv, frink,\n",
      "Nearest to if: you, nonzero, then, satisfies, subseteq, reflexivity, additivity, coprime,\n",
      "Nearest to five: routinely, fingertips, samarium, bodied, manon, evolving, classrooms, equestrian,\n",
      "Nearest to by: dharmic, hereafter, kelly, radiochemistry, bylaw, definitive, annoy, pertain,\n",
      "Nearest to their: prevents, regained, legs, thorns, new, myocardial, inexperience, jit,\n",
      "Nearest to were: take, aim, engendered, receptacle, ceiling, fuselage, coaches, matthews,\n",
      "Nearest to except: exceptions, rebounds, gemination, nonexistent, syllable, holders, positioned, trnc,\n",
      "Nearest to recorded: coldest, hottest, recording, albums, sessions, album, temperature, recordings,\n",
      "Nearest to smith: adam, joseph, maynard, cowdery, jr, woodruff, rigdon, nowell,\n",
      "Nearest to test: tests, cricket, gabba, booster, ban, edgbaston, testing, icbm,\n",
      "Nearest to brother: rumpus, younger, elder, sister, mcfowl, caesarion, granddaughter, niece,\n",
      "Nearest to powers: wielded, enumerated, exercised, executive, delegated, vested, veto, possessing,\n",
      "Nearest to accepted: widely, universally, generally, scholars, debatable, corroborating, accept, authoritative,\n",
      "Nearest to lived: short, worked, emigrated, convent, marija, stayed, ago, abbadie,\n",
      "Epoch 3/10 Iteration: 19100 Avg. Training loss: 3.7220 0.2761 sec/batch\n",
      "Epoch 3/10 Iteration: 19200 Avg. Training loss: 3.6723 0.2748 sec/batch\n",
      "Epoch 3/10 Iteration: 19300 Avg. Training loss: 3.7020 0.2741 sec/batch\n",
      "Epoch 3/10 Iteration: 19400 Avg. Training loss: 3.5613 0.2731 sec/batch\n",
      "Epoch 3/10 Iteration: 19500 Avg. Training loss: 3.6930 0.2765 sec/batch\n",
      "Epoch 3/10 Iteration: 19600 Avg. Training loss: 3.7409 0.2774 sec/batch\n",
      "Epoch 3/10 Iteration: 19700 Avg. Training loss: 3.7045 0.2799 sec/batch\n",
      "Epoch 3/10 Iteration: 19800 Avg. Training loss: 3.7054 0.2787 sec/batch\n",
      "Epoch 3/10 Iteration: 19900 Avg. Training loss: 3.7274 0.2845 sec/batch\n",
      "Epoch 3/10 Iteration: 20000 Avg. Training loss: 3.7174 0.2758 sec/batch\n",
      "Nearest to th: century, rd, centuries, late, nd, eighteenth, afc, nfc,\n",
      "Nearest to so: doing, far, called, practicable, do, gracefully, yoda, reassembled,\n",
      "Nearest to is: alexandrovna, teilhard, isaak, alex, rajiv, beano, corriere, lobo,\n",
      "Nearest to if: you, then, subtract, nonzero, injective, bijection, subseteq, fails,\n",
      "Nearest to five: routinely, equestrian, samarium, manon, evolving, vocalizations, bodied, classrooms,\n",
      "Nearest to by: kelly, dharmic, hereafter, radiochemistry, bylaw, definitive, annoy, vets,\n",
      "Nearest to their: inexperience, toes, prevents, antagonism, legs, barefoot, new, thorns,\n",
      "Nearest to were: take, engendered, aim, matthews, ceiling, pixar, coaches, afford,\n",
      "Nearest to except: exceptions, rebounds, nonexistent, gemination, forfeit, fewer, every, labial,\n",
      "Nearest to recorded: recording, coldest, albums, hottest, songs, song, sessions, album,\n",
      "Nearest to smith: joseph, adam, maynard, cowdery, rigdon, jr, emmitt, wein,\n",
      "Nearest to test: tests, cricket, gabba, ban, wickets, edgbaston, booster, testing,\n",
      "Nearest to brother: rumpus, younger, mcfowl, sister, elder, siblings, widow, aunts,\n",
      "Nearest to powers: wielded, executive, mahuad, exercised, possessing, veto, vested, entities,\n",
      "Nearest to accepted: widely, generally, universally, accept, scholars, debatable, reexamination, corroborating,\n",
      "Nearest to lived: short, worked, ago, emigrated, convent, miocene, pliocene, medians,\n"
     ]
    },
    {
     "name": "stdout",
     "output_type": "stream",
     "text": [
      "Epoch 3/10 Iteration: 20100 Avg. Training loss: 3.6842 0.2812 sec/batch\n",
      "Epoch 3/10 Iteration: 20200 Avg. Training loss: 3.6417 0.2773 sec/batch\n",
      "Epoch 3/10 Iteration: 20300 Avg. Training loss: 3.4657 0.2706 sec/batch\n",
      "Epoch 3/10 Iteration: 20400 Avg. Training loss: 3.6768 0.2717 sec/batch\n",
      "Epoch 3/10 Iteration: 20500 Avg. Training loss: 3.6415 0.2672 sec/batch\n",
      "Epoch 3/10 Iteration: 20600 Avg. Training loss: 3.6548 0.2600 sec/batch\n",
      "Epoch 3/10 Iteration: 20700 Avg. Training loss: 3.6703 0.2611 sec/batch\n",
      "Epoch 3/10 Iteration: 20800 Avg. Training loss: 3.5937 0.2595 sec/batch\n",
      "Epoch 3/10 Iteration: 20900 Avg. Training loss: 3.6956 0.2691 sec/batch\n"
     ]
    },
    {
     "ename": "KeyboardInterrupt",
     "evalue": "",
     "output_type": "error",
     "traceback": [
      "\u001b[0;31m---------------------------------------------------------------------------\u001b[0m",
      "\u001b[0;31mKeyboardInterrupt\u001b[0m                         Traceback (most recent call last)",
      "\u001b[0;32m<ipython-input-17-b1d3869cd0d6>\u001b[0m in \u001b[0;36m<module>\u001b[0;34m()\u001b[0m\n\u001b[1;32m     18\u001b[0m             feed = {inputs: x,\n\u001b[1;32m     19\u001b[0m                     labels: np.array(y)[:, None]}\n\u001b[0;32m---> 20\u001b[0;31m             \u001b[0mtrain_loss\u001b[0m\u001b[0;34m,\u001b[0m \u001b[0m_\u001b[0m \u001b[0;34m=\u001b[0m \u001b[0msess\u001b[0m\u001b[0;34m.\u001b[0m\u001b[0mrun\u001b[0m\u001b[0;34m(\u001b[0m\u001b[0;34m[\u001b[0m\u001b[0mcost\u001b[0m\u001b[0;34m,\u001b[0m \u001b[0moptimizer\u001b[0m\u001b[0;34m]\u001b[0m\u001b[0;34m,\u001b[0m \u001b[0mfeed_dict\u001b[0m\u001b[0;34m=\u001b[0m\u001b[0mfeed\u001b[0m\u001b[0;34m)\u001b[0m\u001b[0;34m\u001b[0m\u001b[0m\n\u001b[0m\u001b[1;32m     21\u001b[0m \u001b[0;34m\u001b[0m\u001b[0m\n\u001b[1;32m     22\u001b[0m             \u001b[0mloss\u001b[0m \u001b[0;34m+=\u001b[0m \u001b[0mtrain_loss\u001b[0m\u001b[0;34m\u001b[0m\u001b[0m\n",
      "\u001b[0;32m/home/gus/anaconda3/envs/tensorflow/lib/python3.5/site-packages/tensorflow/python/client/session.py\u001b[0m in \u001b[0;36mrun\u001b[0;34m(self, fetches, feed_dict, options, run_metadata)\u001b[0m\n\u001b[1;32m    776\u001b[0m     \u001b[0;32mtry\u001b[0m\u001b[0;34m:\u001b[0m\u001b[0;34m\u001b[0m\u001b[0m\n\u001b[1;32m    777\u001b[0m       result = self._run(None, fetches, feed_dict, options_ptr,\n\u001b[0;32m--> 778\u001b[0;31m                          run_metadata_ptr)\n\u001b[0m\u001b[1;32m    779\u001b[0m       \u001b[0;32mif\u001b[0m \u001b[0mrun_metadata\u001b[0m\u001b[0;34m:\u001b[0m\u001b[0;34m\u001b[0m\u001b[0m\n\u001b[1;32m    780\u001b[0m         \u001b[0mproto_data\u001b[0m \u001b[0;34m=\u001b[0m \u001b[0mtf_session\u001b[0m\u001b[0;34m.\u001b[0m\u001b[0mTF_GetBuffer\u001b[0m\u001b[0;34m(\u001b[0m\u001b[0mrun_metadata_ptr\u001b[0m\u001b[0;34m)\u001b[0m\u001b[0;34m\u001b[0m\u001b[0m\n",
      "\u001b[0;32m/home/gus/anaconda3/envs/tensorflow/lib/python3.5/site-packages/tensorflow/python/client/session.py\u001b[0m in \u001b[0;36m_run\u001b[0;34m(self, handle, fetches, feed_dict, options, run_metadata)\u001b[0m\n\u001b[1;32m    980\u001b[0m     \u001b[0;32mif\u001b[0m \u001b[0mfinal_fetches\u001b[0m \u001b[0;32mor\u001b[0m \u001b[0mfinal_targets\u001b[0m\u001b[0;34m:\u001b[0m\u001b[0;34m\u001b[0m\u001b[0m\n\u001b[1;32m    981\u001b[0m       results = self._do_run(handle, final_targets, final_fetches,\n\u001b[0;32m--> 982\u001b[0;31m                              feed_dict_string, options, run_metadata)\n\u001b[0m\u001b[1;32m    983\u001b[0m     \u001b[0;32melse\u001b[0m\u001b[0;34m:\u001b[0m\u001b[0;34m\u001b[0m\u001b[0m\n\u001b[1;32m    984\u001b[0m       \u001b[0mresults\u001b[0m \u001b[0;34m=\u001b[0m \u001b[0;34m[\u001b[0m\u001b[0;34m]\u001b[0m\u001b[0;34m\u001b[0m\u001b[0m\n",
      "\u001b[0;32m/home/gus/anaconda3/envs/tensorflow/lib/python3.5/site-packages/tensorflow/python/client/session.py\u001b[0m in \u001b[0;36m_do_run\u001b[0;34m(self, handle, target_list, fetch_list, feed_dict, options, run_metadata)\u001b[0m\n\u001b[1;32m   1030\u001b[0m     \u001b[0;32mif\u001b[0m \u001b[0mhandle\u001b[0m \u001b[0;32mis\u001b[0m \u001b[0;32mNone\u001b[0m\u001b[0;34m:\u001b[0m\u001b[0;34m\u001b[0m\u001b[0m\n\u001b[1;32m   1031\u001b[0m       return self._do_call(_run_fn, self._session, feed_dict, fetch_list,\n\u001b[0;32m-> 1032\u001b[0;31m                            target_list, options, run_metadata)\n\u001b[0m\u001b[1;32m   1033\u001b[0m     \u001b[0;32melse\u001b[0m\u001b[0;34m:\u001b[0m\u001b[0;34m\u001b[0m\u001b[0m\n\u001b[1;32m   1034\u001b[0m       return self._do_call(_prun_fn, self._session, handle, feed_dict,\n",
      "\u001b[0;32m/home/gus/anaconda3/envs/tensorflow/lib/python3.5/site-packages/tensorflow/python/client/session.py\u001b[0m in \u001b[0;36m_do_call\u001b[0;34m(self, fn, *args)\u001b[0m\n\u001b[1;32m   1037\u001b[0m   \u001b[0;32mdef\u001b[0m \u001b[0m_do_call\u001b[0m\u001b[0;34m(\u001b[0m\u001b[0mself\u001b[0m\u001b[0;34m,\u001b[0m \u001b[0mfn\u001b[0m\u001b[0;34m,\u001b[0m \u001b[0;34m*\u001b[0m\u001b[0margs\u001b[0m\u001b[0;34m)\u001b[0m\u001b[0;34m:\u001b[0m\u001b[0;34m\u001b[0m\u001b[0m\n\u001b[1;32m   1038\u001b[0m     \u001b[0;32mtry\u001b[0m\u001b[0;34m:\u001b[0m\u001b[0;34m\u001b[0m\u001b[0m\n\u001b[0;32m-> 1039\u001b[0;31m       \u001b[0;32mreturn\u001b[0m \u001b[0mfn\u001b[0m\u001b[0;34m(\u001b[0m\u001b[0;34m*\u001b[0m\u001b[0margs\u001b[0m\u001b[0;34m)\u001b[0m\u001b[0;34m\u001b[0m\u001b[0m\n\u001b[0m\u001b[1;32m   1040\u001b[0m     \u001b[0;32mexcept\u001b[0m \u001b[0merrors\u001b[0m\u001b[0;34m.\u001b[0m\u001b[0mOpError\u001b[0m \u001b[0;32mas\u001b[0m \u001b[0me\u001b[0m\u001b[0;34m:\u001b[0m\u001b[0;34m\u001b[0m\u001b[0m\n\u001b[1;32m   1041\u001b[0m       \u001b[0mmessage\u001b[0m \u001b[0;34m=\u001b[0m \u001b[0mcompat\u001b[0m\u001b[0;34m.\u001b[0m\u001b[0mas_text\u001b[0m\u001b[0;34m(\u001b[0m\u001b[0me\u001b[0m\u001b[0;34m.\u001b[0m\u001b[0mmessage\u001b[0m\u001b[0;34m)\u001b[0m\u001b[0;34m\u001b[0m\u001b[0m\n",
      "\u001b[0;32m/home/gus/anaconda3/envs/tensorflow/lib/python3.5/site-packages/tensorflow/python/client/session.py\u001b[0m in \u001b[0;36m_run_fn\u001b[0;34m(session, feed_dict, fetch_list, target_list, options, run_metadata)\u001b[0m\n\u001b[1;32m   1019\u001b[0m         return tf_session.TF_Run(session, options,\n\u001b[1;32m   1020\u001b[0m                                  \u001b[0mfeed_dict\u001b[0m\u001b[0;34m,\u001b[0m \u001b[0mfetch_list\u001b[0m\u001b[0;34m,\u001b[0m \u001b[0mtarget_list\u001b[0m\u001b[0;34m,\u001b[0m\u001b[0;34m\u001b[0m\u001b[0m\n\u001b[0;32m-> 1021\u001b[0;31m                                  status, run_metadata)\n\u001b[0m\u001b[1;32m   1022\u001b[0m \u001b[0;34m\u001b[0m\u001b[0m\n\u001b[1;32m   1023\u001b[0m     \u001b[0;32mdef\u001b[0m \u001b[0m_prun_fn\u001b[0m\u001b[0;34m(\u001b[0m\u001b[0msession\u001b[0m\u001b[0;34m,\u001b[0m \u001b[0mhandle\u001b[0m\u001b[0;34m,\u001b[0m \u001b[0mfeed_dict\u001b[0m\u001b[0;34m,\u001b[0m \u001b[0mfetch_list\u001b[0m\u001b[0;34m)\u001b[0m\u001b[0;34m:\u001b[0m\u001b[0;34m\u001b[0m\u001b[0m\n",
      "\u001b[0;31mKeyboardInterrupt\u001b[0m: "
     ]
    }
   ],
   "source": [
    "epochs = 10\n",
    "batch_size = 1000\n",
    "window_size = 10\n",
    "\n",
    "with train_graph.as_default():\n",
    "    saver = tf.train.Saver()\n",
    "\n",
    "with tf.Session(graph=train_graph) as sess:\n",
    "    iteration = 1\n",
    "    loss = 0\n",
    "    sess.run(tf.global_variables_initializer())\n",
    "\n",
    "    for e in range(1, epochs+1):\n",
    "        batches = get_batches(train_words, batch_size, window_size)\n",
    "        start = time.time()\n",
    "        for x, y in batches:\n",
    "            \n",
    "            feed = {inputs: x,\n",
    "                    labels: np.array(y)[:, None]}\n",
    "            train_loss, _ = sess.run([cost, optimizer], feed_dict=feed)\n",
    "            \n",
    "            loss += train_loss\n",
    "            \n",
    "            if iteration % 100 == 0: \n",
    "                end = time.time()\n",
    "                print(\"Epoch {}/{}\".format(e, epochs),\n",
    "                      \"Iteration: {}\".format(iteration),\n",
    "                      \"Avg. Training loss: {:.4f}\".format(loss/100),\n",
    "                      \"{:.4f} sec/batch\".format((end-start)/100))\n",
    "                loss = 0\n",
    "                start = time.time()\n",
    "            \n",
    "            if iteration % 1000 == 0:\n",
    "                ## From Thushan Ganegedara's implementation\n",
    "                # note that this is expensive (~20% slowdown if computed every 500 steps)\n",
    "                sim = similarity.eval()\n",
    "                for i in range(valid_size):\n",
    "                    valid_word = int_to_vocab[valid_examples[i]]\n",
    "                    top_k = 8 # number of nearest neighbors\n",
    "                    nearest = (-sim[i, :]).argsort()[1:top_k+1]\n",
    "                    log = 'Nearest to %s:' % valid_word\n",
    "                    for k in range(top_k):\n",
    "                        close_word = int_to_vocab[nearest[k]]\n",
    "                        log = '%s %s,' % (log, close_word)\n",
    "                    print(log)\n",
    "            \n",
    "            iteration += 1\n",
    "    save_path = saver.save(sess, \"checkpoints/text8.ckpt\")\n",
    "    embed_mat = sess.run(normalized_embedding)"
   ]
  },
  {
   "cell_type": "markdown",
   "metadata": {},
   "source": [
    "Restore the trained network if you need to:"
   ]
  },
  {
   "cell_type": "code",
   "execution_count": null,
   "metadata": {
    "collapsed": true
   },
   "outputs": [],
   "source": [
    "with train_graph.as_default():\n",
    "    saver = tf.train.Saver()\n",
    "\n",
    "with tf.Session(graph=train_graph) as sess:\n",
    "    saver.restore(sess, tf.train.latest_checkpoint('checkpoints'))\n",
    "    embed_mat = sess.run(embedding)"
   ]
  },
  {
   "cell_type": "markdown",
   "metadata": {},
   "source": [
    "## Visualizing the word vectors\n",
    "\n",
    "Below we'll use T-SNE to visualize how our high-dimensional word vectors cluster together. T-SNE is used to project these vectors into two dimensions while preserving local stucture. Check out [this post from Christopher Olah](http://colah.github.io/posts/2014-10-Visualizing-MNIST/) to learn more about T-SNE and other ways to visualize high-dimensional data."
   ]
  },
  {
   "cell_type": "code",
   "execution_count": null,
   "metadata": {
    "collapsed": true
   },
   "outputs": [],
   "source": [
    "%matplotlib inline\n",
    "%config InlineBackend.figure_format = 'retina'\n",
    "\n",
    "import matplotlib.pyplot as plt\n",
    "from sklearn.manifold import TSNE"
   ]
  },
  {
   "cell_type": "code",
   "execution_count": null,
   "metadata": {
    "collapsed": true
   },
   "outputs": [],
   "source": [
    "viz_words = 500\n",
    "tsne = TSNE()\n",
    "embed_tsne = tsne.fit_transform(embed_mat[:viz_words, :])"
   ]
  },
  {
   "cell_type": "code",
   "execution_count": null,
   "metadata": {
    "collapsed": true
   },
   "outputs": [],
   "source": [
    "fig, ax = plt.subplots(figsize=(14, 14))\n",
    "for idx in range(viz_words):\n",
    "    plt.scatter(*embed_tsne[idx, :], color='steelblue')\n",
    "    plt.annotate(int_to_vocab[idx], (embed_tsne[idx, 0], embed_tsne[idx, 1]), alpha=0.7)"
   ]
  }
 ],
 "metadata": {
  "kernelspec": {
   "display_name": "Python 3",
   "language": "python",
   "name": "python3"
  },
  "language_info": {
   "codemirror_mode": {
    "name": "ipython",
    "version": 3
   },
   "file_extension": ".py",
   "mimetype": "text/x-python",
   "name": "python",
   "nbconvert_exporter": "python",
   "pygments_lexer": "ipython3",
   "version": "3.5.3"
  }
 },
 "nbformat": 4,
 "nbformat_minor": 2
}
