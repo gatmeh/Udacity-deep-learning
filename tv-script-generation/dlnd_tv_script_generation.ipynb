{
 "cells": [
  {
   "cell_type": "markdown",
   "metadata": {},
   "source": [
    "# TV Script Generation\n",
    "In this project, you'll generate your own [Simpsons](https://en.wikipedia.org/wiki/The_Simpsons) TV scripts using RNNs.  You'll be using part of the [Simpsons dataset](https://www.kaggle.com/wcukierski/the-simpsons-by-the-data) of scripts from 27 seasons.  The Neural Network you'll build will generate a new TV script for a scene at [Moe's Tavern](https://simpsonswiki.com/wiki/Moe's_Tavern).\n",
    "## Get the Data\n",
    "The data is already provided for you.  You'll be using a subset of the original dataset.  It consists of only the scenes in Moe's Tavern.  This doesn't include other versions of the tavern, like \"Moe's Cavern\", \"Flaming Moe's\", \"Uncle Moe's Family Feed-Bag\", etc.."
   ]
  },
  {
   "cell_type": "code",
   "execution_count": 1,
   "metadata": {
    "collapsed": true
   },
   "outputs": [],
   "source": [
    "\"\"\"\n",
    "DON'T MODIFY ANYTHING IN THIS CELL\n",
    "\"\"\"\n",
    "import helper\n",
    "\n",
    "data_dir = './data/simpsons/moes_tavern_lines.txt'\n",
    "text = helper.load_data(data_dir)\n",
    "# Ignore notice, since we don't use it for analysing the data\n",
    "text = text[81:]"
   ]
  },
  {
   "cell_type": "markdown",
   "metadata": {},
   "source": [
    "## Explore the Data\n",
    "Play around with `view_sentence_range` to view different parts of the data."
   ]
  },
  {
   "cell_type": "code",
   "execution_count": 2,
   "metadata": {},
   "outputs": [
    {
     "name": "stdout",
     "output_type": "stream",
     "text": [
      "Dataset Stats\n",
      "Roughly the number of unique words: 11492\n",
      "Number of scenes: 262\n",
      "Average number of sentences in each scene: 15.248091603053435\n",
      "Number of lines: 4257\n",
      "Average number of words in each line: 11.50434578341555\n",
      "\n",
      "The sentences 0 to 10:\n",
      "Moe_Szyslak: (INTO PHONE) Moe's Tavern. Where the elite meet to drink.\n",
      "Bart_Simpson: Eh, yeah, hello, is Mike there? Last name, Rotch.\n",
      "Moe_Szyslak: (INTO PHONE) Hold on, I'll check. (TO BARFLIES) Mike Rotch. Mike Rotch. Hey, has anybody seen Mike Rotch, lately?\n",
      "Moe_Szyslak: (INTO PHONE) Listen you little puke. One of these days I'm gonna catch you, and I'm gonna carve my name on your back with an ice pick.\n",
      "Moe_Szyslak: What's the matter Homer? You're not your normal effervescent self.\n",
      "Homer_Simpson: I got my problems, Moe. Give me another one.\n",
      "Moe_Szyslak: Homer, hey, you should not drink to forget your problems.\n",
      "Barney_Gumble: Yeah, you should only drink to enhance your social skills.\n",
      "\n",
      "\n"
     ]
    }
   ],
   "source": [
    "view_sentence_range = (0, 10)\n",
    "\n",
    "\"\"\"\n",
    "DON'T MODIFY ANYTHING IN THIS CELL\n",
    "\"\"\"\n",
    "import numpy as np\n",
    "\n",
    "print('Dataset Stats')\n",
    "print('Roughly the number of unique words: {}'.format(len({word: None for word in text.split()})))\n",
    "scenes = text.split('\\n\\n')\n",
    "print('Number of scenes: {}'.format(len(scenes)))\n",
    "sentence_count_scene = [scene.count('\\n') for scene in scenes]\n",
    "print('Average number of sentences in each scene: {}'.format(np.average(sentence_count_scene)))\n",
    "\n",
    "sentences = [sentence for scene in scenes for sentence in scene.split('\\n')]\n",
    "print('Number of lines: {}'.format(len(sentences)))\n",
    "word_count_sentence = [len(sentence.split()) for sentence in sentences]\n",
    "print('Average number of words in each line: {}'.format(np.average(word_count_sentence)))\n",
    "\n",
    "print()\n",
    "print('The sentences {} to {}:'.format(*view_sentence_range))\n",
    "print('\\n'.join(text.split('\\n')[view_sentence_range[0]:view_sentence_range[1]]))"
   ]
  },
  {
   "cell_type": "markdown",
   "metadata": {},
   "source": [
    "## Implement Preprocessing Functions\n",
    "The first thing to do to any dataset is preprocessing.  Implement the following preprocessing functions below:\n",
    "- Lookup Table\n",
    "- Tokenize Punctuation\n",
    "\n",
    "### Lookup Table\n",
    "To create a word embedding, you first need to transform the words to ids.  In this function, create two dictionaries:\n",
    "- Dictionary to go from the words to an id, we'll call `vocab_to_int`\n",
    "- Dictionary to go from the id to word, we'll call `int_to_vocab`\n",
    "\n",
    "Return these dictionaries in the following tuple `(vocab_to_int, int_to_vocab)`"
   ]
  },
  {
   "cell_type": "code",
   "execution_count": 3,
   "metadata": {},
   "outputs": [
    {
     "name": "stdout",
     "output_type": "stream",
     "text": [
      "Tests Passed\n"
     ]
    }
   ],
   "source": [
    "import numpy as np\n",
    "import problem_unittests as tests\n",
    "from collections import Counter\n",
    "\n",
    "def create_lookup_tables(text):\n",
    "    \"\"\"\n",
    "    Create lookup tables for vocabulary\n",
    "    :param text: The text of tv scripts split into words\n",
    "    :return: A tuple of dicts (vocab_to_int, int_to_vocab)\n",
    "    \"\"\"\n",
    "    # get all unique words and thier count\n",
    "    counts = Counter(text)\n",
    "    \n",
    "    # sort all the words decending in counts\n",
    "    vocab = sorted(counts, key=counts.get, reverse=True)\n",
    "    \n",
    "    # create vocab_to_int and int_to_vocab dicts\n",
    "    vocab_to_int = {w: i for i,w in enumerate(vocab)}\n",
    "    int_to_vocab = {i: w for i,w in enumerate(vocab)}\n",
    "    \n",
    "    return vocab_to_int, int_to_vocab\n",
    "\n",
    "\n",
    "\"\"\"\n",
    "DON'T MODIFY ANYTHING IN THIS CELL THAT IS BELOW THIS LINE\n",
    "\"\"\"\n",
    "tests.test_create_lookup_tables(create_lookup_tables)"
   ]
  },
  {
   "cell_type": "markdown",
   "metadata": {},
   "source": [
    "### Tokenize Punctuation\n",
    "We'll be splitting the script into a word array using spaces as delimiters.  However, punctuations like periods and exclamation marks make it hard for the neural network to distinguish between the word \"bye\" and \"bye!\".\n",
    "\n",
    "Implement the function `token_lookup` to return a dict that will be used to tokenize symbols like \"!\" into \"||Exclamation_Mark||\".  Create a dictionary for the following symbols where the symbol is the key and value is the token:\n",
    "- Period ( . )\n",
    "- Comma ( , )\n",
    "- Quotation Mark ( \" )\n",
    "- Semicolon ( ; )\n",
    "- Exclamation mark ( ! )\n",
    "- Question mark ( ? )\n",
    "- Left Parentheses ( ( )\n",
    "- Right Parentheses ( ) )\n",
    "- Dash ( -- )\n",
    "- Return ( \\n )\n",
    "\n",
    "This dictionary will be used to token the symbols and add the delimiter (space) around it.  This separates the symbols as it's own word, making it easier for the neural network to predict on the next word. Make sure you don't use a token that could be confused as a word. Instead of using the token \"dash\", try using something like \"||dash||\"."
   ]
  },
  {
   "cell_type": "code",
   "execution_count": 4,
   "metadata": {},
   "outputs": [
    {
     "name": "stdout",
     "output_type": "stream",
     "text": [
      "Tests Passed\n"
     ]
    }
   ],
   "source": [
    "def token_lookup():\n",
    "    \"\"\"\n",
    "    Generate a dict to turn punctuation into a token.\n",
    "    :return: Tokenize dictionary where the key is the punctuation and the value is the token\n",
    "    \"\"\"\n",
    "    t_lookup = {'.': '||Period||', ',': '||Comma||',  '\"': '||Quotatio_Mark||',  ';': '||Semicolon||',  \n",
    "                '!': '||Exclamation_Mark||', '?': '||Question_Mark||', '(': '||Left_Parentheses||',\n",
    "                ')': '||Right_Parentheses||', '--': '||Dash', '\\n': '||Return||'}\n",
    "    return t_lookup\n",
    "\n",
    "\"\"\"\n",
    "DON'T MODIFY ANYTHING IN THIS CELL THAT IS BELOW THIS LINE\n",
    "\"\"\"\n",
    "tests.test_tokenize(token_lookup)"
   ]
  },
  {
   "cell_type": "markdown",
   "metadata": {},
   "source": [
    "## Preprocess all the data and save it\n",
    "Running the code cell below will preprocess all the data and save it to file."
   ]
  },
  {
   "cell_type": "code",
   "execution_count": 10,
   "metadata": {
    "collapsed": true
   },
   "outputs": [],
   "source": [
    "\"\"\"\n",
    "DON'T MODIFY ANYTHING IN THIS CELL\n",
    "\"\"\"\n",
    "# Preprocess Training, Validation, and Testing Data\n",
    "helper.preprocess_and_save_data(data_dir, token_lookup, create_lookup_tables)"
   ]
  },
  {
   "cell_type": "markdown",
   "metadata": {},
   "source": [
    "# Check Point\n",
    "This is your first checkpoint. If you ever decide to come back to this notebook or have to restart the notebook, you can start from here. The preprocessed data has been saved to disk."
   ]
  },
  {
   "cell_type": "code",
   "execution_count": 5,
   "metadata": {
    "collapsed": true
   },
   "outputs": [],
   "source": [
    "\"\"\"\n",
    "DON'T MODIFY ANYTHING IN THIS CELL\n",
    "\"\"\"\n",
    "import helper\n",
    "import numpy as np\n",
    "import problem_unittests as tests\n",
    "\n",
    "int_text, vocab_to_int, int_to_vocab, token_dict = helper.load_preprocess()"
   ]
  },
  {
   "cell_type": "markdown",
   "metadata": {},
   "source": [
    "## Build the Neural Network\n",
    "You'll build the components necessary to build a RNN by implementing the following functions below:\n",
    "- get_inputs\n",
    "- get_init_cell\n",
    "- get_embed\n",
    "- build_rnn\n",
    "- build_nn\n",
    "- get_batches\n",
    "\n",
    "### Check the Version of TensorFlow and Access to GPU"
   ]
  },
  {
   "cell_type": "code",
   "execution_count": 6,
   "metadata": {},
   "outputs": [
    {
     "name": "stdout",
     "output_type": "stream",
     "text": [
      "TensorFlow Version: 1.1.0\n"
     ]
    },
    {
     "name": "stderr",
     "output_type": "stream",
     "text": [
      "/home/gus/anaconda3/envs/tensorflow/lib/python3.5/site-packages/ipykernel_launcher.py:14: UserWarning: No GPU found. Please use a GPU to train your neural network.\n",
      "  \n"
     ]
    }
   ],
   "source": [
    "\"\"\"\n",
    "DON'T MODIFY ANYTHING IN THIS CELL\n",
    "\"\"\"\n",
    "from distutils.version import LooseVersion\n",
    "import warnings\n",
    "import tensorflow as tf\n",
    "\n",
    "# Check TensorFlow Version\n",
    "assert LooseVersion(tf.__version__) >= LooseVersion('1.0'), 'Please use TensorFlow version 1.0 or newer'\n",
    "print('TensorFlow Version: {}'.format(tf.__version__))\n",
    "\n",
    "# Check for a GPU\n",
    "if not tf.test.gpu_device_name():\n",
    "    warnings.warn('No GPU found. Please use a GPU to train your neural network.')\n",
    "else:\n",
    "    print('Default GPU Device: {}'.format(tf.test.gpu_device_name()))"
   ]
  },
  {
   "cell_type": "markdown",
   "metadata": {},
   "source": [
    "### Input\n",
    "Implement the `get_inputs()` function to create TF Placeholders for the Neural Network.  It should create the following placeholders:\n",
    "- Input text placeholder named \"input\" using the [TF Placeholder](https://www.tensorflow.org/api_docs/python/tf/placeholder) `name` parameter.\n",
    "- Targets placeholder\n",
    "- Learning Rate placeholder\n",
    "\n",
    "Return the placeholders in the following tuple `(Input, Targets, LearningRate)`"
   ]
  },
  {
   "cell_type": "code",
   "execution_count": 7,
   "metadata": {},
   "outputs": [
    {
     "name": "stdout",
     "output_type": "stream",
     "text": [
      "Tests Passed\n"
     ]
    }
   ],
   "source": [
    "def get_inputs():\n",
    "    \"\"\"\n",
    "    Create TF Placeholders for input, targets, and learning rate.\n",
    "    :return: Tuple (input, targets, learning rate)\n",
    "    \"\"\"\n",
    "    # TODO: Implement Function\n",
    "    inputs = tf.placeholder(dtype=tf.int32, shape=([None, None]), name='input')\n",
    "    targets = tf.placeholder(dtype=tf.int32, shape=([None, None]), name='target')\n",
    "    learning_rate = tf.placeholder(dtype=tf.float32, name='learning_rate')\n",
    "    \n",
    "    return inputs, targets, learning_rate\n",
    "\n",
    "\n",
    "\"\"\"\n",
    "DON'T MODIFY ANYTHING IN THIS CELL THAT IS BELOW THIS LINE\n",
    "\"\"\"\n",
    "tests.test_get_inputs(get_inputs)"
   ]
  },
  {
   "cell_type": "markdown",
   "metadata": {},
   "source": [
    "### Build RNN Cell and Initialize\n",
    "Stack one or more [`BasicLSTMCells`](https://www.tensorflow.org/api_docs/python/tf/contrib/rnn/BasicLSTMCell) in a [`MultiRNNCell`](https://www.tensorflow.org/api_docs/python/tf/contrib/rnn/MultiRNNCell).\n",
    "- The Rnn size should be set using `rnn_size`\n",
    "- Initalize Cell State using the MultiRNNCell's [`zero_state()`](https://www.tensorflow.org/api_docs/python/tf/contrib/rnn/MultiRNNCell#zero_state) function\n",
    "    - Apply the name \"initial_state\" to the initial state using [`tf.identity()`](https://www.tensorflow.org/api_docs/python/tf/identity)\n",
    "\n",
    "Return the cell and initial state in the following tuple `(Cell, InitialState)`"
   ]
  },
  {
   "cell_type": "code",
   "execution_count": 82,
   "metadata": {},
   "outputs": [
    {
     "name": "stdout",
     "output_type": "stream",
     "text": [
      "Tests Passed\n"
     ]
    }
   ],
   "source": [
    "def lstm_cell(lstm_size):\n",
    "    # https://stackoverflow.com/questions/42669578/tensorflow-1-0-valueerror-attempt-to-reuse-rnncell-with-a-different-variable-s\n",
    "    # Use a basic LSTM cell\n",
    "    return tf.contrib.rnn.BasicLSTMCell(lstm_size)\n",
    "\n",
    "def get_init_cell(batch_size, rnn_size):\n",
    "    \"\"\"\n",
    "    Create an RNN Cell and initialize it.\n",
    "    :param batch_size: Size of batches\n",
    "    :param rnn_size: Size of RNNs\n",
    "    :return: Tuple (cell, initialize state)\n",
    "    \"\"\"\n",
    "    # Stack up multiple LSTM layers, for deep learning\n",
    "    lstm_layers = 3\n",
    "    cell =  tf.contrib.rnn.MultiRNNCell([lstm_cell(rnn_size) for _ in range(lstm_layers)]) \n",
    "    \n",
    "    # Getting an initial state of all zeros\n",
    "    initial_state = tf.identity(cell. zero_state(batch_size, tf.float32), name='initial_state')\n",
    "    \n",
    "    return cell, initial_state\n",
    "\n",
    "\n",
    "\"\"\"\n",
    "DON'T MODIFY ANYTHING IN THIS CELL THAT IS BELOW THIS LINE\n",
    "\"\"\"\n",
    "tests.test_get_init_cell(get_init_cell)"
   ]
  },
  {
   "cell_type": "markdown",
   "metadata": {},
   "source": [
    "### Word Embedding\n",
    "Apply embedding to `input_data` using TensorFlow.  Return the embedded sequence."
   ]
  },
  {
   "cell_type": "code",
   "execution_count": 83,
   "metadata": {},
   "outputs": [
    {
     "name": "stdout",
     "output_type": "stream",
     "text": [
      "Tests Passed\n"
     ]
    }
   ],
   "source": [
    "def get_embed(input_data, vocab_size, embed_dim):\n",
    "    \"\"\"\n",
    "    Create embedding for <input_data>.\n",
    "    :param input_data: TF placeholder for text input.\n",
    "    :param vocab_size: Number of words in vocabulary.\n",
    "    :param embed_dim: Number of embedding dimensions\n",
    "    :return: Embedded input.\n",
    "    \"\"\"\n",
    "    embedding = tf.Variable(tf.truncated_normal(shape=([vocab_size, embed_dim]), stddev=0.1), name='embedding')\n",
    "    embed = tf.nn.embedding_lookup(params=embedding, ids=input_data, name='embed-lookup')\n",
    "    return embed\n",
    "\n",
    "\n",
    "\"\"\"\n",
    "DON'T MODIFY ANYTHING IN THIS CELL THAT IS BELOW THIS LINE\n",
    "\"\"\"\n",
    "tests.test_get_embed(get_embed)"
   ]
  },
  {
   "cell_type": "markdown",
   "metadata": {},
   "source": [
    "### Build RNN\n",
    "You created a RNN Cell in the `get_init_cell()` function.  Time to use the cell to create a RNN.\n",
    "- Build the RNN using the [`tf.nn.dynamic_rnn()`](https://www.tensorflow.org/api_docs/python/tf/nn/dynamic_rnn)\n",
    " - Apply the name \"final_state\" to the final state using [`tf.identity()`](https://www.tensorflow.org/api_docs/python/tf/identity)\n",
    "\n",
    "Return the outputs and final_state state in the following tuple `(Outputs, FinalState)` "
   ]
  },
  {
   "cell_type": "code",
   "execution_count": 84,
   "metadata": {},
   "outputs": [
    {
     "name": "stdout",
     "output_type": "stream",
     "text": [
      "Tests Passed\n"
     ]
    }
   ],
   "source": [
    "def build_rnn(cell, inputs):\n",
    "    \"\"\"\n",
    "    Create a RNN using a RNN Cell\n",
    "    :param cell: RNN Cell\n",
    "    :param inputs: Input text data\n",
    "    :return: Tuple (Outputs, Final State)\n",
    "    \"\"\"\n",
    "    # TODO: Implement Function\n",
    "    outputs, final_state = tf.nn.dynamic_rnn(cell, inputs, dtype=tf.float32)\n",
    "    final_state = tf.identity(final_state, name='final_state')\n",
    "    return outputs, final_state\n",
    "\n",
    "\n",
    "\"\"\"\n",
    "DON'T MODIFY ANYTHING IN THIS CELL THAT IS BELOW THIS LINE\n",
    "\"\"\"\n",
    "tests.test_build_rnn(build_rnn)"
   ]
  },
  {
   "cell_type": "markdown",
   "metadata": {},
   "source": [
    "### Build the Neural Network\n",
    "Apply the functions you implemented above to:\n",
    "- Apply embedding to `input_data` using your `get_embed(input_data, vocab_size, embed_dim)` function.\n",
    "- Build RNN using `cell` and your `build_rnn(cell, inputs)` function.\n",
    "- Apply a fully connected layer with a linear activation and `vocab_size` as the number of outputs.\n",
    "\n",
    "Return the logits and final state in the following tuple (Logits, FinalState) "
   ]
  },
  {
   "cell_type": "code",
   "execution_count": 85,
   "metadata": {},
   "outputs": [
    {
     "name": "stdout",
     "output_type": "stream",
     "text": [
      "Tests Passed\n"
     ]
    }
   ],
   "source": [
    "def build_nn(cell, rnn_size, input_data, vocab_size, embed_dim):\n",
    "    \"\"\"\n",
    "    Build part of the neural network\n",
    "    :param cell: RNN cell\n",
    "    :param rnn_size: Size of rnns\n",
    "    :param input_data: Input data\n",
    "    :param vocab_size: Vocabulary size\n",
    "    :param embed_dim: Number of embedding dimensions\n",
    "    :return: Tuple (Logits, FinalState)\n",
    "    \"\"\"\n",
    "    # TODO: Implement Function\n",
    "    embed = get_embed(input_data, vocab_size, embed_dim)\n",
    "    \n",
    "    outputs, final_state = build_rnn(cell, embed)\n",
    "    \n",
    "#     print(\"vocab_size: {}\".format(vocab_size))\n",
    "#     output_dim = outputs[:,-1].shape[0]\n",
    "#     print(output_dim.value)\n",
    "#     fc_weight = tf.Variable(tf.truncated_normal(shape=([vocab_size, output_dim.value]), stddev=0.1), name='FC_W')\n",
    "#     fc_bias = tf.Variable(tf.truncated_normal(shape=([vocab_size]), stddev=0.01), name='FC_b')\n",
    "#     print(\"created weights and biases\")\n",
    "#     logits = tf.matmul(fc_weight, outputs[:, -1]) + fc_bias\n",
    "    logits = tf.contrib.layers.fully_connected(outputs, vocab_size, activation_fn=None)\n",
    "    \n",
    "    return logits, final_state\n",
    "\n",
    "\n",
    "\"\"\"\n",
    "DON'T MODIFY ANYTHING IN THIS CELL THAT IS BELOW THIS LINE\n",
    "\"\"\"\n",
    "tests.test_build_nn(build_nn)"
   ]
  },
  {
   "cell_type": "markdown",
   "metadata": {},
   "source": [
    "### Batches\n",
    "Implement `get_batches` to create batches of input and targets using `int_text`.  The batches should be a Numpy array with the shape `(number of batches, 2, batch size, sequence length)`. Each batch contains two elements:\n",
    "- The first element is a single batch of **input** with the shape `[batch size, sequence length]`\n",
    "- The second element is a single batch of **targets** with the shape `[batch size, sequence length]`\n",
    "\n",
    "If you can't fill the last batch with enough data, drop the last batch.\n",
    "\n",
    "For exmple, `get_batches([1, 2, 3, 4, 5, 6, 7, 8, 9, 10, 11, 12, 13, 14, 15, 16, 17, 18, 19, 20], 3, 2)` would return a Numpy array of the following:\n",
    "```\n",
    "[\n",
    "  # First Batch\n",
    "  [\n",
    "    # Batch of Input\n",
    "    [[ 1  2], [ 7  8], [13 14]]\n",
    "    # Batch of targets\n",
    "    [[ 2  3], [ 8  9], [14 15]]\n",
    "  ]\n",
    "\n",
    "  # Second Batch\n",
    "  [\n",
    "    # Batch of Input\n",
    "    [[ 3  4], [ 9 10], [15 16]]\n",
    "    # Batch of targets\n",
    "    [[ 4  5], [10 11], [16 17]]\n",
    "  ]\n",
    "\n",
    "  # Third Batch\n",
    "  [\n",
    "    # Batch of Input\n",
    "    [[ 5  6], [11 12], [17 18]]\n",
    "    # Batch of targets\n",
    "    [[ 6  7], [12 13], [18  1]]\n",
    "  ]\n",
    "]\n",
    "```\n",
    "\n",
    "Notice that the last target value in the last batch is the first input value of the first batch. In this case, `1`. This is a common technique used when creating sequence batches, although it is rather unintuitive."
   ]
  },
  {
   "cell_type": "code",
   "execution_count": 86,
   "metadata": {},
   "outputs": [
    {
     "name": "stdout",
     "output_type": "stream",
     "text": [
      "Tests Passed\n"
     ]
    }
   ],
   "source": [
    "def get_batches(int_text, batch_size, seq_length):\n",
    "    \"\"\"\n",
    "    Return batches of input and target\n",
    "    :param int_text: Text with the words replaced by their ids\n",
    "    :param batch_size: The size of batch\n",
    "    :param seq_length: The length of sequence\n",
    "    :return: Batches as a Numpy array\n",
    "    \"\"\"\n",
    "    # TODO: Implement Function\n",
    "#     num_batche_el = len(int_text) // batch_size\n",
    "    \n",
    "    num_batch_el = batch_size * seq_length\n",
    "    num_batches = len(int_text) // num_batch_el\n",
    "    total_num_el = num_batches * num_batch_el\n",
    "    \n",
    "#     batches = []\n",
    "#     batch = []\n",
    "#     for i,x in enumerate(int_text, 1):\n",
    "#         batch.append(x)\n",
    "#         if (i%num_batche_el)==0 :\n",
    "#             batches.append(batch)\n",
    "#             batch = []\n",
    "            \n",
    "#     [[1, 2, 3, 4, 5, 6], [7, 8, 9, 10, 11, 12], [13, 14, 15, 16, 17, 18]]\n",
    "    result = np.empty([num_batches, 2, batch_size, seq_length])\n",
    "    result_i = 0\n",
    "    result_j = 0\n",
    "    \n",
    "    sub_seq = []\n",
    "    seq_mod = (seq_length + 1)\n",
    "    i_count = 0\n",
    "    for i,x in enumerate(int_text,1):\n",
    "        sub_seq.append(x)\n",
    "        i_count += 1\n",
    "        \n",
    "        # if at the last element in all batches\n",
    "        if i+1 == total_num_el+1:\n",
    "            new_i_count = 0\n",
    "            condition = True\n",
    "            while condition:\n",
    "                sub_seq.append(int_text[new_i_count])\n",
    "                new_i_count += 1\n",
    "                i_count += 1\n",
    "                if (0 == i_count % seq_mod):\n",
    "                    for w in range(0,seq_length):\n",
    "                        #print(\"i_count: {}, result_i: {}, result_j: {}, w: {}\".format(i_count,result_i,result_j,w))\n",
    "                        #print(\"sub_seq: {}\".format(sub_seq))\n",
    "                        result[result_i, 0, result_j, w] = sub_seq[w]\n",
    "                        result[result_i, 1, result_j, w] = sub_seq[w+1]\n",
    "                    \n",
    "                    # exit the while loop\n",
    "                    condition = False\n",
    "            # exit the big for loop \n",
    "            break                   \n",
    "        else:\n",
    "            \n",
    "            if (0 == i_count % seq_mod):\n",
    "                # for the rest of the batch\n",
    "                for w in range(0,seq_length):\n",
    "                    #print(\"i_count: {}, result_i: {}, result_j: {}, w: {}\".format(i_count,result_i,result_j,w))\n",
    "                    #print(\"sub_seq: {}\".format(sub_seq))\n",
    "                    result[result_i, 0, result_j, w] = sub_seq[w]\n",
    "                    result[result_i, 1, result_j, w] = sub_seq[w+1]\n",
    "\n",
    "                # keep last value\n",
    "                last_val = sub_seq[-1]\n",
    "                sub_seq = []\n",
    "                sub_seq.append(last_val)\n",
    "                i_count = 1\n",
    "\n",
    "                # increment to fill next batch \n",
    "                result_i += 1\n",
    "                if (result_i >= num_batches):\n",
    "                    # reset batch index and increment batch step \n",
    "                    result_i = 0\n",
    "                    result_j += 1\n",
    "                    if (result_j >= batch_size):\n",
    "                        # reset batch step\n",
    "                        result_j = 0\n",
    "                        \n",
    "    return result\n",
    "\n",
    "\n",
    "# test_seq = [1, 2, 3, 4, 5, 6, 7, 8, 9, 10, 11, 12, 13, 14, 15, 16, 17, 18, 19, 20]\n",
    "# c = get_batches(test_seq, 3, 2)\n",
    "# print(c)\n",
    "# print(a)\n",
    "# print(b)\n",
    "# print(d)\n",
    "# print(d.shape)\n",
    "\n",
    "\n",
    "\n",
    "\"\"\"\n",
    "DON'T MODIFY ANYTHING IN THIS CELL THAT IS BELOW THIS LINE\n",
    "\"\"\"\n",
    "tests.test_get_batches(get_batches)"
   ]
  },
  {
   "cell_type": "markdown",
   "metadata": {},
   "source": [
    "## Neural Network Training\n",
    "### Hyperparameters\n",
    "Tune the following parameters:\n",
    "\n",
    "- Set `num_epochs` to the number of epochs.\n",
    "- Set `batch_size` to the batch size.\n",
    "- Set `rnn_size` to the size of the RNNs.\n",
    "- Set `embed_dim` to the size of the embedding.\n",
    "- Set `seq_length` to the length of sequence.\n",
    "- Set `learning_rate` to the learning rate.\n",
    "- Set `show_every_n_batches` to the number of batches the neural network should print progress."
   ]
  },
  {
   "cell_type": "code",
   "execution_count": 92,
   "metadata": {
    "collapsed": true
   },
   "outputs": [],
   "source": [
    "# Number of Epochs\n",
    "num_epochs = 300\n",
    "# Batch Size\n",
    "batch_size = 128\n",
    "# RNN Size\n",
    "rnn_size = 100\n",
    "# Embedding Dimension Size\n",
    "embed_dim = 300\n",
    "# Sequence Length\n",
    "seq_length = 10\n",
    "# Learning Rate\n",
    "learning_rate = 0.001\n",
    "# Show stats for every n number of batches\n",
    "show_every_n_batches = 100\n",
    "\n",
    "\"\"\"\n",
    "DON'T MODIFY ANYTHING IN THIS CELL THAT IS BELOW THIS LINE\n",
    "\"\"\"\n",
    "save_dir = './save'"
   ]
  },
  {
   "cell_type": "markdown",
   "metadata": {},
   "source": [
    "### Build the Graph\n",
    "Build the graph using the neural network you implemented."
   ]
  },
  {
   "cell_type": "code",
   "execution_count": 93,
   "metadata": {
    "collapsed": true
   },
   "outputs": [],
   "source": [
    "\"\"\"\n",
    "DON'T MODIFY ANYTHING IN THIS CELL\n",
    "\"\"\"\n",
    "from tensorflow.contrib import seq2seq\n",
    "\n",
    "train_graph = tf.Graph()\n",
    "with train_graph.as_default():\n",
    "    vocab_size = len(int_to_vocab)\n",
    "    input_text, targets, lr = get_inputs()\n",
    "    input_data_shape = tf.shape(input_text)\n",
    "    cell, initial_state = get_init_cell(input_data_shape[0], rnn_size)\n",
    "    logits, final_state = build_nn(cell, rnn_size, input_text, vocab_size, embed_dim)\n",
    "\n",
    "    # Probabilities for generating words\n",
    "    probs = tf.nn.softmax(logits, name='probs')\n",
    "\n",
    "    # Loss function\n",
    "    cost = seq2seq.sequence_loss(\n",
    "        logits,\n",
    "        targets,\n",
    "        tf.ones([input_data_shape[0], input_data_shape[1]]))\n",
    "\n",
    "    # Optimizer\n",
    "    optimizer = tf.train.AdamOptimizer(lr)\n",
    "\n",
    "    # Gradient Clipping\n",
    "    gradients = optimizer.compute_gradients(cost)\n",
    "    capped_gradients = [(tf.clip_by_value(grad, -1., 1.), var) for grad, var in gradients if grad is not None]\n",
    "    train_op = optimizer.apply_gradients(capped_gradients)"
   ]
  },
  {
   "cell_type": "markdown",
   "metadata": {},
   "source": [
    "## Train\n",
    "Train the neural network on the preprocessed data.  If you have a hard time getting a good loss, check the [forms](https://discussions.udacity.com/) to see if anyone is having the same problem."
   ]
  },
  {
   "cell_type": "code",
   "execution_count": 94,
   "metadata": {},
   "outputs": [
    {
     "name": "stdout",
     "output_type": "stream",
     "text": [
      "Epoch   0 Batch    0/53   train_loss = 8.822\n",
      "Epoch   1 Batch   47/53   train_loss = 5.953\n",
      "Epoch   3 Batch   41/53   train_loss = 5.871\n",
      "Epoch   5 Batch   35/53   train_loss = 5.930\n",
      "Epoch   7 Batch   29/53   train_loss = 6.060\n",
      "Epoch   9 Batch   23/53   train_loss = 6.117\n",
      "Epoch  11 Batch   17/53   train_loss = 6.014\n",
      "Epoch  13 Batch   11/53   train_loss = 5.864\n",
      "Epoch  15 Batch    5/53   train_loss = 5.964\n",
      "Epoch  16 Batch   52/53   train_loss = 5.839\n",
      "Epoch  18 Batch   46/53   train_loss = 5.976\n",
      "Epoch  20 Batch   40/53   train_loss = 6.032\n",
      "Epoch  22 Batch   34/53   train_loss = 5.990\n",
      "Epoch  24 Batch   28/53   train_loss = 5.881\n",
      "Epoch  26 Batch   22/53   train_loss = 5.904\n",
      "Epoch  28 Batch   16/53   train_loss = 5.962\n",
      "Epoch  30 Batch   10/53   train_loss = 5.932\n",
      "Epoch  32 Batch    4/53   train_loss = 5.955\n",
      "Epoch  33 Batch   51/53   train_loss = 5.950\n",
      "Epoch  35 Batch   45/53   train_loss = 5.799\n",
      "Epoch  37 Batch   39/53   train_loss = 5.972\n",
      "Epoch  39 Batch   33/53   train_loss = 5.855\n",
      "Epoch  41 Batch   27/53   train_loss = 5.695\n",
      "Epoch  43 Batch   21/53   train_loss = 5.505\n",
      "Epoch  45 Batch   15/53   train_loss = 5.267\n",
      "Epoch  47 Batch    9/53   train_loss = 5.200\n",
      "Epoch  49 Batch    3/53   train_loss = 4.842\n",
      "Epoch  50 Batch   50/53   train_loss = 4.903\n",
      "Epoch  52 Batch   44/53   train_loss = 4.771\n",
      "Epoch  54 Batch   38/53   train_loss = 4.632\n",
      "Epoch  56 Batch   32/53   train_loss = 4.605\n",
      "Epoch  58 Batch   26/53   train_loss = 4.758\n",
      "Epoch  60 Batch   20/53   train_loss = 4.703\n",
      "Epoch  62 Batch   14/53   train_loss = 4.489\n",
      "Epoch  64 Batch    8/53   train_loss = 4.370\n",
      "Epoch  66 Batch    2/53   train_loss = 4.281\n",
      "Epoch  67 Batch   49/53   train_loss = 4.301\n",
      "Epoch  69 Batch   43/53   train_loss = 4.159\n",
      "Epoch  71 Batch   37/53   train_loss = 4.220\n",
      "Epoch  73 Batch   31/53   train_loss = 4.098\n",
      "Epoch  75 Batch   25/53   train_loss = 4.317\n",
      "Epoch  77 Batch   19/53   train_loss = 3.966\n",
      "Epoch  79 Batch   13/53   train_loss = 4.127\n",
      "Epoch  81 Batch    7/53   train_loss = 4.248\n",
      "Epoch  83 Batch    1/53   train_loss = 4.023\n",
      "Epoch  84 Batch   48/53   train_loss = 4.040\n",
      "Epoch  86 Batch   42/53   train_loss = 3.924\n",
      "Epoch  88 Batch   36/53   train_loss = 3.880\n",
      "Epoch  90 Batch   30/53   train_loss = 4.011\n",
      "Epoch  92 Batch   24/53   train_loss = 3.862\n",
      "Epoch  94 Batch   18/53   train_loss = 3.905\n",
      "Epoch  96 Batch   12/53   train_loss = 3.706\n",
      "Epoch  98 Batch    6/53   train_loss = 3.700\n",
      "Epoch 100 Batch    0/53   train_loss = 3.859\n",
      "Epoch 101 Batch   47/53   train_loss = 3.662\n",
      "Epoch 103 Batch   41/53   train_loss = 3.569\n",
      "Epoch 105 Batch   35/53   train_loss = 3.608\n",
      "Epoch 107 Batch   29/53   train_loss = 3.608\n",
      "Epoch 109 Batch   23/53   train_loss = 3.652\n",
      "Epoch 111 Batch   17/53   train_loss = 3.462\n",
      "Epoch 113 Batch   11/53   train_loss = 3.425\n",
      "Epoch 115 Batch    5/53   train_loss = 3.526\n",
      "Epoch 116 Batch   52/53   train_loss = 3.394\n",
      "Epoch 118 Batch   46/53   train_loss = 3.422\n",
      "Epoch 120 Batch   40/53   train_loss = 3.519\n",
      "Epoch 122 Batch   34/53   train_loss = 3.343\n",
      "Epoch 124 Batch   28/53   train_loss = 3.200\n",
      "Epoch 126 Batch   22/53   train_loss = 3.235\n",
      "Epoch 128 Batch   16/53   train_loss = 3.260\n",
      "Epoch 130 Batch   10/53   train_loss = 3.219\n",
      "Epoch 132 Batch    4/53   train_loss = 3.262\n",
      "Epoch 133 Batch   51/53   train_loss = 3.232\n",
      "Epoch 135 Batch   45/53   train_loss = 3.158\n",
      "Epoch 137 Batch   39/53   train_loss = 3.102\n",
      "Epoch 139 Batch   33/53   train_loss = 3.084\n",
      "Epoch 141 Batch   27/53   train_loss = 3.119\n",
      "Epoch 143 Batch   21/53   train_loss = 3.021\n",
      "Epoch 145 Batch   15/53   train_loss = 3.059\n",
      "Epoch 147 Batch    9/53   train_loss = 2.915\n",
      "Epoch 149 Batch    3/53   train_loss = 2.919\n",
      "Epoch 150 Batch   50/53   train_loss = 2.989\n",
      "Epoch 152 Batch   44/53   train_loss = 2.943\n",
      "Epoch 154 Batch   38/53   train_loss = 2.861\n",
      "Epoch 156 Batch   32/53   train_loss = 2.786\n",
      "Epoch 158 Batch   26/53   train_loss = 2.906\n",
      "Epoch 160 Batch   20/53   train_loss = 2.854\n",
      "Epoch 162 Batch   14/53   train_loss = 2.787\n",
      "Epoch 164 Batch    8/53   train_loss = 2.660\n",
      "Epoch 166 Batch    2/53   train_loss = 2.765\n",
      "Epoch 167 Batch   49/53   train_loss = 2.687\n",
      "Epoch 169 Batch   43/53   train_loss = 2.637\n",
      "Epoch 171 Batch   37/53   train_loss = 2.648\n",
      "Epoch 173 Batch   31/53   train_loss = 2.586\n",
      "Epoch 175 Batch   25/53   train_loss = 2.735\n",
      "Epoch 177 Batch   19/53   train_loss = 2.541\n",
      "Epoch 179 Batch   13/53   train_loss = 2.645\n",
      "Epoch 181 Batch    7/53   train_loss = 2.658\n",
      "Epoch 183 Batch    1/53   train_loss = 2.386\n",
      "Epoch 184 Batch   48/53   train_loss = 2.407\n",
      "Epoch 186 Batch   42/53   train_loss = 2.551\n",
      "Epoch 188 Batch   36/53   train_loss = 2.509\n",
      "Epoch 190 Batch   30/53   train_loss = 2.448\n",
      "Epoch 192 Batch   24/53   train_loss = 2.416\n",
      "Epoch 194 Batch   18/53   train_loss = 2.547\n",
      "Epoch 196 Batch   12/53   train_loss = 2.367\n",
      "Epoch 198 Batch    6/53   train_loss = 2.370\n",
      "Epoch 200 Batch    0/53   train_loss = 2.411\n",
      "Epoch 201 Batch   47/53   train_loss = 2.350\n",
      "Epoch 203 Batch   41/53   train_loss = 2.270\n",
      "Epoch 205 Batch   35/53   train_loss = 2.263\n",
      "Epoch 207 Batch   29/53   train_loss = 2.224\n",
      "Epoch 209 Batch   23/53   train_loss = 2.325\n",
      "Epoch 211 Batch   17/53   train_loss = 2.142\n",
      "Epoch 213 Batch   11/53   train_loss = 2.167\n",
      "Epoch 215 Batch    5/53   train_loss = 2.278\n",
      "Epoch 216 Batch   52/53   train_loss = 2.251\n",
      "Epoch 218 Batch   46/53   train_loss = 2.229\n",
      "Epoch 220 Batch   40/53   train_loss = 2.179\n",
      "Epoch 222 Batch   34/53   train_loss = 2.157\n",
      "Epoch 224 Batch   28/53   train_loss = 2.019\n",
      "Epoch 226 Batch   22/53   train_loss = 2.120\n",
      "Epoch 228 Batch   16/53   train_loss = 2.070\n",
      "Epoch 230 Batch   10/53   train_loss = 2.024\n",
      "Epoch 232 Batch    4/53   train_loss = 2.083\n",
      "Epoch 233 Batch   51/53   train_loss = 2.029\n",
      "Epoch 235 Batch   45/53   train_loss = 2.061\n",
      "Epoch 237 Batch   39/53   train_loss = 1.952\n",
      "Epoch 239 Batch   33/53   train_loss = 1.953\n",
      "Epoch 241 Batch   27/53   train_loss = 2.009\n",
      "Epoch 243 Batch   21/53   train_loss = 1.878\n",
      "Epoch 245 Batch   15/53   train_loss = 1.969\n",
      "Epoch 247 Batch    9/53   train_loss = 1.814\n",
      "Epoch 249 Batch    3/53   train_loss = 1.949\n",
      "Epoch 250 Batch   50/53   train_loss = 1.936\n",
      "Epoch 252 Batch   44/53   train_loss = 1.992\n",
      "Epoch 254 Batch   38/53   train_loss = 1.871\n",
      "Epoch 256 Batch   32/53   train_loss = 1.803\n",
      "Epoch 258 Batch   26/53   train_loss = 1.750\n",
      "Epoch 260 Batch   20/53   train_loss = 1.800\n",
      "Epoch 262 Batch   14/53   train_loss = 1.812\n",
      "Epoch 264 Batch    8/53   train_loss = 1.717\n",
      "Epoch 266 Batch    2/53   train_loss = 1.805\n",
      "Epoch 267 Batch   49/53   train_loss = 1.746\n",
      "Epoch 269 Batch   43/53   train_loss = 1.772\n",
      "Epoch 271 Batch   37/53   train_loss = 1.758\n",
      "Epoch 273 Batch   31/53   train_loss = 1.667\n",
      "Epoch 275 Batch   25/53   train_loss = 1.809\n",
      "Epoch 277 Batch   19/53   train_loss = 1.696\n",
      "Epoch 279 Batch   13/53   train_loss = 1.761\n",
      "Epoch 281 Batch    7/53   train_loss = 1.736\n",
      "Epoch 283 Batch    1/53   train_loss = 1.562\n",
      "Epoch 284 Batch   48/53   train_loss = 1.557\n",
      "Epoch 286 Batch   42/53   train_loss = 1.673\n",
      "Epoch 288 Batch   36/53   train_loss = 1.708\n",
      "Epoch 290 Batch   30/53   train_loss = 1.602\n",
      "Epoch 292 Batch   24/53   train_loss = 1.536\n",
      "Epoch 294 Batch   18/53   train_loss = 1.602\n",
      "Epoch 296 Batch   12/53   train_loss = 1.530\n",
      "Epoch 298 Batch    6/53   train_loss = 1.540\n",
      "Model Trained and Saved\n"
     ]
    }
   ],
   "source": [
    "\"\"\"\n",
    "DON'T MODIFY ANYTHING IN THIS CELL\n",
    "\"\"\"\n",
    "batches = get_batches(int_text, batch_size, seq_length)\n",
    "\n",
    "with tf.Session(graph=train_graph) as sess:\n",
    "    sess.run(tf.global_variables_initializer())\n",
    "\n",
    "    for epoch_i in range(num_epochs):\n",
    "        state = sess.run(initial_state, {input_text: batches[0][0]})\n",
    "\n",
    "        for batch_i, (x, y) in enumerate(batches):\n",
    "            feed = {\n",
    "                input_text: x,\n",
    "                targets: y,\n",
    "                initial_state: state,\n",
    "                lr: learning_rate}\n",
    "            train_loss, state, _ = sess.run([cost, final_state, train_op], feed)\n",
    "\n",
    "            # Show every <show_every_n_batches> batches\n",
    "            if (epoch_i * len(batches) + batch_i) % show_every_n_batches == 0:\n",
    "                print('Epoch {:>3} Batch {:>4}/{}   train_loss = {:.3f}'.format(\n",
    "                    epoch_i,\n",
    "                    batch_i,\n",
    "                    len(batches),\n",
    "                    train_loss))\n",
    "\n",
    "    # Save Model\n",
    "    saver = tf.train.Saver()\n",
    "    saver.save(sess, save_dir)\n",
    "    print('Model Trained and Saved')"
   ]
  },
  {
   "cell_type": "markdown",
   "metadata": {},
   "source": [
    "## Save Parameters\n",
    "Save `seq_length` and `save_dir` for generating a new TV script."
   ]
  },
  {
   "cell_type": "code",
   "execution_count": 95,
   "metadata": {
    "collapsed": true
   },
   "outputs": [],
   "source": [
    "\"\"\"\n",
    "DON'T MODIFY ANYTHING IN THIS CELL\n",
    "\"\"\"\n",
    "# Save parameters for checkpoint\n",
    "helper.save_params((seq_length, save_dir))"
   ]
  },
  {
   "cell_type": "markdown",
   "metadata": {},
   "source": [
    "# Checkpoint"
   ]
  },
  {
   "cell_type": "code",
   "execution_count": 96,
   "metadata": {
    "collapsed": true
   },
   "outputs": [],
   "source": [
    "\"\"\"\n",
    "DON'T MODIFY ANYTHING IN THIS CELL\n",
    "\"\"\"\n",
    "import tensorflow as tf\n",
    "import numpy as np\n",
    "import helper\n",
    "import problem_unittests as tests\n",
    "\n",
    "_, vocab_to_int, int_to_vocab, token_dict = helper.load_preprocess()\n",
    "seq_length, load_dir = helper.load_params()"
   ]
  },
  {
   "cell_type": "markdown",
   "metadata": {},
   "source": [
    "## Implement Generate Functions\n",
    "### Get Tensors\n",
    "Get tensors from `loaded_graph` using the function [`get_tensor_by_name()`](https://www.tensorflow.org/api_docs/python/tf/Graph#get_tensor_by_name).  Get the tensors using the following names:\n",
    "- \"input:0\"\n",
    "- \"initial_state:0\"\n",
    "- \"final_state:0\"\n",
    "- \"probs:0\"\n",
    "\n",
    "Return the tensors in the following tuple `(InputTensor, InitialStateTensor, FinalStateTensor, ProbsTensor)` "
   ]
  },
  {
   "cell_type": "code",
   "execution_count": 97,
   "metadata": {},
   "outputs": [
    {
     "name": "stdout",
     "output_type": "stream",
     "text": [
      "Tests Passed\n"
     ]
    }
   ],
   "source": [
    "def get_tensors(loaded_graph):\n",
    "    \"\"\"\n",
    "    Get input, initial state, final state, and probabilities tensor from <loaded_graph>\n",
    "    :param loaded_graph: TensorFlow graph loaded from file\n",
    "    :return: Tuple (InputTensor, InitialStateTensor, FinalStateTensor, ProbsTensor)\n",
    "    \"\"\"\n",
    "    in_ = loaded_graph.get_tensor_by_name(\"input:0\")\n",
    "    init_state_ = loaded_graph.get_tensor_by_name(\"initial_state:0\")\n",
    "    finl_state_ = loaded_graph.get_tensor_by_name(\"final_state:0\")\n",
    "    probs_ = loaded_graph.get_tensor_by_name(\"probs:0\")\n",
    "    \n",
    "    return in_, init_state_, finl_state_, probs_ \n",
    "\n",
    "\n",
    "\"\"\"\n",
    "DON'T MODIFY ANYTHING IN THIS CELL THAT IS BELOW THIS LINE\n",
    "\"\"\"\n",
    "tests.test_get_tensors(get_tensors)"
   ]
  },
  {
   "cell_type": "markdown",
   "metadata": {},
   "source": [
    "### Choose Word\n",
    "Implement the `pick_word()` function to select the next word using `probabilities`."
   ]
  },
  {
   "cell_type": "code",
   "execution_count": 98,
   "metadata": {},
   "outputs": [
    {
     "name": "stdout",
     "output_type": "stream",
     "text": [
      "Tests Passed\n"
     ]
    }
   ],
   "source": [
    "def pick_word(probabilities, int_to_vocab):\n",
    "    \"\"\"\n",
    "    Pick the next word in the generated text\n",
    "    :param probabilities: Probabilites of the next word\n",
    "    :param int_to_vocab: Dictionary of word ids as the keys and words as the values\n",
    "    :return: String of the predicted word\n",
    "    \"\"\"\n",
    "    # get max idx and use it\n",
    "    max_ids = np.argmax(probabilities)\n",
    "    return int_to_vocab[max_ids]\n",
    "\n",
    "\n",
    "\"\"\"\n",
    "DON'T MODIFY ANYTHING IN THIS CELL THAT IS BELOW THIS LINE\n",
    "\"\"\"\n",
    "tests.test_pick_word(pick_word)"
   ]
  },
  {
   "cell_type": "markdown",
   "metadata": {},
   "source": [
    "## Generate TV Script\n",
    "This will generate the TV script for you.  Set `gen_length` to the length of TV script you want to generate."
   ]
  },
  {
   "cell_type": "code",
   "execution_count": 104,
   "metadata": {},
   "outputs": [
    {
     "name": "stdout",
     "output_type": "stream",
     "text": [
      "INFO:tensorflow:Restoring parameters from ./save\n",
      "moe_szyslak:(singing) breaking us down...\n",
      "homer_simpson:(sings) i'll be nice to get you to my car / but they got a beer.\n",
      "homer_simpson:(mad) hey, you gotta repay my day that beer?\n",
      "homer_simpson: well, i can't my way to buy this money about me...(snaps fingers) effervescent!(sobs)\n",
      "moe_szyslak:(to moe) yeah. what happened?\n",
      "homer_simpson:(sings) i knew you'd want to get drunk on night.\n",
      "homer_simpson: that's me! ow!\n",
      "homer_simpson:(sings) i'll get mini-dumpsters of big car, bam of comin' back!\n",
      "moe_szyslak:(sings) my adeleine...\n",
      "moe_szyslak: well, the funniest ingredient.....(laughs) hey, moe!\n",
      "homer_simpson:(sings) i'll be shot there, but right!(smug laugh)\n",
      "moe_szyslak: that's the second ones, moe. you got a new bit clean.\n",
      "moe_szyslak: i got this years, homer, i got the money?\n",
      "moe_szyslak:(sings) i'll tell you it back.\n",
      "homer_simpson:(to homer) i can live in here.\n",
      "moe_szyslak:(terrified) don't leave me a little slow!(beat) i'm a shotgun!\n",
      "moe_szyslak: what are you...(to self) homer. and some second i can help you a beer.\n",
      "homer_simpson:(surprised) can't me a beer for the clown!\n",
      "moe_szyslak: i got your\" texas roses job, i gotta write that things up you.\n",
      "moe_szyslak: well, i got you a little advice.\n",
      "moe_szyslak: hey, a duel? i got up here.\n",
      "homer_simpson: and guys, this year's treasure it.\n",
      "moe_szyslak:(cutting to bottle) now, i can't do, barn?\n",
      "moe_szyslak: yeah, i got your great time you're just...(to moe) barkeep, the\" flaming\" park\" the song and do i have out and wally about that.\n",
      "moe_szyslak:(terrified noise) you know what we never drink about you.\n",
      "moe_szyslak: hey, homer, i need some quality in his knowledge of france.\n",
      "moe_szyslak: you mean, moe? / i be...(to self, contemptuous) that's the coupon hotline now, no.\n",
      "moe_szyslak:(sings) you know how it takes me all friends...\n",
      "moe_szyslak: hey, that's it!\n",
      "moe_szyslak: oh, that's it. i got a money!\n",
      "moe_szyslak: hey homer, no, no way....\n",
      "moe_szyslak:(to homer) no, i don't know, i gotta\n"
     ]
    }
   ],
   "source": [
    "gen_length = 500\n",
    "# homer_simpson, moe_szyslak, or Barney_Gumble\n",
    "prime_word = 'moe_szyslak'\n",
    "\n",
    "\"\"\"\n",
    "DON'T MODIFY ANYTHING IN THIS CELL THAT IS BELOW THIS LINE\n",
    "\"\"\"\n",
    "loaded_graph = tf.Graph()\n",
    "with tf.Session(graph=loaded_graph) as sess:\n",
    "    # Load saved model\n",
    "    loader = tf.train.import_meta_graph(load_dir + '.meta')\n",
    "    loader.restore(sess, load_dir)\n",
    "\n",
    "    # Get Tensors from loaded model\n",
    "    input_text, initial_state, final_state, probs = get_tensors(loaded_graph)\n",
    "\n",
    "    # Sentences generation setup\n",
    "    gen_sentences = [prime_word + ':']\n",
    "    prev_state = sess.run(initial_state, {input_text: np.array([[1]])})\n",
    "\n",
    "    # Generate sentences\n",
    "    for n in range(gen_length):\n",
    "        # Dynamic Input\n",
    "        dyn_input = [[vocab_to_int[word] for word in gen_sentences[-seq_length:]]]\n",
    "        dyn_seq_length = len(dyn_input[0])\n",
    "\n",
    "        # Get Prediction\n",
    "        probabilities, prev_state = sess.run(\n",
    "            [probs, final_state],\n",
    "            {input_text: dyn_input, initial_state: prev_state})\n",
    "        \n",
    "        pred_word = pick_word(probabilities[dyn_seq_length-1], int_to_vocab)\n",
    "\n",
    "        gen_sentences.append(pred_word)\n",
    "    \n",
    "    # Remove tokens\n",
    "    tv_script = ' '.join(gen_sentences)\n",
    "    for key, token in token_dict.items():\n",
    "        ending = ' ' if key in ['\\n', '(', '\"'] else ''\n",
    "        tv_script = tv_script.replace(' ' + token.lower(), key)\n",
    "    tv_script = tv_script.replace('\\n ', '\\n')\n",
    "    tv_script = tv_script.replace('( ', '(')\n",
    "        \n",
    "    print(tv_script)"
   ]
  },
  {
   "cell_type": "markdown",
   "metadata": {},
   "source": [
    "# The TV Script is Nonsensical\n",
    "It's ok if the TV script doesn't make any sense.  We trained on less than a megabyte of text.  In order to get good results, you'll have to use a smaller vocabulary or get more data.  Luckly there's more data!  As we mentioned in the begging of this project, this is a subset of [another dataset](https://www.kaggle.com/wcukierski/the-simpsons-by-the-data).  We didn't have you train on all the data, because that would take too long.  However, you are free to train your neural network on all the data.  After you complete the project, of course.\n",
    "# Submitting This Project\n",
    "When submitting this project, make sure to run all the cells before saving the notebook. Save the notebook file as \"dlnd_tv_script_generation.ipynb\" and save it as a HTML file under \"File\" -> \"Download as\". Include the \"helper.py\" and \"problem_unittests.py\" files in your submission."
   ]
  }
 ],
 "metadata": {
  "kernelspec": {
   "display_name": "Python 3",
   "language": "python",
   "name": "python3"
  },
  "language_info": {
   "codemirror_mode": {
    "name": "ipython",
    "version": 3
   },
   "file_extension": ".py",
   "mimetype": "text/x-python",
   "name": "python",
   "nbconvert_exporter": "python",
   "pygments_lexer": "ipython3",
   "version": "3.5.3"
  },
  "widgets": {
   "state": {},
   "version": "1.1.2"
  }
 },
 "nbformat": 4,
 "nbformat_minor": 1
}
